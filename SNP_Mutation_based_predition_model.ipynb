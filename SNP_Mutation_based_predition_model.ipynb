{
 "cells": [
  {
   "cell_type": "markdown",
   "id": "ab68b37f",
   "metadata": {},
   "source": [
    "# <center> Two Day Hands-on Workshop on Machine Learning Approaches in Bacterial Genomics</center>\n",
    "# <center> Conducted by DBT-BIC at SASTRA University\n",
    " <center> This work was supported by DBT grant BT/PR40144/BTIS/137/46/2022. Users are requested to acknowledge this grant when utilizing this resource </center>"
   ]
  },
  {
   "cell_type": "markdown",
   "id": "e58c25c4",
   "metadata": {},
   "source": [
    "## <u><center> SNP Based AMR Phenotype Prediction for Tigecycline Resistance </center></u>"
   ]
  },
  {
   "cell_type": "markdown",
   "id": "cdea89ce",
   "metadata": {},
   "source": [
    "### <b>This notebook predicts the tigecycline resistant and susceptible phenotype for acinetobacter baumannii isolates collected from public databases using missence SNPs present in protein coding regions. It uses five different machine learning models such as Logistic Regression, Decision Tree, Random Forest, Support Vector Machine and eXtreme Gradiant Boosting. The hyper parameters of the models are tunied using Grid Search and evaluated using confusion matrix and classification report</b>"
   ]
  },
  {
   "cell_type": "code",
   "execution_count": 1,
   "id": "62b380f1",
   "metadata": {},
   "outputs": [],
   "source": [
    "# Load the necessary libraries \n",
    "\n",
    "import numpy as np\n",
    "import os\n",
    "import pandas as pd\n",
    "import matplotlib.pyplot as plt\n",
    "import seaborn as sns\n",
    "from sklearn.model_selection import train_test_split,GridSearchCV\n",
    "from sklearn.linear_model import LogisticRegression\n",
    "from sklearn.metrics import roc_auc_score,roc_curve,classification_report,confusion_matrix\n",
    "from sklearn.tree import DecisionTreeClassifier\n",
    "from sklearn.ensemble import RandomForestClassifier\n",
    "from sklearn import svm\n",
    "import xgboost as xgb\n",
    "from scipy.stats import chi2_contingency\n",
    "from sklearn.feature_selection import mutual_info_classif\n",
    "\n",
    "import warnings\n",
    "warnings.filterwarnings(\"ignore\")"
   ]
  },
  {
   "cell_type": "code",
   "execution_count": 2,
   "id": "9bc296bf",
   "metadata": {},
   "outputs": [],
   "source": [
    "# Setting random seed for reproducibility\n",
    "\n",
    "np.random.seed(42)"
   ]
  },
  {
   "cell_type": "markdown",
   "id": "cdb630e7",
   "metadata": {},
   "source": [
    "# Missense SNP Data Preprocessing"
   ]
  },
  {
   "cell_type": "markdown",
   "id": "16de3732",
   "metadata": {},
   "source": [
    "### <b>Here we are extracting the high quality missense mutations from the multiple vcf file and converting them as a presence absense matrix to save it as a csv file or dataframe </b>"
   ]
  },
  {
   "cell_type": "raw",
   "id": "73b271ea",
   "metadata": {},
   "source": [
    "\"\"\"\n",
    "Create two variables, one holds the path of the vcf file from the snippy output for resistant isolates.\n",
    "Another variable host the new path where the missense snp alone is filtered and stored as csv\n",
    "\"\"\" \n",
    "\n",
    "vcf_file_path=\"VCF_file/\"\n",
    "csv_file_path_for_missense=\"CSV_file/\""
   ]
  },
  {
   "cell_type": "markdown",
   "id": "80bd6bee",
   "metadata": {},
   "source": [
    "The below code will iterate on the vcf file present in the folder to filter missense mutation and store the Locus tag, mutation and file name in a csv file \n",
    "\n",
    "<u>Sample vcf file</u>\n",
    "\n",
    "CP045110\t2173\t.\tGGACG\tTGACA\t577.15\t.\tAB=0;AO=17;DP=17;QA=663;QR=0;RO=0;TYPE=complex;ANN=TGACA|missense_variant|HIGH|FQU82_00002|GENE_FQU82_00002|transcript|TRANSCRIPT_FQU82_00002|protein_coding|1/1|c.531_535delGGACGinsTGACA|p.Gly179Ser|531/1128|531/1128|177/375||\tGT:DP:RO:QR:AO:QA:GL\t1/1:17:0:0:17:663:-60.0071,-5.11751,0\n",
    "\n",
    "<u> Final csv after processing </u>\n",
    "\n",
    "FQU82_00002|p.Gly179Ser &nbsp; file_name"
   ]
  },
  {
   "cell_type": "raw",
   "id": "0e8b296d",
   "metadata": {},
   "source": [
    "for i in os.listdir(vcf_file_path):\n",
    "    if(i.endswith(\".vcf\")): \n",
    "        snp=pd.read_csv(vcf_file_path+i,delimiter=\"\\t\",comment=\"#\",header=None)\n",
    "        snp.columns=[\"CHROM\",\"POS\",\"ID\",\"REF\",\"ALT\",\"QUAL\",\"FILTER\",\"INFO\",\"FORMAT\",\"SRR\"]\n",
    "        snp_info=snp['INFO'].str.split('|', expand=True)\n",
    "        snp_info[\"#FILE\"]=i\n",
    "        snp_info_high=snp_info[snp_info[2]=='HIGH']\n",
    "        snp_info_high_miss=snp_info_high[snp_info_high[1].str.contains(\"missense_variant\")]\n",
    "        snp_info_high_miss.fillna('NA',inplace=True)\n",
    "        if(len(snp_info_high_miss)>0):\n",
    "            snp_info_high_miss[\"Mutation\"]=snp_info_high_miss[[3,10]].astype(str).agg('|'.join, axis=1)\n",
    "            snp_info_high_miss[[\"Mutation\",\"#FILE\"]].to_csv(csv_file_path_for_missense+i+\".csv\",index=False)\n",
    "\n",
    "# Listing all the path of the csv file to a variable\n",
    "\n",
    "csv=[]\n",
    "for i in os.listdir(csv_file_path_for_missense):\n",
    "    if(i.endswith(\".csv\")): \n",
    "        csv.append(csv_file_path_for_missense+i)\n",
    "        \n",
    "        \n",
    "print(f\"The total number of csv files is {len(csv)}\")\n",
    "\n",
    "# Concatinating the contents of the csv to one single variable\n",
    "\n",
    "combine_data=pd.concat([pd.read_csv(i) for i in csv])\n",
    "\n",
    "\n",
    "# Load the combined data --- Here\n",
    "\n",
    "\n",
    "# Creating presense absence matrix\n",
    "\n",
    "snp=pd.DataFrame(pd.crosstab(combine_data[\"#FILE\"], combine_data[\"Mutation\"]).reset_index())\n",
    "\n",
    "# View the created dataframe\n",
    "\n",
    "snp.head()\n",
    "\n",
    "print(f\"\"\"The shape of the created dataset is {snp.shape} \n",
    "      which holds {snp.shape[0]} rows and {snp.shape[1]} columns\"\"\")\n",
    "      \n",
    "      \n",
    "snp.to_csv(\"Final_Mutation_data.csv\",index=False)"
   ]
  },
  {
   "cell_type": "code",
   "execution_count": null,
   "id": "969ec33a",
   "metadata": {},
   "outputs": [],
   "source": []
  },
  {
   "cell_type": "code",
   "execution_count": 3,
   "id": "b7bfa9d0",
   "metadata": {},
   "outputs": [],
   "source": [
    "snp=pd.read_csv(\"Final_Mutation_data_Ecoli.csv\")"
   ]
  },
  {
   "cell_type": "code",
   "execution_count": 4,
   "id": "5061d59e",
   "metadata": {},
   "outputs": [
    {
     "data": {
      "text/html": [
       "<div>\n",
       "<style scoped>\n",
       "    .dataframe tbody tr th:only-of-type {\n",
       "        vertical-align: middle;\n",
       "    }\n",
       "\n",
       "    .dataframe tbody tr th {\n",
       "        vertical-align: top;\n",
       "    }\n",
       "\n",
       "    .dataframe thead th {\n",
       "        text-align: right;\n",
       "    }\n",
       "</style>\n",
       "<table border=\"1\" class=\"dataframe\">\n",
       "  <thead>\n",
       "    <tr style=\"text-align: right;\">\n",
       "      <th></th>\n",
       "      <th>#FILE</th>\n",
       "      <th>b0188|p.Lys429fs</th>\n",
       "      <th>b0295|p.Glu54fs</th>\n",
       "      <th>b0295|p.Gly26fs</th>\n",
       "      <th>b0344|p.Ile867fs</th>\n",
       "      <th>b0344|p.Ser862fs</th>\n",
       "      <th>b0363|p.Gln92fs</th>\n",
       "      <th>b0508|p.Glu70fs</th>\n",
       "      <th>b0518|p.Asp250fs</th>\n",
       "      <th>b0537|p.Trp269fs</th>\n",
       "      <th>...</th>\n",
       "      <th>b4532|p.Pro39fs</th>\n",
       "      <th>b4541|p.Asp20fs</th>\n",
       "      <th>b4541|p.Pro61fs</th>\n",
       "      <th>b4583|p.Cys158fs</th>\n",
       "      <th>b4583|p.Leu156fs</th>\n",
       "      <th>b4615|p.Lys108fs</th>\n",
       "      <th>b4674|p.Lys2fs</th>\n",
       "      <th>b4733|p.Ser2fs</th>\n",
       "      <th>b4755|p.Cys37fs</th>\n",
       "      <th>b4791|p.Ile23fs</th>\n",
       "    </tr>\n",
       "  </thead>\n",
       "  <tbody>\n",
       "    <tr>\n",
       "      <th>0</th>\n",
       "      <td>1328432.3.fna.vcf</td>\n",
       "      <td>1</td>\n",
       "      <td>1</td>\n",
       "      <td>0</td>\n",
       "      <td>0</td>\n",
       "      <td>0</td>\n",
       "      <td>0</td>\n",
       "      <td>0</td>\n",
       "      <td>0</td>\n",
       "      <td>0</td>\n",
       "      <td>...</td>\n",
       "      <td>0</td>\n",
       "      <td>0</td>\n",
       "      <td>0</td>\n",
       "      <td>1</td>\n",
       "      <td>0</td>\n",
       "      <td>0</td>\n",
       "      <td>0</td>\n",
       "      <td>0</td>\n",
       "      <td>0</td>\n",
       "      <td>0</td>\n",
       "    </tr>\n",
       "    <tr>\n",
       "      <th>1</th>\n",
       "      <td>1328433.3.fna.vcf</td>\n",
       "      <td>0</td>\n",
       "      <td>1</td>\n",
       "      <td>0</td>\n",
       "      <td>1</td>\n",
       "      <td>1</td>\n",
       "      <td>0</td>\n",
       "      <td>0</td>\n",
       "      <td>0</td>\n",
       "      <td>1</td>\n",
       "      <td>...</td>\n",
       "      <td>0</td>\n",
       "      <td>0</td>\n",
       "      <td>1</td>\n",
       "      <td>0</td>\n",
       "      <td>0</td>\n",
       "      <td>0</td>\n",
       "      <td>0</td>\n",
       "      <td>0</td>\n",
       "      <td>0</td>\n",
       "      <td>0</td>\n",
       "    </tr>\n",
       "    <tr>\n",
       "      <th>2</th>\n",
       "      <td>1328434.3.fna.vcf</td>\n",
       "      <td>0</td>\n",
       "      <td>1</td>\n",
       "      <td>1</td>\n",
       "      <td>0</td>\n",
       "      <td>0</td>\n",
       "      <td>0</td>\n",
       "      <td>0</td>\n",
       "      <td>0</td>\n",
       "      <td>0</td>\n",
       "      <td>...</td>\n",
       "      <td>0</td>\n",
       "      <td>0</td>\n",
       "      <td>0</td>\n",
       "      <td>0</td>\n",
       "      <td>1</td>\n",
       "      <td>0</td>\n",
       "      <td>0</td>\n",
       "      <td>0</td>\n",
       "      <td>0</td>\n",
       "      <td>1</td>\n",
       "    </tr>\n",
       "    <tr>\n",
       "      <th>3</th>\n",
       "      <td>1438684.3.fna.vcf</td>\n",
       "      <td>0</td>\n",
       "      <td>1</td>\n",
       "      <td>0</td>\n",
       "      <td>1</td>\n",
       "      <td>1</td>\n",
       "      <td>0</td>\n",
       "      <td>0</td>\n",
       "      <td>0</td>\n",
       "      <td>1</td>\n",
       "      <td>...</td>\n",
       "      <td>0</td>\n",
       "      <td>0</td>\n",
       "      <td>1</td>\n",
       "      <td>0</td>\n",
       "      <td>0</td>\n",
       "      <td>0</td>\n",
       "      <td>0</td>\n",
       "      <td>0</td>\n",
       "      <td>0</td>\n",
       "      <td>0</td>\n",
       "    </tr>\n",
       "    <tr>\n",
       "      <th>4</th>\n",
       "      <td>562.22428.fna.vcf</td>\n",
       "      <td>0</td>\n",
       "      <td>1</td>\n",
       "      <td>1</td>\n",
       "      <td>0</td>\n",
       "      <td>0</td>\n",
       "      <td>0</td>\n",
       "      <td>0</td>\n",
       "      <td>0</td>\n",
       "      <td>1</td>\n",
       "      <td>...</td>\n",
       "      <td>0</td>\n",
       "      <td>0</td>\n",
       "      <td>1</td>\n",
       "      <td>0</td>\n",
       "      <td>0</td>\n",
       "      <td>0</td>\n",
       "      <td>0</td>\n",
       "      <td>0</td>\n",
       "      <td>0</td>\n",
       "      <td>0</td>\n",
       "    </tr>\n",
       "  </tbody>\n",
       "</table>\n",
       "<p>5 rows × 82 columns</p>\n",
       "</div>"
      ],
      "text/plain": [
       "               #FILE  b0188|p.Lys429fs  b0295|p.Glu54fs  b0295|p.Gly26fs  \\\n",
       "0  1328432.3.fna.vcf                 1                1                0   \n",
       "1  1328433.3.fna.vcf                 0                1                0   \n",
       "2  1328434.3.fna.vcf                 0                1                1   \n",
       "3  1438684.3.fna.vcf                 0                1                0   \n",
       "4  562.22428.fna.vcf                 0                1                1   \n",
       "\n",
       "   b0344|p.Ile867fs  b0344|p.Ser862fs  b0363|p.Gln92fs  b0508|p.Glu70fs  \\\n",
       "0                 0                 0                0                0   \n",
       "1                 1                 1                0                0   \n",
       "2                 0                 0                0                0   \n",
       "3                 1                 1                0                0   \n",
       "4                 0                 0                0                0   \n",
       "\n",
       "   b0518|p.Asp250fs  b0537|p.Trp269fs  ...  b4532|p.Pro39fs  b4541|p.Asp20fs  \\\n",
       "0                 0                 0  ...                0                0   \n",
       "1                 0                 1  ...                0                0   \n",
       "2                 0                 0  ...                0                0   \n",
       "3                 0                 1  ...                0                0   \n",
       "4                 0                 1  ...                0                0   \n",
       "\n",
       "   b4541|p.Pro61fs  b4583|p.Cys158fs  b4583|p.Leu156fs  b4615|p.Lys108fs  \\\n",
       "0                0                 1                 0                 0   \n",
       "1                1                 0                 0                 0   \n",
       "2                0                 0                 1                 0   \n",
       "3                1                 0                 0                 0   \n",
       "4                1                 0                 0                 0   \n",
       "\n",
       "   b4674|p.Lys2fs  b4733|p.Ser2fs  b4755|p.Cys37fs  b4791|p.Ile23fs  \n",
       "0               0               0                0                0  \n",
       "1               0               0                0                0  \n",
       "2               0               0                0                1  \n",
       "3               0               0                0                0  \n",
       "4               0               0                0                0  \n",
       "\n",
       "[5 rows x 82 columns]"
      ]
     },
     "execution_count": 4,
     "metadata": {},
     "output_type": "execute_result"
    }
   ],
   "source": [
    "snp.head()"
   ]
  },
  {
   "cell_type": "code",
   "execution_count": 5,
   "id": "d7ead1a5",
   "metadata": {},
   "outputs": [],
   "source": [
    "Label=pd.read_csv(\"Ecoli_Label.csv\")"
   ]
  },
  {
   "cell_type": "code",
   "execution_count": 6,
   "id": "23dd71e4",
   "metadata": {},
   "outputs": [
    {
     "data": {
      "text/html": [
       "<div>\n",
       "<style scoped>\n",
       "    .dataframe tbody tr th:only-of-type {\n",
       "        vertical-align: middle;\n",
       "    }\n",
       "\n",
       "    .dataframe tbody tr th {\n",
       "        vertical-align: top;\n",
       "    }\n",
       "\n",
       "    .dataframe thead th {\n",
       "        text-align: right;\n",
       "    }\n",
       "</style>\n",
       "<table border=\"1\" class=\"dataframe\">\n",
       "  <thead>\n",
       "    <tr style=\"text-align: right;\">\n",
       "      <th></th>\n",
       "      <th>#FILE</th>\n",
       "      <th>Class</th>\n",
       "    </tr>\n",
       "  </thead>\n",
       "  <tbody>\n",
       "    <tr>\n",
       "      <th>0</th>\n",
       "      <td>GCA_002994925.1.fna.vcf</td>\n",
       "      <td>1</td>\n",
       "    </tr>\n",
       "    <tr>\n",
       "      <th>1</th>\n",
       "      <td>GCA_014219485.1.fna.vcf</td>\n",
       "      <td>1</td>\n",
       "    </tr>\n",
       "    <tr>\n",
       "      <th>2</th>\n",
       "      <td>GCA_014219525.1.fna.vcf</td>\n",
       "      <td>1</td>\n",
       "    </tr>\n",
       "    <tr>\n",
       "      <th>3</th>\n",
       "      <td>GCA_014219545.1.fna.vcf</td>\n",
       "      <td>1</td>\n",
       "    </tr>\n",
       "    <tr>\n",
       "      <th>4</th>\n",
       "      <td>GCA_014219555.1.fna.vcf</td>\n",
       "      <td>1</td>\n",
       "    </tr>\n",
       "  </tbody>\n",
       "</table>\n",
       "</div>"
      ],
      "text/plain": [
       "                     #FILE  Class\n",
       "0  GCA_002994925.1.fna.vcf      1\n",
       "1  GCA_014219485.1.fna.vcf      1\n",
       "2  GCA_014219525.1.fna.vcf      1\n",
       "3  GCA_014219545.1.fna.vcf      1\n",
       "4  GCA_014219555.1.fna.vcf      1"
      ]
     },
     "execution_count": 6,
     "metadata": {},
     "output_type": "execute_result"
    }
   ],
   "source": [
    "Label.head()"
   ]
  },
  {
   "cell_type": "code",
   "execution_count": 7,
   "id": "c1264c50",
   "metadata": {},
   "outputs": [
    {
     "data": {
      "text/plain": [
       "(50, 2)"
      ]
     },
     "execution_count": 7,
     "metadata": {},
     "output_type": "execute_result"
    }
   ],
   "source": [
    "Label.shape"
   ]
  },
  {
   "cell_type": "code",
   "execution_count": 8,
   "id": "2176bae8",
   "metadata": {},
   "outputs": [],
   "source": [
    "#  Combine the SNP file with its Label file using merge funtion in pandas\n",
    "\n",
    "Combined_SNP_file_with_phenotype=pd.merge(snp,Label,on=\"#FILE\")"
   ]
  },
  {
   "cell_type": "code",
   "execution_count": 9,
   "id": "5d646476",
   "metadata": {},
   "outputs": [
    {
     "data": {
      "text/plain": [
       "(50, 83)"
      ]
     },
     "execution_count": 9,
     "metadata": {},
     "output_type": "execute_result"
    }
   ],
   "source": [
    "# check the shape of the newly created dataframe to keep track of the columns \n",
    "\n",
    "Combined_SNP_file_with_phenotype.shape"
   ]
  },
  {
   "cell_type": "code",
   "execution_count": 10,
   "id": "54ef5f09",
   "metadata": {},
   "outputs": [
    {
     "data": {
      "text/html": [
       "<div>\n",
       "<style scoped>\n",
       "    .dataframe tbody tr th:only-of-type {\n",
       "        vertical-align: middle;\n",
       "    }\n",
       "\n",
       "    .dataframe tbody tr th {\n",
       "        vertical-align: top;\n",
       "    }\n",
       "\n",
       "    .dataframe thead th {\n",
       "        text-align: right;\n",
       "    }\n",
       "</style>\n",
       "<table border=\"1\" class=\"dataframe\">\n",
       "  <thead>\n",
       "    <tr style=\"text-align: right;\">\n",
       "      <th></th>\n",
       "      <th>#FILE</th>\n",
       "      <th>b0188|p.Lys429fs</th>\n",
       "      <th>b0295|p.Glu54fs</th>\n",
       "      <th>b0295|p.Gly26fs</th>\n",
       "      <th>b0344|p.Ile867fs</th>\n",
       "      <th>b0344|p.Ser862fs</th>\n",
       "      <th>b0363|p.Gln92fs</th>\n",
       "      <th>b0508|p.Glu70fs</th>\n",
       "      <th>b0518|p.Asp250fs</th>\n",
       "      <th>b0537|p.Trp269fs</th>\n",
       "      <th>...</th>\n",
       "      <th>b4541|p.Asp20fs</th>\n",
       "      <th>b4541|p.Pro61fs</th>\n",
       "      <th>b4583|p.Cys158fs</th>\n",
       "      <th>b4583|p.Leu156fs</th>\n",
       "      <th>b4615|p.Lys108fs</th>\n",
       "      <th>b4674|p.Lys2fs</th>\n",
       "      <th>b4733|p.Ser2fs</th>\n",
       "      <th>b4755|p.Cys37fs</th>\n",
       "      <th>b4791|p.Ile23fs</th>\n",
       "      <th>Class</th>\n",
       "    </tr>\n",
       "  </thead>\n",
       "  <tbody>\n",
       "    <tr>\n",
       "      <th>0</th>\n",
       "      <td>1328432.3.fna.vcf</td>\n",
       "      <td>1</td>\n",
       "      <td>1</td>\n",
       "      <td>0</td>\n",
       "      <td>0</td>\n",
       "      <td>0</td>\n",
       "      <td>0</td>\n",
       "      <td>0</td>\n",
       "      <td>0</td>\n",
       "      <td>0</td>\n",
       "      <td>...</td>\n",
       "      <td>0</td>\n",
       "      <td>0</td>\n",
       "      <td>1</td>\n",
       "      <td>0</td>\n",
       "      <td>0</td>\n",
       "      <td>0</td>\n",
       "      <td>0</td>\n",
       "      <td>0</td>\n",
       "      <td>0</td>\n",
       "      <td>0</td>\n",
       "    </tr>\n",
       "    <tr>\n",
       "      <th>1</th>\n",
       "      <td>1328433.3.fna.vcf</td>\n",
       "      <td>0</td>\n",
       "      <td>1</td>\n",
       "      <td>0</td>\n",
       "      <td>1</td>\n",
       "      <td>1</td>\n",
       "      <td>0</td>\n",
       "      <td>0</td>\n",
       "      <td>0</td>\n",
       "      <td>1</td>\n",
       "      <td>...</td>\n",
       "      <td>0</td>\n",
       "      <td>1</td>\n",
       "      <td>0</td>\n",
       "      <td>0</td>\n",
       "      <td>0</td>\n",
       "      <td>0</td>\n",
       "      <td>0</td>\n",
       "      <td>0</td>\n",
       "      <td>0</td>\n",
       "      <td>0</td>\n",
       "    </tr>\n",
       "    <tr>\n",
       "      <th>2</th>\n",
       "      <td>1328434.3.fna.vcf</td>\n",
       "      <td>0</td>\n",
       "      <td>1</td>\n",
       "      <td>1</td>\n",
       "      <td>0</td>\n",
       "      <td>0</td>\n",
       "      <td>0</td>\n",
       "      <td>0</td>\n",
       "      <td>0</td>\n",
       "      <td>0</td>\n",
       "      <td>...</td>\n",
       "      <td>0</td>\n",
       "      <td>0</td>\n",
       "      <td>0</td>\n",
       "      <td>1</td>\n",
       "      <td>0</td>\n",
       "      <td>0</td>\n",
       "      <td>0</td>\n",
       "      <td>0</td>\n",
       "      <td>1</td>\n",
       "      <td>0</td>\n",
       "    </tr>\n",
       "    <tr>\n",
       "      <th>3</th>\n",
       "      <td>1438684.3.fna.vcf</td>\n",
       "      <td>0</td>\n",
       "      <td>1</td>\n",
       "      <td>0</td>\n",
       "      <td>1</td>\n",
       "      <td>1</td>\n",
       "      <td>0</td>\n",
       "      <td>0</td>\n",
       "      <td>0</td>\n",
       "      <td>1</td>\n",
       "      <td>...</td>\n",
       "      <td>0</td>\n",
       "      <td>1</td>\n",
       "      <td>0</td>\n",
       "      <td>0</td>\n",
       "      <td>0</td>\n",
       "      <td>0</td>\n",
       "      <td>0</td>\n",
       "      <td>0</td>\n",
       "      <td>0</td>\n",
       "      <td>0</td>\n",
       "    </tr>\n",
       "    <tr>\n",
       "      <th>4</th>\n",
       "      <td>562.22428.fna.vcf</td>\n",
       "      <td>0</td>\n",
       "      <td>1</td>\n",
       "      <td>1</td>\n",
       "      <td>0</td>\n",
       "      <td>0</td>\n",
       "      <td>0</td>\n",
       "      <td>0</td>\n",
       "      <td>0</td>\n",
       "      <td>1</td>\n",
       "      <td>...</td>\n",
       "      <td>0</td>\n",
       "      <td>1</td>\n",
       "      <td>0</td>\n",
       "      <td>0</td>\n",
       "      <td>0</td>\n",
       "      <td>0</td>\n",
       "      <td>0</td>\n",
       "      <td>0</td>\n",
       "      <td>0</td>\n",
       "      <td>0</td>\n",
       "    </tr>\n",
       "  </tbody>\n",
       "</table>\n",
       "<p>5 rows × 83 columns</p>\n",
       "</div>"
      ],
      "text/plain": [
       "               #FILE  b0188|p.Lys429fs  b0295|p.Glu54fs  b0295|p.Gly26fs  \\\n",
       "0  1328432.3.fna.vcf                 1                1                0   \n",
       "1  1328433.3.fna.vcf                 0                1                0   \n",
       "2  1328434.3.fna.vcf                 0                1                1   \n",
       "3  1438684.3.fna.vcf                 0                1                0   \n",
       "4  562.22428.fna.vcf                 0                1                1   \n",
       "\n",
       "   b0344|p.Ile867fs  b0344|p.Ser862fs  b0363|p.Gln92fs  b0508|p.Glu70fs  \\\n",
       "0                 0                 0                0                0   \n",
       "1                 1                 1                0                0   \n",
       "2                 0                 0                0                0   \n",
       "3                 1                 1                0                0   \n",
       "4                 0                 0                0                0   \n",
       "\n",
       "   b0518|p.Asp250fs  b0537|p.Trp269fs  ...  b4541|p.Asp20fs  b4541|p.Pro61fs  \\\n",
       "0                 0                 0  ...                0                0   \n",
       "1                 0                 1  ...                0                1   \n",
       "2                 0                 0  ...                0                0   \n",
       "3                 0                 1  ...                0                1   \n",
       "4                 0                 1  ...                0                1   \n",
       "\n",
       "   b4583|p.Cys158fs  b4583|p.Leu156fs  b4615|p.Lys108fs  b4674|p.Lys2fs  \\\n",
       "0                 1                 0                 0               0   \n",
       "1                 0                 0                 0               0   \n",
       "2                 0                 1                 0               0   \n",
       "3                 0                 0                 0               0   \n",
       "4                 0                 0                 0               0   \n",
       "\n",
       "   b4733|p.Ser2fs  b4755|p.Cys37fs  b4791|p.Ile23fs  Class  \n",
       "0               0                0                0      0  \n",
       "1               0                0                0      0  \n",
       "2               0                0                1      0  \n",
       "3               0                0                0      0  \n",
       "4               0                0                0      0  \n",
       "\n",
       "[5 rows x 83 columns]"
      ]
     },
     "execution_count": 10,
     "metadata": {},
     "output_type": "execute_result"
    }
   ],
   "source": [
    "# Visualize the head records of the newly created file \n",
    "\n",
    "Combined_SNP_file_with_phenotype.head()"
   ]
  },
  {
   "cell_type": "code",
   "execution_count": 11,
   "id": "3ef32e35",
   "metadata": {},
   "outputs": [
    {
     "data": {
      "text/plain": [
       "0    25\n",
       "1    25\n",
       "Name: Class, dtype: int64"
      ]
     },
     "execution_count": 11,
     "metadata": {},
     "output_type": "execute_result"
    }
   ],
   "source": [
    "# Using value_counts to check the number of isolates that are present in the resistant and susceptible category \n",
    "\n",
    "Combined_SNP_file_with_phenotype.Class.value_counts()"
   ]
  },
  {
   "cell_type": "markdown",
   "id": "08d692f9",
   "metadata": {},
   "source": [
    "### Final SNP data after preprocessing "
   ]
  },
  {
   "cell_type": "code",
   "execution_count": 12,
   "id": "f238f9a2",
   "metadata": {},
   "outputs": [],
   "source": [
    "# Copy the final combined file in a variable to you it further \n",
    "\n",
    "snp_data=Combined_SNP_file_with_phenotype.copy()"
   ]
  },
  {
   "cell_type": "markdown",
   "id": "ab599f88",
   "metadata": {},
   "source": [
    "# Feature Selection\n",
    "Feature selection is choosing relevant inputs to improve model performance, reduce complexity, and prevent overfitting by focusing on the most informative variables."
   ]
  },
  {
   "cell_type": "code",
   "execution_count": 13,
   "id": "c3e7dd3e",
   "metadata": {},
   "outputs": [],
   "source": [
    "#This will be used further for feature selection and model building\n",
    "\n",
    "model_data=snp_data.copy() # gene data"
   ]
  },
  {
   "cell_type": "code",
   "execution_count": 14,
   "id": "e4dd649e",
   "metadata": {},
   "outputs": [],
   "source": [
    "#Removing the first naming column and stored in a variable called \"data_df\"\n",
    "\n",
    "data_df=model_data.iloc[:,1:]"
   ]
  },
  {
   "cell_type": "code",
   "execution_count": 15,
   "id": "0f90d87e",
   "metadata": {},
   "outputs": [
    {
     "data": {
      "text/html": [
       "<div>\n",
       "<style scoped>\n",
       "    .dataframe tbody tr th:only-of-type {\n",
       "        vertical-align: middle;\n",
       "    }\n",
       "\n",
       "    .dataframe tbody tr th {\n",
       "        vertical-align: top;\n",
       "    }\n",
       "\n",
       "    .dataframe thead th {\n",
       "        text-align: right;\n",
       "    }\n",
       "</style>\n",
       "<table border=\"1\" class=\"dataframe\">\n",
       "  <thead>\n",
       "    <tr style=\"text-align: right;\">\n",
       "      <th></th>\n",
       "      <th>b0188|p.Lys429fs</th>\n",
       "      <th>b0295|p.Glu54fs</th>\n",
       "      <th>b0295|p.Gly26fs</th>\n",
       "      <th>b0344|p.Ile867fs</th>\n",
       "      <th>b0344|p.Ser862fs</th>\n",
       "      <th>b0363|p.Gln92fs</th>\n",
       "      <th>b0508|p.Glu70fs</th>\n",
       "      <th>b0518|p.Asp250fs</th>\n",
       "      <th>b0537|p.Trp269fs</th>\n",
       "      <th>b0601|p.Gln57fs</th>\n",
       "      <th>...</th>\n",
       "      <th>b4541|p.Asp20fs</th>\n",
       "      <th>b4541|p.Pro61fs</th>\n",
       "      <th>b4583|p.Cys158fs</th>\n",
       "      <th>b4583|p.Leu156fs</th>\n",
       "      <th>b4615|p.Lys108fs</th>\n",
       "      <th>b4674|p.Lys2fs</th>\n",
       "      <th>b4733|p.Ser2fs</th>\n",
       "      <th>b4755|p.Cys37fs</th>\n",
       "      <th>b4791|p.Ile23fs</th>\n",
       "      <th>Class</th>\n",
       "    </tr>\n",
       "  </thead>\n",
       "  <tbody>\n",
       "    <tr>\n",
       "      <th>0</th>\n",
       "      <td>1</td>\n",
       "      <td>1</td>\n",
       "      <td>0</td>\n",
       "      <td>0</td>\n",
       "      <td>0</td>\n",
       "      <td>0</td>\n",
       "      <td>0</td>\n",
       "      <td>0</td>\n",
       "      <td>0</td>\n",
       "      <td>0</td>\n",
       "      <td>...</td>\n",
       "      <td>0</td>\n",
       "      <td>0</td>\n",
       "      <td>1</td>\n",
       "      <td>0</td>\n",
       "      <td>0</td>\n",
       "      <td>0</td>\n",
       "      <td>0</td>\n",
       "      <td>0</td>\n",
       "      <td>0</td>\n",
       "      <td>0</td>\n",
       "    </tr>\n",
       "    <tr>\n",
       "      <th>1</th>\n",
       "      <td>0</td>\n",
       "      <td>1</td>\n",
       "      <td>0</td>\n",
       "      <td>1</td>\n",
       "      <td>1</td>\n",
       "      <td>0</td>\n",
       "      <td>0</td>\n",
       "      <td>0</td>\n",
       "      <td>1</td>\n",
       "      <td>0</td>\n",
       "      <td>...</td>\n",
       "      <td>0</td>\n",
       "      <td>1</td>\n",
       "      <td>0</td>\n",
       "      <td>0</td>\n",
       "      <td>0</td>\n",
       "      <td>0</td>\n",
       "      <td>0</td>\n",
       "      <td>0</td>\n",
       "      <td>0</td>\n",
       "      <td>0</td>\n",
       "    </tr>\n",
       "    <tr>\n",
       "      <th>2</th>\n",
       "      <td>0</td>\n",
       "      <td>1</td>\n",
       "      <td>1</td>\n",
       "      <td>0</td>\n",
       "      <td>0</td>\n",
       "      <td>0</td>\n",
       "      <td>0</td>\n",
       "      <td>0</td>\n",
       "      <td>0</td>\n",
       "      <td>0</td>\n",
       "      <td>...</td>\n",
       "      <td>0</td>\n",
       "      <td>0</td>\n",
       "      <td>0</td>\n",
       "      <td>1</td>\n",
       "      <td>0</td>\n",
       "      <td>0</td>\n",
       "      <td>0</td>\n",
       "      <td>0</td>\n",
       "      <td>1</td>\n",
       "      <td>0</td>\n",
       "    </tr>\n",
       "    <tr>\n",
       "      <th>3</th>\n",
       "      <td>0</td>\n",
       "      <td>1</td>\n",
       "      <td>0</td>\n",
       "      <td>1</td>\n",
       "      <td>1</td>\n",
       "      <td>0</td>\n",
       "      <td>0</td>\n",
       "      <td>0</td>\n",
       "      <td>1</td>\n",
       "      <td>0</td>\n",
       "      <td>...</td>\n",
       "      <td>0</td>\n",
       "      <td>1</td>\n",
       "      <td>0</td>\n",
       "      <td>0</td>\n",
       "      <td>0</td>\n",
       "      <td>0</td>\n",
       "      <td>0</td>\n",
       "      <td>0</td>\n",
       "      <td>0</td>\n",
       "      <td>0</td>\n",
       "    </tr>\n",
       "    <tr>\n",
       "      <th>4</th>\n",
       "      <td>0</td>\n",
       "      <td>1</td>\n",
       "      <td>1</td>\n",
       "      <td>0</td>\n",
       "      <td>0</td>\n",
       "      <td>0</td>\n",
       "      <td>0</td>\n",
       "      <td>0</td>\n",
       "      <td>1</td>\n",
       "      <td>0</td>\n",
       "      <td>...</td>\n",
       "      <td>0</td>\n",
       "      <td>1</td>\n",
       "      <td>0</td>\n",
       "      <td>0</td>\n",
       "      <td>0</td>\n",
       "      <td>0</td>\n",
       "      <td>0</td>\n",
       "      <td>0</td>\n",
       "      <td>0</td>\n",
       "      <td>0</td>\n",
       "    </tr>\n",
       "  </tbody>\n",
       "</table>\n",
       "<p>5 rows × 82 columns</p>\n",
       "</div>"
      ],
      "text/plain": [
       "   b0188|p.Lys429fs  b0295|p.Glu54fs  b0295|p.Gly26fs  b0344|p.Ile867fs  \\\n",
       "0                 1                1                0                 0   \n",
       "1                 0                1                0                 1   \n",
       "2                 0                1                1                 0   \n",
       "3                 0                1                0                 1   \n",
       "4                 0                1                1                 0   \n",
       "\n",
       "   b0344|p.Ser862fs  b0363|p.Gln92fs  b0508|p.Glu70fs  b0518|p.Asp250fs  \\\n",
       "0                 0                0                0                 0   \n",
       "1                 1                0                0                 0   \n",
       "2                 0                0                0                 0   \n",
       "3                 1                0                0                 0   \n",
       "4                 0                0                0                 0   \n",
       "\n",
       "   b0537|p.Trp269fs  b0601|p.Gln57fs  ...  b4541|p.Asp20fs  b4541|p.Pro61fs  \\\n",
       "0                 0                0  ...                0                0   \n",
       "1                 1                0  ...                0                1   \n",
       "2                 0                0  ...                0                0   \n",
       "3                 1                0  ...                0                1   \n",
       "4                 1                0  ...                0                1   \n",
       "\n",
       "   b4583|p.Cys158fs  b4583|p.Leu156fs  b4615|p.Lys108fs  b4674|p.Lys2fs  \\\n",
       "0                 1                 0                 0               0   \n",
       "1                 0                 0                 0               0   \n",
       "2                 0                 1                 0               0   \n",
       "3                 0                 0                 0               0   \n",
       "4                 0                 0                 0               0   \n",
       "\n",
       "   b4733|p.Ser2fs  b4755|p.Cys37fs  b4791|p.Ile23fs  Class  \n",
       "0               0                0                0      0  \n",
       "1               0                0                0      0  \n",
       "2               0                0                1      0  \n",
       "3               0                0                0      0  \n",
       "4               0                0                0      0  \n",
       "\n",
       "[5 rows x 82 columns]"
      ]
     },
     "execution_count": 15,
     "metadata": {},
     "output_type": "execute_result"
    }
   ],
   "source": [
    "# View the head of the data_df\n",
    "\n",
    "data_df.head()"
   ]
  },
  {
   "cell_type": "markdown",
   "id": "d12b3816",
   "metadata": {},
   "source": [
    "\n",
    "<br>"
   ]
  },
  {
   "cell_type": "markdown",
   "id": "8ade75e7",
   "metadata": {},
   "source": [
    "<h3>Now we are using two different types of Filter based methods Chi-square and Mutual information to identify the important or significant features from the loaded dataset.\n",
    "Innitially start with single feature selection algorithm and later combine two or more methods depending on the problem statement and model performance</h3>"
   ]
  },
  {
   "cell_type": "markdown",
   "id": "d8b88e44",
   "metadata": {},
   "source": [
    "# Chi-square\n"
   ]
  },
  {
   "cell_type": "markdown",
   "id": "93ecb4e3",
   "metadata": {},
   "source": [
    "The Chi-Square test is a statistical method used to determine if there is a significant association between two categorical variables. It works by comparing the observed frequencies (the actual counts from your data) with the expected frequencies (the counts you would expect if there was no relationship between the variables)."
   ]
  },
  {
   "cell_type": "code",
   "execution_count": 16,
   "id": "d801867e",
   "metadata": {},
   "outputs": [],
   "source": [
    "# To keep a note on the values that are getting generated we are creating four different list variables\n",
    "\n",
    "columns,chi2,pval,expected=[],[],[],[]"
   ]
  },
  {
   "cell_type": "code",
   "execution_count": 17,
   "id": "dad5b40c",
   "metadata": {},
   "outputs": [],
   "source": [
    "\"\"\" \n",
    "The below code will iterate on reach column in the dataframe excluding the target class and calculate the \n",
    "chisquare contingency matrix which gives \n",
    "-> chisquare statistic value\n",
    "-> pvalue - significance \n",
    "-> dof - degree of freedom\n",
    "-> expected frequence - Based on the marginal sums of the table\n",
    "\"\"\"\n",
    "\n",
    "for i in data_df.columns[:-1]:\n",
    "    contigency_tab=pd.crosstab(data_df[i],data_df['Class'])\n",
    "    _chi2,_pval,_dof,_expected=chi2_contingency(contigency_tab)\n",
    "    columns.append(i)\n",
    "    chi2.append(_chi2)\n",
    "    pval.append(_pval)\n",
    "    expected.append(_expected)"
   ]
  },
  {
   "cell_type": "code",
   "execution_count": 18,
   "id": "e96d96ea",
   "metadata": {},
   "outputs": [],
   "source": [
    "# Converting the stored list values into a dataframe in a variable \n",
    "\n",
    "\n",
    "Chisquare_test_df=pd.DataFrame([columns,chi2,pval,expected]).T"
   ]
  },
  {
   "cell_type": "code",
   "execution_count": 19,
   "id": "38ce867e",
   "metadata": {},
   "outputs": [],
   "source": [
    "# Assigning column names to the newly created dataframe\n",
    "\n",
    "Chisquare_test_df.columns=['Mutation_Features','chi2','pval','expected']"
   ]
  },
  {
   "cell_type": "code",
   "execution_count": 20,
   "id": "980903cf",
   "metadata": {},
   "outputs": [],
   "source": [
    "# Extracting the items that satisfy the condition as p value < 0.05\n",
    "\n",
    "Chisquare_df_le_05_features=Chisquare_test_df[Chisquare_test_df['pval']<=0.05]"
   ]
  },
  {
   "cell_type": "code",
   "execution_count": 21,
   "id": "1d5d9662",
   "metadata": {},
   "outputs": [
    {
     "name": "stdout",
     "output_type": "stream",
     "text": [
      "The are 16 features that are significant in the collected feature list\n"
     ]
    }
   ],
   "source": [
    "print(f\"The are {Chisquare_df_le_05_features.shape[0]} features that are significant in the collected feature list\")"
   ]
  },
  {
   "cell_type": "code",
   "execution_count": 22,
   "id": "e611f1dd",
   "metadata": {},
   "outputs": [],
   "source": [
    "# Converting the feature names to list \n",
    "\n",
    "signi_chisquare_selected_features=Chisquare_df_le_05_features.Mutation_Features.tolist()"
   ]
  },
  {
   "cell_type": "code",
   "execution_count": 23,
   "id": "c40b9a56",
   "metadata": {},
   "outputs": [],
   "source": [
    "# Appending the class feature to the significant feature list \n",
    "\n",
    "signi_chisquare_selected_features.append('Class')"
   ]
  },
  {
   "cell_type": "code",
   "execution_count": 24,
   "id": "a7050d67",
   "metadata": {},
   "outputs": [],
   "source": [
    "# Extracting the significat columns from the final data \n",
    "\n",
    "df_Chisquare_based_feature_selection=data_df[signi_chisquare_selected_features]"
   ]
  },
  {
   "cell_type": "code",
   "execution_count": 25,
   "id": "e51f4d54",
   "metadata": {},
   "outputs": [
    {
     "data": {
      "text/plain": [
       "(50, 17)"
      ]
     },
     "execution_count": 25,
     "metadata": {},
     "output_type": "execute_result"
    }
   ],
   "source": [
    "# Explore the finally created dataset after feature selection \n",
    "# Use this dataset for model building \n",
    "\n",
    "df_Chisquare_based_feature_selection.shape"
   ]
  },
  {
   "cell_type": "markdown",
   "id": "d910e03f",
   "metadata": {},
   "source": [
    "## Mutual Information\n",
    " * It measures how much information a feature gives about the target class.\n",
    " * It’s non-parametric: it doesn’t assume any distribution"
   ]
  },
  {
   "cell_type": "markdown",
   "id": "e4894347",
   "metadata": {},
   "source": [
    "To calculate mutual info value we need to first split the idependent and indepoendent variables and need to pass to the function"
   ]
  },
  {
   "cell_type": "code",
   "execution_count": 26,
   "id": "3c7791bd",
   "metadata": {},
   "outputs": [],
   "source": [
    "\"\"\" \n",
    "Spliting the data_df as X and y \n",
    "X holds the independent variables \n",
    "y hold the dependent variable (target class)\n",
    "\"\"\"\n",
    "\n",
    "X=data_df.drop(['Class'],axis=1)\n",
    "y=data_df['Class']"
   ]
  },
  {
   "cell_type": "code",
   "execution_count": 27,
   "id": "86627167",
   "metadata": {},
   "outputs": [],
   "source": [
    "# Calling the mutual_info_classif function to perform the classification task\n",
    "\n",
    "mi_scores = mutual_info_classif(X, y)"
   ]
  },
  {
   "cell_type": "code",
   "execution_count": 28,
   "id": "43a68ba3",
   "metadata": {},
   "outputs": [],
   "source": [
    "mi_df = pd.DataFrame([X.columns,mi_scores]).T # Storing in dataframe\n",
    "\n",
    "mi_df.columns=['Mutation_Features','MI_scores'] # Renaming the columns\n",
    "\n",
    "MI_feature=mi_df[mi_df['MI_scores']>0] # Filtering the features based on a threshold value of info \n",
    "\n",
    "MI_feature_list=MI_feature.Mutation_Features.tolist() # Converting the features to a list \n",
    "\n",
    "MI_feature_list.append('Class') # Appending the Class feature to the list \n",
    "\n",
    "df_MI_based_feature_selection=data_df[MI_feature_list] # Extracting the selected columns "
   ]
  },
  {
   "cell_type": "code",
   "execution_count": 29,
   "id": "46e9cfc1",
   "metadata": {},
   "outputs": [
    {
     "data": {
      "text/plain": [
       "(50, 42)"
      ]
     },
     "execution_count": 29,
     "metadata": {},
     "output_type": "execute_result"
    }
   ],
   "source": [
    "# Explore the finally created dataset using MI \n",
    "#Use this dataset for model building \n",
    "\n",
    "df_MI_based_feature_selection.shape"
   ]
  },
  {
   "cell_type": "markdown",
   "id": "0145e4f0",
   "metadata": {},
   "source": [
    "<br>"
   ]
  },
  {
   "cell_type": "markdown",
   "id": "ea5aa79e",
   "metadata": {},
   "source": [
    "# Data Train & Test split  "
   ]
  },
  {
   "cell_type": "code",
   "execution_count": 30,
   "id": "da9b9d7b",
   "metadata": {},
   "outputs": [],
   "source": [
    "# Replace the desiered data for modelbuilding \n",
    "\n",
    "data = df_MI_based_feature_selection.copy() # df_Chisquare_based_feature_selection.copy()"
   ]
  },
  {
   "cell_type": "code",
   "execution_count": 31,
   "id": "b852805c",
   "metadata": {},
   "outputs": [],
   "source": [
    "# Splitting the data as X and y \n",
    "\n",
    "X=data.drop([\"Class\"],axis=1).astype(int)\n",
    "y=data[\"Class\"].astype(int)"
   ]
  },
  {
   "cell_type": "code",
   "execution_count": 32,
   "id": "d3859caa",
   "metadata": {},
   "outputs": [],
   "source": [
    "\"\"\" \n",
    "-> Here we are splitting the dataset for training and testing\n",
    "-> random_state is assigned for reproducibility \n",
    "-> statify variable is to split the Class variables to equal ratio in the train and test dataset \n",
    "\"\"\"\n",
    "\n",
    "X_train, X_test, y_train, y_test = train_test_split(X, y, test_size=0.30,random_state=42,stratify=y)"
   ]
  },
  {
   "cell_type": "code",
   "execution_count": 33,
   "id": "75788a49",
   "metadata": {},
   "outputs": [
    {
     "name": "stdout",
     "output_type": "stream",
     "text": [
      "Number of rows and columns of the training set for the independent variables: (35, 41)\n",
      "Number of rows and columns of the training set for the dependent variable: (35,)\n",
      "Number of rows and columns of the test set for the independent variables: (15, 41)\n",
      "Number of rows and columns of the test set for the dependent variable: (15,)\n"
     ]
    }
   ],
   "source": [
    "print('Number of rows and columns of the training set for the independent variables:',X_train.shape)\n",
    "print('Number of rows and columns of the training set for the dependent variable:',y_train.shape)\n",
    "print('Number of rows and columns of the test set for the independent variables:',X_test.shape)\n",
    "print('Number of rows and columns of the test set for the dependent variable:',y_test.shape)"
   ]
  },
  {
   "cell_type": "markdown",
   "id": "74fa4883",
   "metadata": {},
   "source": [
    "# Model building, Hyper parameter tuning and Model evaluation"
   ]
  },
  {
   "cell_type": "markdown",
   "id": "cab023c6",
   "metadata": {},
   "source": [
    "## Logistic Regression \n",
    "\n",
    "Logistic Regression is a supervised classification algorithm that models the probability of a categorical outcome (often binary) using a logistic (sigmoid) function applied to a linear combination of input features\n"
   ]
  },
  {
   "cell_type": "markdown",
   "id": "5bdbca1d",
   "metadata": {},
   "source": [
    "## Hyper parameter tuning for Logistic Regression "
   ]
  },
  {
   "cell_type": "code",
   "execution_count": 34,
   "id": "7349eecb",
   "metadata": {},
   "outputs": [
    {
     "name": "stdout",
     "output_type": "stream",
     "text": [
      "{'C': 0.31000000000000005, 'max_iter': 9, 'solver': 'sag'} \n",
      "\n",
      "LogisticRegression(C=0.31000000000000005, max_iter=9, random_state=42,\n",
      "                   solver='sag')\n"
     ]
    }
   ],
   "source": [
    "# in order to tune the hyper parameters we are using this grid search and finding the best estimator\n",
    "grid={\"solver\":[\"newton-cg\",\"lbfgs\",\"sag\",\"saga\"],\n",
    "    \"C\":np.arange(0.01,1,0.1),\n",
    "    \"max_iter\":np.arange(1,10,2)\n",
    "     }\n",
    "\n",
    "model = LogisticRegression(random_state=42)\n",
    "\n",
    "grid_search = GridSearchCV(estimator = model, param_grid = grid, cv = 5)\n",
    "\n",
    "grid_search.fit(X_train, y_train)\n",
    "\n",
    "print(grid_search.best_params_,'\\n')\n",
    "print(grid_search.best_estimator_)"
   ]
  },
  {
   "cell_type": "markdown",
   "id": "d323600d",
   "metadata": {},
   "source": [
    "## Comparison between model with and without tuning "
   ]
  },
  {
   "cell_type": "code",
   "execution_count": 35,
   "id": "ebae1f88",
   "metadata": {},
   "outputs": [
    {
     "name": "stdout",
     "output_type": "stream",
     "text": [
      "               Train Accuracy  Test accuracy\n",
      "without_hyper        0.971429       0.866667\n",
      "with_hyper           0.971429       0.866667\n"
     ]
    }
   ],
   "source": [
    "lr_without = LogisticRegression(random_state=42)\n",
    "lr_with = LogisticRegression(C=0.31, max_iter=9, solver=\"sag\",random_state=42)\n",
    "\n",
    "models=[lr_without,lr_with]\n",
    "\n",
    "scores_train=[]\n",
    "scores_test=[]\n",
    "\n",
    "for i in models:\n",
    "    i.fit(X_train,y_train)\n",
    "    scores_train.append(i.score(X_train,y_train))\n",
    "    scores_test.append(i.score(X_test,y_test))\n",
    "    \n",
    "print(pd.DataFrame({'Train Accuracy':scores_train,'Test accuracy':scores_test},index=['without_hyper','with_hyper']))"
   ]
  },
  {
   "cell_type": "markdown",
   "id": "695a31b5",
   "metadata": {},
   "source": [
    "## Prediction using final tuned model"
   ]
  },
  {
   "cell_type": "code",
   "execution_count": 36,
   "id": "cc922fd2",
   "metadata": {},
   "outputs": [],
   "source": [
    "logmodel = LogisticRegression(C=0.31, max_iter=9, solver=\"sag\",random_state=42)\n",
    "logmodel.fit(X_train, y_train)\n",
    "\n",
    "log_ytrain_predict = logmodel.predict(X_train)\n",
    "log_ytest_predict = logmodel.predict(X_test)"
   ]
  },
  {
   "cell_type": "markdown",
   "id": "9e8ff930",
   "metadata": {},
   "source": [
    "# <center> Model evaluation </center>"
   ]
  },
  {
   "cell_type": "markdown",
   "id": "fa0bf0af",
   "metadata": {},
   "source": [
    "# Confusion Matrix\n",
    "A confusion matrix is a 2D table that shows how well a classification model performs by comparing the actual labels with the predicted labels.\n",
    "\n",
    "Rows usually = Actual values\n",
    "\n",
    "Columns usually = Predicted values\n",
    "\n",
    "<table>\n",
    "  <tr>\n",
    "    <th></th>\n",
    "    <th>Predicted Positive</th>\n",
    "    <th>Predicted Negative</th>\n",
    "  </tr>\n",
    "  <tr>\n",
    "    <th>Actual Positive</th>\n",
    "    <td>True Positive (TP)</td>\n",
    "    <td>False Negative (FN)</td>\n",
    "  </tr>\n",
    "  <tr>\n",
    "    <th>Actual Negative</th>\n",
    "    <td>False Positive (FP)</td>\n",
    "    <td>True Negative (TN)</td>\n",
    "  </tr>\n",
    "</table>\n",
    "\n",
    "\n",
    "True Positive (TP) → Model correctly predicted positive.\n",
    "\n",
    "True Negative (TN) → Model correctly predicted negative.\n",
    "\n",
    "False Positive (FP) → Model predicted positive but it was actually negative (Type I error).\n",
    "\n",
    "False Negative (FN) → Model predicted negative but it was actually positive (Type II error).\n",
    "\n",
    "<b> Confusion Matrix is the base tool to judge a classifier — it shows the counts of correct and incorrect predictions, from which all other classification metrics are derived.</b>"
   ]
  },
  {
   "cell_type": "code",
   "execution_count": 37,
   "id": "0e022957",
   "metadata": {},
   "outputs": [
    {
     "data": {
      "image/png": "[encoded data removed]",
      "text/plain": [
       "<Figure size 640x480 with 4 Axes>"
      ]
     },
     "metadata": {},
     "output_type": "display_data"
    }
   ],
   "source": [
    "f,a =  plt.subplots(1,2,sharex=True,sharey=True,squeeze=False)\n",
    "\n",
    "plot_0 = sns.heatmap((confusion_matrix(y_train,log_ytrain_predict)),annot=True,fmt='.5g',cmap='Blues',ax=a[0][0]);\n",
    "a[0][0].set_title('Training Data')\n",
    "\n",
    "plot_1 = sns.heatmap((confusion_matrix(y_test,log_ytest_predict)),annot=True,fmt='.5g',cmap='Blues',ax=a[0][1]);\n",
    "a[0][1].set_title('Test Data');\n"
   ]
  },
  {
   "cell_type": "markdown",
   "id": "6b32e2ce",
   "metadata": {},
   "source": [
    "## Classification metrics \n",
    "\n",
    "Classification metrics are quantitative measures we use to evaluate how well a classification model is performing. They go beyond just accuracy and give us detailed insights into the types of errors the model makes.\n",
    "These metrics are usually derived from the confusion matrix.\n",
    "\n",
    "<b>Accuracy</b> - Good when classes are balanced, but misleading when classes are imbalanced.\n",
    "<b>(TP + TN) / (TP + TN + FP + FN)</b>\n",
    "\n",
    "<b>Precision (Positive Predictive Value) </b>- Important when false positives are costly for the predicted positive group.  <b>TP / (TP + FP)</b>\n",
    "\n",
    "<b>Recall (Sensitivity / True Positive Rate) </b>- Important when the cost of a false negative is high. <b>TP / (TP + FN)</b>\n",
    "\n",
    "<b>F1-Score</b> - Useful when you need a balance between precision and recall. <b>2 &times; (Precision &times; Recall) / (Precision + Recall)</b>\n",
    "\n",
    "<b>Specificity (True Negative Rate) </b>- Important when false positives are costly for the actual negative group. <b>TN / (TN + FP)</b>\n",
    "\n",
    "\n",
    "<b> Classification metrics give us a complete picture of how well a model performs, where it succeeds, and where it fails. </b>"
   ]
  },
  {
   "cell_type": "code",
   "execution_count": 38,
   "id": "a8037b0e",
   "metadata": {},
   "outputs": [
    {
     "name": "stdout",
     "output_type": "stream",
     "text": [
      "Classification Report of the training data:\n",
      "\n",
      "               precision    recall  f1-score   support\n",
      "\n",
      "           0       1.00      0.94      0.97        17\n",
      "           1       0.95      1.00      0.97        18\n",
      "\n",
      "    accuracy                           0.97        35\n",
      "   macro avg       0.97      0.97      0.97        35\n",
      "weighted avg       0.97      0.97      0.97        35\n",
      " \n",
      "\n",
      "Classification Report of the test data:\n",
      "\n",
      "               precision    recall  f1-score   support\n",
      "\n",
      "           0       1.00      0.75      0.86         8\n",
      "           1       0.78      1.00      0.88         7\n",
      "\n",
      "    accuracy                           0.87        15\n",
      "   macro avg       0.89      0.88      0.87        15\n",
      "weighted avg       0.90      0.87      0.87        15\n",
      " \n",
      "\n"
     ]
    }
   ],
   "source": [
    "print('Classification Report of the training data:\\n\\n',classification_report(y_train,log_ytrain_predict),'\\n')\n",
    "print('Classification Report of the test data:\\n\\n',classification_report(y_test,log_ytest_predict),'\\n')"
   ]
  },
  {
   "cell_type": "code",
   "execution_count": 39,
   "id": "626a5652",
   "metadata": {},
   "outputs": [
    {
     "name": "stdout",
     "output_type": "stream",
     "text": [
      "AUC for the Training Data: 0.985\n",
      "AUC for the Test Data: 0.964\n"
     ]
    },
    {
     "data": {
      "image/png": "[encoded data removed]",
      "text/plain": [
       "<Figure size 640x480 with 1 Axes>"
      ]
     },
     "metadata": {},
     "output_type": "display_data"
    }
   ],
   "source": [
    "# AUC and ROC for the training data\n",
    "\n",
    "# calculate AUC\n",
    "probs = logmodel.predict_proba(X_train)\n",
    "\n",
    "auc = roc_auc_score(y_train,probs[:,1])\n",
    "print('AUC for the Training Data: %.3f' % auc)\n",
    "\n",
    "#  calculate roc curve\n",
    "fpr, tpr, thresholds = roc_curve(y_train,probs[:,1])\n",
    "plt.plot([0, 1], [0, 1], linestyle='--')\n",
    "# plot the roc curve for the model\n",
    "plt.plot(fpr, tpr, marker='.',label = 'Training Data')\n",
    "\n",
    "\n",
    "# AUC and ROC for the test data\n",
    "probs = logmodel.predict_proba(X_test)\n",
    "\n",
    "# calculate AUC\n",
    "auc = roc_auc_score(y_test,probs[:,1])\n",
    "print('AUC for the Test Data: %.3f' % auc)\n",
    "\n",
    "#  calculate roc curve\n",
    "fpr, tpr, thresholds = roc_curve(y_test,probs[:,1])\n",
    "plt.plot([0, 1], [0, 1], linestyle='--')\n",
    "\n",
    "# plot the roc curve for the model\n",
    "plt.plot(fpr, tpr, marker='.',label='Test Data')\n",
    "# show the plot\n",
    "plt.legend(loc='best')\n",
    "plt.xlabel(\"False Positive\")\n",
    "plt.ylabel(\"True Positive\")\n",
    "plt.show()"
   ]
  },
  {
   "cell_type": "markdown",
   "id": "ff62bb46",
   "metadata": {},
   "source": [
    "### Storing the coefficient of the model to a csv file "
   ]
  },
  {
   "cell_type": "code",
   "execution_count": 40,
   "id": "a0946e9a",
   "metadata": {},
   "outputs": [],
   "source": [
    "column_names=[]\n",
    "coeffieient=[]\n",
    "for i in range(0,X_train.shape[1]):\n",
    "    column_names.append(str(X_train.columns[i]))\n",
    "    coeffieient.append(str(logmodel.coef_[0][i]))\n",
    "\n",
    "log_fea_imp=pd.DataFrame([column_names,coeffieient]).T\n",
    "log_fea_imp.columns=['Mutation_Features','Coef']\n",
    "log_fea_imp.sort_values(by='Coef',ascending=False,inplace=True)\n",
    "log_fea_imp.to_csv(\"Feature_importance_SNP_Model_LR.csv\",index=False)"
   ]
  },
  {
   "cell_type": "markdown",
   "id": "4c6070ce",
   "metadata": {},
   "source": [
    "# Decision Tree"
   ]
  },
  {
   "cell_type": "markdown",
   "id": "ed3c13e5",
   "metadata": {},
   "source": [
    "A Decision Tree is a supervised machine learning algorithm used for both classification and regression tasks. It models decisions based on a series of simple, conditional rules, much like a flowchart"
   ]
  },
  {
   "cell_type": "markdown",
   "id": "2ddb38f4",
   "metadata": {},
   "source": [
    "## Hyper parameter tuning for Decision Tree"
   ]
  },
  {
   "cell_type": "code",
   "execution_count": 41,
   "id": "b713b30d",
   "metadata": {},
   "outputs": [
    {
     "name": "stdout",
     "output_type": "stream",
     "text": [
      "{'max_depth': 3} \n",
      "\n",
      "DecisionTreeClassifier(max_depth=3, random_state=42)\n"
     ]
    }
   ],
   "source": [
    "grid={\n",
    "    'max_depth': np.arange(1, 10), # depth of the tree\n",
    "    #'min_samples_split': np.arange(3, 20), # minimum samples required to split an internal node\n",
    "    #'min_samples_leaf': np.arange(2, 9), # minimum samples required to be at a leaf node\n",
    "    #'criterion':['gini', 'entropy', 'log_loss'] \n",
    "     }\n",
    "\n",
    "model = DecisionTreeClassifier(random_state=42)\n",
    "\n",
    "grid_search = GridSearchCV(estimator = model, param_grid = grid, cv = 5)\n",
    "\n",
    "grid_search.fit(X_train, y_train)\n",
    "\n",
    "print(grid_search.best_params_,'\\n')\n",
    "print(grid_search.best_estimator_)"
   ]
  },
  {
   "cell_type": "code",
   "execution_count": 42,
   "id": "e0dc8b2e",
   "metadata": {},
   "outputs": [
    {
     "name": "stdout",
     "output_type": "stream",
     "text": [
      "               Train Accuracy  Test accuracy\n",
      "without_hyper        0.971429       0.733333\n",
      "with_hyper           0.971429       0.733333\n"
     ]
    }
   ],
   "source": [
    "DT_without = DecisionTreeClassifier(random_state=42)\n",
    "DT_with = DecisionTreeClassifier(random_state=42, criterion='gini',max_depth=5)\n",
    "                          \n",
    "\n",
    "models=[DT_without,DT_with]\n",
    "\n",
    "scores_train=[]\n",
    "scores_test=[]\n",
    "\n",
    "for i in models:\n",
    "    i.fit(X_train,y_train)\n",
    "    scores_train.append(i.score(X_train,y_train))\n",
    "    scores_test.append(i.score(X_test,y_test))\n",
    "    \n",
    "print(pd.DataFrame({'Train Accuracy':scores_train,'Test accuracy':scores_test},index=['without_hyper','with_hyper']))"
   ]
  },
  {
   "cell_type": "code",
   "execution_count": 43,
   "id": "09fb8ffc",
   "metadata": {},
   "outputs": [],
   "source": [
    "DTmodel = DecisionTreeClassifier(random_state=42, criterion='gini',max_depth=5)\n",
    "DTmodel.fit(X_train, y_train)\n",
    "\n",
    "DT_ytrain_predict = DTmodel.predict(X_train)\n",
    "DT_ytest_predict = DTmodel.predict(X_test)"
   ]
  },
  {
   "cell_type": "markdown",
   "id": "4964b8d2",
   "metadata": {},
   "source": [
    "## To visualize the tree we are creating a dot file using the generated decision tree model\n",
    "\n",
    "Pasting the contents of the generated dot file at  http://webgraphviz.com/"
   ]
  },
  {
   "cell_type": "code",
   "execution_count": 44,
   "id": "7ae0a67d",
   "metadata": {},
   "outputs": [
    {
     "data": {
      "text/plain": [
       "array([0, 1])"
      ]
     },
     "execution_count": 44,
     "metadata": {},
     "output_type": "execute_result"
    }
   ],
   "source": [
    "# Visualize the class variables \n",
    "\n",
    "DTmodel.classes_ "
   ]
  },
  {
   "cell_type": "code",
   "execution_count": 45,
   "id": "8480b323",
   "metadata": {},
   "outputs": [],
   "source": [
    "from sklearn import tree\n",
    "train_char_label = ['Sus', 'Res']\n",
    "Tree_File = open('visualize_tree.dot','w')\n",
    "dot_data = tree.export_graphviz(DTmodel, out_file=Tree_File, feature_names = list(X_train), class_names = list(train_char_label))\n",
    "Tree_File.close()"
   ]
  },
  {
   "cell_type": "markdown",
   "id": "bafcd8cc",
   "metadata": {},
   "source": [
    "## Confusion Matrix"
   ]
  },
  {
   "cell_type": "code",
   "execution_count": 46,
   "id": "cc120e53",
   "metadata": {},
   "outputs": [
    {
     "data": {
      "image/png": "[encoded data removed]",
      "text/plain": [
       "<Figure size 640x480 with 4 Axes>"
      ]
     },
     "metadata": {},
     "output_type": "display_data"
    }
   ],
   "source": [
    "f,a =  plt.subplots(1,2,sharex=True,sharey=True,squeeze=False)\n",
    "\n",
    "plot_0 = sns.heatmap((confusion_matrix(y_train,DT_ytrain_predict)),annot=True,fmt='.5g',cmap='Blues',ax=a[0][0]);\n",
    "a[0][0].set_title('Training Data')\n",
    "\n",
    "plot_1 = sns.heatmap((confusion_matrix(y_test,DT_ytest_predict)),annot=True,fmt='.5g',cmap='Blues',ax=a[0][1]);\n",
    "a[0][1].set_title('Test Data');\n"
   ]
  },
  {
   "cell_type": "markdown",
   "id": "919c4c93",
   "metadata": {},
   "source": [
    "## Classification report"
   ]
  },
  {
   "cell_type": "code",
   "execution_count": 47,
   "id": "dd8df9c8",
   "metadata": {},
   "outputs": [
    {
     "name": "stdout",
     "output_type": "stream",
     "text": [
      "Classification Report of the training data:\n",
      "\n",
      "               precision    recall  f1-score   support\n",
      "\n",
      "           0       1.00      0.94      0.97        17\n",
      "           1       0.95      1.00      0.97        18\n",
      "\n",
      "    accuracy                           0.97        35\n",
      "   macro avg       0.97      0.97      0.97        35\n",
      "weighted avg       0.97      0.97      0.97        35\n",
      " \n",
      "\n",
      "Classification Report of the test data:\n",
      "\n",
      "               precision    recall  f1-score   support\n",
      "\n",
      "           0       1.00      0.50      0.67         8\n",
      "           1       0.64      1.00      0.78         7\n",
      "\n",
      "    accuracy                           0.73        15\n",
      "   macro avg       0.82      0.75      0.72        15\n",
      "weighted avg       0.83      0.73      0.72        15\n",
      " \n",
      "\n"
     ]
    }
   ],
   "source": [
    "print('Classification Report of the training data:\\n\\n',classification_report(y_train,DT_ytrain_predict),'\\n')\n",
    "print('Classification Report of the test data:\\n\\n',classification_report(y_test,DT_ytest_predict),'\\n')"
   ]
  },
  {
   "cell_type": "code",
   "execution_count": 48,
   "id": "71f3537f",
   "metadata": {},
   "outputs": [
    {
     "name": "stdout",
     "output_type": "stream",
     "text": [
      "AUC for the Training Data: 0.995\n",
      "AUC for the Test Data: 0.723\n"
     ]
    },
    {
     "data": {
      "image/png": "[encoded data removed]",
      "text/plain": [
       "<Figure size 640x480 with 1 Axes>"
      ]
     },
     "metadata": {},
     "output_type": "display_data"
    }
   ],
   "source": [
    "# AUC and ROC for the training data\n",
    "\n",
    "# calculate AUC\n",
    "probs = DTmodel.predict_proba(X_train)\n",
    "\n",
    "auc = roc_auc_score(y_train,probs[:,1])\n",
    "print('AUC for the Training Data: %.3f' % auc)\n",
    "\n",
    "#  calculate roc curve\n",
    "fpr, tpr, thresholds = roc_curve(y_train,probs[:,1])\n",
    "plt.plot([0, 1], [0, 1], linestyle='--')\n",
    "# plot the roc curve for the model\n",
    "plt.plot(fpr, tpr, marker='.',label = 'Training Data')\n",
    "\n",
    "\n",
    "# AUC and ROC for the test data\n",
    "probs = DTmodel.predict_proba(X_test)\n",
    "\n",
    "# calculate AUC\n",
    "auc = roc_auc_score(y_test,probs[:,1])\n",
    "print('AUC for the Test Data: %.3f' % auc)\n",
    "\n",
    "#  calculate roc curve\n",
    "fpr, tpr, thresholds = roc_curve(y_test,probs[:,1])\n",
    "plt.plot([0, 1], [0, 1], linestyle='--')\n",
    "# plot the roc curve for the model\n",
    "plt.plot(fpr, tpr, marker='.',label='Test Data')\n",
    "# show the plot\n",
    "plt.legend(loc='best')\n",
    "plt.xlabel(\"False Positive\")\n",
    "plt.ylabel(\"True Positive\")\n",
    "plt.show()"
   ]
  },
  {
   "cell_type": "markdown",
   "id": "0d6a26b9",
   "metadata": {},
   "source": [
    "### Storing the featue importance of decision tree in csv file"
   ]
  },
  {
   "cell_type": "code",
   "execution_count": 49,
   "id": "fc979fa4",
   "metadata": {},
   "outputs": [],
   "source": [
    "DT_fea_imp=pd.DataFrame([DTmodel.feature_names_in_,DTmodel.feature_importances_]).T\n",
    "DT_fea_imp.columns=['Mutation_Features','Feature_importance']\n",
    "DT_fea_imp.sort_values(by='Feature_importance',ascending=False,inplace=True)\n",
    "DT_fea_imp.to_csv(\"Feature_importance_SNP_Model_DT_model.csv\",index=False)"
   ]
  },
  {
   "cell_type": "code",
   "execution_count": null,
   "id": "8b0b1e81",
   "metadata": {},
   "outputs": [],
   "source": []
  },
  {
   "cell_type": "code",
   "execution_count": null,
   "id": "d361a6a6",
   "metadata": {},
   "outputs": [],
   "source": []
  },
  {
   "cell_type": "markdown",
   "id": "c10a44d5",
   "metadata": {},
   "source": [
    "# Random Forest\n",
    "\n",
    "Random Forest is an ensemble learning algorithm that builds multiple decision trees on random subsets of data and features, then combines their outputs (by majority vote or averaging) to improve accuracy and reduce overfitting"
   ]
  },
  {
   "cell_type": "markdown",
   "id": "bc17095c",
   "metadata": {},
   "source": [
    "## Hyper parameter tuning for Random forest"
   ]
  },
  {
   "cell_type": "code",
   "execution_count": 50,
   "id": "b5fdae29",
   "metadata": {},
   "outputs": [
    {
     "name": "stdout",
     "output_type": "stream",
     "text": [
      "{'criterion': 'gini', 'max_depth': 5, 'n_estimators': 7} \n",
      "\n",
      "RandomForestClassifier(max_depth=5, n_estimators=7, random_state=42)\n"
     ]
    }
   ],
   "source": [
    "grid={\n",
    "     'criterion':['gini', 'entropy', 'log_loss'],\n",
    "     'n_estimators':np.arange(5,10),\n",
    "     'max_depth':np.arange(5,10)\n",
    "     }\n",
    "\n",
    "model = RandomForestClassifier(random_state=42)\n",
    "\n",
    "grid_search = GridSearchCV(estimator = model, param_grid = grid, cv = 5)\n",
    "\n",
    "grid_search.fit(X_train, y_train)\n",
    "\n",
    "print(grid_search.best_params_,'\\n')\n",
    "print(grid_search.best_estimator_)"
   ]
  },
  {
   "cell_type": "code",
   "execution_count": 51,
   "id": "3ecf6968",
   "metadata": {},
   "outputs": [
    {
     "name": "stdout",
     "output_type": "stream",
     "text": [
      "               Train Accuracy  Test accuracy\n",
      "without_hyper        0.971429       0.800000\n",
      "with_hyper           0.971429       0.866667\n"
     ]
    }
   ],
   "source": [
    "RF_without = RandomForestClassifier(random_state=42)\n",
    "RF_with = RandomForestClassifier(random_state=42, criterion='entropy',max_depth=6, n_estimators=5)\n",
    "                          \n",
    "\n",
    "models=[RF_without,RF_with]\n",
    "\n",
    "scores_train=[]\n",
    "scores_test=[]\n",
    "\n",
    "for i in models:\n",
    "    i.fit(X_train,y_train)\n",
    "    scores_train.append(i.score(X_train,y_train))\n",
    "    scores_test.append(i.score(X_test,y_test))\n",
    "    \n",
    "print(pd.DataFrame({'Train Accuracy':scores_train,'Test accuracy':scores_test},index=['without_hyper','with_hyper']))"
   ]
  },
  {
   "cell_type": "code",
   "execution_count": 52,
   "id": "b87cf2ba",
   "metadata": {},
   "outputs": [],
   "source": [
    "RFmodel = RandomForestClassifier(random_state=42, criterion='gini',max_depth=3)\n",
    "RFmodel.fit(X_train, y_train)\n",
    "\n",
    "RF_ytrain_predict = RFmodel.predict(X_train)\n",
    "RF_ytest_predict = RFmodel.predict(X_test)"
   ]
  },
  {
   "cell_type": "markdown",
   "id": "c6a70048",
   "metadata": {},
   "source": [
    "## Confusion Matrix"
   ]
  },
  {
   "cell_type": "code",
   "execution_count": 53,
   "id": "9aee01a8",
   "metadata": {},
   "outputs": [
    {
     "data": {
      "image/png": "[encoded data removed]",
      "text/plain": [
       "<Figure size 640x480 with 4 Axes>"
      ]
     },
     "metadata": {},
     "output_type": "display_data"
    }
   ],
   "source": [
    "f,a =  plt.subplots(1,2,sharex=True,sharey=True,squeeze=False)\n",
    "\n",
    "plot_0 = sns.heatmap((confusion_matrix(y_train,RF_ytrain_predict)),annot=True,fmt='.5g',cmap='Blues',ax=a[0][0]);\n",
    "a[0][0].set_title('Training Data')\n",
    "\n",
    "plot_1 = sns.heatmap((confusion_matrix(y_test,RF_ytest_predict)),annot=True,fmt='.5g',cmap='Blues',ax=a[0][1]);\n",
    "a[0][1].set_title('Test Data');\n"
   ]
  },
  {
   "cell_type": "markdown",
   "id": "61da1cb0",
   "metadata": {},
   "source": [
    "## Classification Report"
   ]
  },
  {
   "cell_type": "code",
   "execution_count": 54,
   "id": "dd0765c6",
   "metadata": {},
   "outputs": [
    {
     "name": "stdout",
     "output_type": "stream",
     "text": [
      "Classification Report of the training data:\n",
      "\n",
      "               precision    recall  f1-score   support\n",
      "\n",
      "           0       1.00      0.94      0.97        17\n",
      "           1       0.95      1.00      0.97        18\n",
      "\n",
      "    accuracy                           0.97        35\n",
      "   macro avg       0.97      0.97      0.97        35\n",
      "weighted avg       0.97      0.97      0.97        35\n",
      " \n",
      "\n",
      "Classification Report of the test data:\n",
      "\n",
      "               precision    recall  f1-score   support\n",
      "\n",
      "           0       1.00      0.75      0.86         8\n",
      "           1       0.78      1.00      0.88         7\n",
      "\n",
      "    accuracy                           0.87        15\n",
      "   macro avg       0.89      0.88      0.87        15\n",
      "weighted avg       0.90      0.87      0.87        15\n",
      " \n",
      "\n"
     ]
    }
   ],
   "source": [
    "print('Classification Report of the training data:\\n\\n',classification_report(y_train,RF_ytrain_predict),'\\n')\n",
    "print('Classification Report of the test data:\\n\\n',classification_report(y_test,RF_ytest_predict),'\\n')"
   ]
  },
  {
   "cell_type": "code",
   "execution_count": 55,
   "id": "540d2328",
   "metadata": {},
   "outputs": [
    {
     "name": "stdout",
     "output_type": "stream",
     "text": [
      "AUC for the Training Data: 0.985\n",
      "AUC for the Test Data: 0.929\n"
     ]
    },
    {
     "data": {
      "image/png": "[encoded data removed]",
      "text/plain": [
       "<Figure size 640x480 with 1 Axes>"
      ]
     },
     "metadata": {},
     "output_type": "display_data"
    }
   ],
   "source": [
    "# AUC and ROC for the training data\n",
    "\n",
    "# calculate AUC\n",
    "probs = RFmodel.predict_proba(X_train)\n",
    "\n",
    "auc = roc_auc_score(y_train,probs[:,1])\n",
    "print('AUC for the Training Data: %.3f' % auc)\n",
    "\n",
    "#  calculate roc curve\n",
    "fpr, tpr, thresholds = roc_curve(y_train,probs[:,1])\n",
    "plt.plot([0, 1], [0, 1], linestyle='--')\n",
    "# plot the roc curve for the model\n",
    "plt.plot(fpr, tpr, marker='.',label = 'Training Data')\n",
    "\n",
    "\n",
    "# AUC and ROC for the test data\n",
    "probs = RFmodel.predict_proba(X_test)\n",
    "\n",
    "# calculate AUC\n",
    "auc = roc_auc_score(y_test,probs[:,1])\n",
    "print('AUC for the Test Data: %.3f' % auc)\n",
    "\n",
    "#  calculate roc curve\n",
    "fpr, tpr, thresholds = roc_curve(y_test,probs[:,1])\n",
    "plt.plot([0, 1], [0, 1], linestyle='--')\n",
    "# plot the roc curve for the model\n",
    "plt.plot(fpr, tpr, marker='.',label='Test Data')\n",
    "# show the plot\n",
    "plt.legend(loc='best')\n",
    "plt.xlabel(\"False Positive\")\n",
    "plt.ylabel(\"True Positive\")\n",
    "plt.show()"
   ]
  },
  {
   "cell_type": "markdown",
   "id": "3e59e8a2",
   "metadata": {},
   "source": [
    "### Storing the feature importance of the random forest in csv file"
   ]
  },
  {
   "cell_type": "code",
   "execution_count": 56,
   "id": "248378bb",
   "metadata": {},
   "outputs": [],
   "source": [
    "RF_fea_imp=pd.DataFrame([RFmodel.feature_names_in_,RFmodel.feature_importances_]).T\n",
    "RF_fea_imp.columns=['Mutation_Features','Feature_importance']\n",
    "RF_fea_imp.sort_values(by='Feature_importance',ascending=False,inplace=True)\n",
    "RF_fea_imp.to_csv(\"Feature_importance_SNP_Model_RF_model.csv\",index=False)"
   ]
  },
  {
   "cell_type": "code",
   "execution_count": null,
   "id": "1c95618a",
   "metadata": {},
   "outputs": [],
   "source": []
  },
  {
   "cell_type": "code",
   "execution_count": null,
   "id": "0f7a5d7a",
   "metadata": {},
   "outputs": [],
   "source": []
  },
  {
   "cell_type": "markdown",
   "id": "046660ce",
   "metadata": {},
   "source": [
    "# SVC"
   ]
  },
  {
   "cell_type": "markdown",
   "id": "e66f26ea",
   "metadata": {},
   "source": [
    "## Hyper parameter tuning for SVC"
   ]
  },
  {
   "cell_type": "code",
   "execution_count": 57,
   "id": "b1d3fe23",
   "metadata": {},
   "outputs": [
    {
     "name": "stdout",
     "output_type": "stream",
     "text": [
      "{'C': 0.201, 'kernel': 'linear'} \n",
      "\n",
      "SVC(C=0.201, kernel='linear', random_state=42)\n"
     ]
    }
   ],
   "source": [
    "grid={'C':  np.arange(0.001,1,0.1),\n",
    "    'kernel': ['linear', 'poly', 'rbf', 'sigmoid']\n",
    "     }\n",
    "\n",
    "model = svm.SVC(random_state=42)\n",
    "\n",
    "grid_search = GridSearchCV(estimator = model, param_grid = grid, cv = 5)\n",
    "\n",
    "grid_search.fit(X_train, y_train)\n",
    "\n",
    "print(grid_search.best_params_,'\\n')\n",
    "print(grid_search.best_estimator_)"
   ]
  },
  {
   "cell_type": "code",
   "execution_count": 58,
   "id": "ba4c3af1",
   "metadata": {},
   "outputs": [
    {
     "name": "stdout",
     "output_type": "stream",
     "text": [
      "               Train Accuracy  Test accuracy\n",
      "without_hyper        0.971429            0.8\n",
      "with_hyper           0.971429            0.8\n"
     ]
    }
   ],
   "source": [
    "SVC_without = svm.SVC(random_state=42)\n",
    "SVC_with = svm.SVC(C=0.50,kernel='linear',random_state=42)\n",
    "                          \n",
    "\n",
    "models=[SVC_without,SVC_with]\n",
    "\n",
    "scores_train=[]\n",
    "scores_test=[]\n",
    "\n",
    "for i in models:\n",
    "    i.fit(X_train,y_train)\n",
    "    scores_train.append(i.score(X_train,y_train))\n",
    "    scores_test.append(i.score(X_test,y_test))\n",
    "    \n",
    "print(pd.DataFrame({'Train Accuracy':scores_train,'Test accuracy':scores_test},index=['without_hyper','with_hyper']))"
   ]
  },
  {
   "cell_type": "code",
   "execution_count": 59,
   "id": "1050e94c",
   "metadata": {},
   "outputs": [],
   "source": [
    "SVCmodel = svm.SVC(C=0.50,kernel='linear',random_state=42,probability=True)\n",
    "SVCmodel.fit(X_train, y_train)\n",
    "\n",
    "SVC_ytrain_predict = SVCmodel.predict(X_train)\n",
    "SVC_ytest_predict = SVCmodel.predict(X_test)"
   ]
  },
  {
   "cell_type": "markdown",
   "id": "32ee47f9",
   "metadata": {},
   "source": [
    "## Confusion Matrix"
   ]
  },
  {
   "cell_type": "code",
   "execution_count": 60,
   "id": "f707ddb0",
   "metadata": {},
   "outputs": [
    {
     "data": {
      "image/png": "[encoded data removed]",
      "text/plain": [
       "<Figure size 640x480 with 4 Axes>"
      ]
     },
     "metadata": {},
     "output_type": "display_data"
    }
   ],
   "source": [
    "f,a =  plt.subplots(1,2,sharex=True,sharey=True,squeeze=False)\n",
    "\n",
    "plot_0 = sns.heatmap((confusion_matrix(y_train,SVC_ytrain_predict)),annot=True,fmt='.5g',cmap='Blues',ax=a[0][0]);\n",
    "a[0][0].set_title('Training Data')\n",
    "\n",
    "plot_1 = sns.heatmap((confusion_matrix(y_test,SVC_ytest_predict)),annot=True,fmt='.5g',cmap='Blues',ax=a[0][1]);\n",
    "a[0][1].set_title('Test Data');\n"
   ]
  },
  {
   "cell_type": "markdown",
   "id": "4cfde3f5",
   "metadata": {},
   "source": [
    "## Classification Report"
   ]
  },
  {
   "cell_type": "code",
   "execution_count": 61,
   "id": "c8431b85",
   "metadata": {},
   "outputs": [
    {
     "name": "stdout",
     "output_type": "stream",
     "text": [
      "Classification Report of the training data:\n",
      "\n",
      "               precision    recall  f1-score   support\n",
      "\n",
      "           0       1.00      0.94      0.97        17\n",
      "           1       0.95      1.00      0.97        18\n",
      "\n",
      "    accuracy                           0.97        35\n",
      "   macro avg       0.97      0.97      0.97        35\n",
      "weighted avg       0.97      0.97      0.97        35\n",
      " \n",
      "\n",
      "Classification Report of the test data:\n",
      "\n",
      "               precision    recall  f1-score   support\n",
      "\n",
      "           0       0.86      0.75      0.80         8\n",
      "           1       0.75      0.86      0.80         7\n",
      "\n",
      "    accuracy                           0.80        15\n",
      "   macro avg       0.80      0.80      0.80        15\n",
      "weighted avg       0.81      0.80      0.80        15\n",
      " \n",
      "\n"
     ]
    }
   ],
   "source": [
    "print('Classification Report of the training data:\\n\\n',classification_report(y_train,SVC_ytrain_predict),'\\n')\n",
    "print('Classification Report of the test data:\\n\\n',classification_report(y_test,SVC_ytest_predict),'\\n')"
   ]
  },
  {
   "cell_type": "code",
   "execution_count": 62,
   "id": "c3727a9c",
   "metadata": {},
   "outputs": [
    {
     "name": "stdout",
     "output_type": "stream",
     "text": [
      "AUC for the Training Data: 0.979\n",
      "AUC for the Test Data: 0.884\n"
     ]
    },
    {
     "data": {
      "image/png": "[encoded data removed]",
      "text/plain": [
       "<Figure size 640x480 with 1 Axes>"
      ]
     },
     "metadata": {},
     "output_type": "display_data"
    }
   ],
   "source": [
    "# AUC and ROC for the training data\n",
    "\n",
    "# calculate AUC\n",
    "probs = SVCmodel.predict_proba(X_train)\n",
    "\n",
    "auc = roc_auc_score(y_train,probs[:,1])\n",
    "print('AUC for the Training Data: %.3f' % auc)\n",
    "\n",
    "#  calculate roc curve\n",
    "fpr, tpr, thresholds = roc_curve(y_train,probs[:,1])\n",
    "plt.plot([0, 1], [0, 1], linestyle='--')\n",
    "# plot the roc curve for the model\n",
    "plt.plot(fpr, tpr, marker='.',label = 'Training Data')\n",
    "\n",
    "\n",
    "# AUC and ROC for the test data\n",
    "probs = SVCmodel.predict_proba(X_test)\n",
    "\n",
    "# calculate AUC\n",
    "auc = roc_auc_score(y_test,probs[:,1])\n",
    "print('AUC for the Test Data: %.3f' % auc)\n",
    "\n",
    "#  calculate roc curve\n",
    "fpr, tpr, thresholds = roc_curve(y_test,probs[:,1])\n",
    "plt.plot([0, 1], [0, 1], linestyle='--')\n",
    "# plot the roc curve for the model\n",
    "plt.plot(fpr, tpr, marker='.',label='Test Data')\n",
    "# show the plot\n",
    "plt.legend(loc='best')\n",
    "plt.xlabel(\"False Positive\")\n",
    "plt.ylabel(\"True Positive\")\n",
    "plt.show()"
   ]
  },
  {
   "cell_type": "markdown",
   "id": "7e540bd5",
   "metadata": {},
   "source": [
    "### Storing the coefficient of the SVC in a csv file "
   ]
  },
  {
   "cell_type": "code",
   "execution_count": 63,
   "id": "badcfd27",
   "metadata": {},
   "outputs": [],
   "source": [
    "svm_coef=pd.DataFrame([SVCmodel.feature_names_in_,SVCmodel.coef_.flatten()]).T\n",
    "svm_coef.head()\n",
    "svm_coef.columns=['Mutation_Features','Coef']\n",
    "svm_coef.sort_values(by='Coef',ascending=False,inplace=True)\n",
    "svm_coef.head()\n",
    "svm_coef.to_csv(\"Feature_importance_SNP_Model_SVM.csv\",index=False)"
   ]
  },
  {
   "cell_type": "markdown",
   "id": "5f5bc049",
   "metadata": {},
   "source": [
    "# XGboost"
   ]
  },
  {
   "cell_type": "markdown",
   "id": "7996475d",
   "metadata": {},
   "source": [
    "## Hyper parameter tuning for Xgboost"
   ]
  },
  {
   "cell_type": "code",
   "execution_count": 64,
   "id": "beb03002",
   "metadata": {},
   "outputs": [
    {
     "name": "stdout",
     "output_type": "stream",
     "text": [
      "{'learning_rate': 0.03, 'max_depth': 3, 'n_estimators': 4} \n",
      "\n",
      "XGBClassifier(base_score=None, booster=None, callbacks=None,\n",
      "              colsample_bylevel=None, colsample_bynode=None,\n",
      "              colsample_bytree=None, device=None, early_stopping_rounds=None,\n",
      "              enable_categorical=False, eval_metric=None, feature_types=None,\n",
      "              gamma=None, grow_policy=None, importance_type=None,\n",
      "              interaction_constraints=None, learning_rate=0.03, max_bin=None,\n",
      "              max_cat_threshold=None, max_cat_to_onehot=None,\n",
      "              max_delta_step=None, max_depth=3, max_leaves=None,\n",
      "              min_child_weight=None, missing=nan, monotone_constraints=None,\n",
      "              multi_strategy=None, n_estimators=4, n_jobs=None,\n",
      "              num_parallel_tree=None, random_state=42, ...)\n"
     ]
    }
   ],
   "source": [
    "grid={\"learning_rate\": np.arange(0.01,0.1,0.01),\n",
    "    \"max_depth\": np.arange(3,5), \n",
    "    \"n_estimators\":np.arange(3,5)\n",
    "     }\n",
    "\n",
    "model = xgb.XGBClassifier(random_state=42)\n",
    "\n",
    "grid_search = GridSearchCV(estimator = model, param_grid = grid, cv = 5)\n",
    "\n",
    "grid_search.fit(X_train, y_train)\n",
    "\n",
    "print(grid_search.best_params_,'\\n')\n",
    "print(grid_search.best_estimator_)"
   ]
  },
  {
   "cell_type": "code",
   "execution_count": 65,
   "id": "7bb924a9",
   "metadata": {},
   "outputs": [
    {
     "name": "stdout",
     "output_type": "stream",
     "text": [
      "               Train Accuracy  Test accuracy\n",
      "without_hyper        0.914286       0.800000\n",
      "with_hyper           0.514286       0.466667\n"
     ]
    }
   ],
   "source": [
    "XGB_without = xgb.XGBClassifier(random_state=42)\n",
    "XGB_with = xgb.XGBClassifier(learning_rate=0.01,max_depth=3,n_estimators= 3,random_state=42)\n",
    "                          \n",
    "\n",
    "models=[XGB_without,XGB_with]\n",
    "\n",
    "scores_train=[]\n",
    "scores_test=[]\n",
    "\n",
    "for i in models:\n",
    "    i.fit(X_train,y_train)\n",
    "    scores_train.append(i.score(X_train,y_train))\n",
    "    scores_test.append(i.score(X_test,y_test))\n",
    "    \n",
    "print(pd.DataFrame({'Train Accuracy':scores_train,'Test accuracy':scores_test},index=['without_hyper','with_hyper']))"
   ]
  },
  {
   "cell_type": "code",
   "execution_count": 66,
   "id": "c3536481",
   "metadata": {},
   "outputs": [],
   "source": [
    "XGBmodel = xgb.XGBClassifier(learning_rate=0.01,max_depth=3,n_estimators= 3,random_state=42)\n",
    "XGBmodel.fit(X_train, y_train)\n",
    "\n",
    "XGB_ytrain_predict = XGBmodel.predict(X_train)\n",
    "XGB_ytest_predict = XGBmodel.predict(X_test)"
   ]
  },
  {
   "cell_type": "markdown",
   "id": "cd57a737",
   "metadata": {},
   "source": [
    "## Confusion Matrix"
   ]
  },
  {
   "cell_type": "code",
   "execution_count": 67,
   "id": "644f0979",
   "metadata": {},
   "outputs": [
    {
     "data": {
      "image/png": "[encoded data removed]",
      "text/plain": [
       "<Figure size 640x480 with 4 Axes>"
      ]
     },
     "metadata": {},
     "output_type": "display_data"
    }
   ],
   "source": [
    "f,a =  plt.subplots(1,2,sharex=True,sharey=True,squeeze=False)\n",
    "\n",
    "plot_0 = sns.heatmap((confusion_matrix(y_train,XGB_ytrain_predict)),annot=True,fmt='.5g',cmap='Blues',ax=a[0][0]);\n",
    "a[0][0].set_title('Training Data')\n",
    "\n",
    "plot_1 = sns.heatmap((confusion_matrix(y_test,XGB_ytest_predict)),annot=True,fmt='.5g',cmap='Blues',ax=a[0][1]);\n",
    "a[0][1].set_title('Test Data');\n"
   ]
  },
  {
   "cell_type": "markdown",
   "id": "8315c041",
   "metadata": {},
   "source": [
    "## Classification Report"
   ]
  },
  {
   "cell_type": "code",
   "execution_count": 68,
   "id": "6956fbf9",
   "metadata": {},
   "outputs": [
    {
     "name": "stdout",
     "output_type": "stream",
     "text": [
      "Classification Report of the training data:\n",
      "\n",
      "               precision    recall  f1-score   support\n",
      "\n",
      "           0       0.00      0.00      0.00        17\n",
      "           1       0.51      1.00      0.68        18\n",
      "\n",
      "    accuracy                           0.51        35\n",
      "   macro avg       0.26      0.50      0.34        35\n",
      "weighted avg       0.26      0.51      0.35        35\n",
      " \n",
      "\n",
      "Classification Report of the test data:\n",
      "\n",
      "               precision    recall  f1-score   support\n",
      "\n",
      "           0       0.00      0.00      0.00         8\n",
      "           1       0.47      1.00      0.64         7\n",
      "\n",
      "    accuracy                           0.47        15\n",
      "   macro avg       0.23      0.50      0.32        15\n",
      "weighted avg       0.22      0.47      0.30        15\n",
      " \n",
      "\n"
     ]
    }
   ],
   "source": [
    "print('Classification Report of the training data:\\n\\n',classification_report(y_train,XGB_ytrain_predict),'\\n')\n",
    "print('Classification Report of the test data:\\n\\n',classification_report(y_test,XGB_ytest_predict),'\\n')"
   ]
  },
  {
   "cell_type": "code",
   "execution_count": 69,
   "id": "57c692ae",
   "metadata": {},
   "outputs": [
    {
     "name": "stdout",
     "output_type": "stream",
     "text": [
      "AUC for the Training Data: 0.954\n",
      "AUC for the Test Data: 0.812\n"
     ]
    },
    {
     "data": {
      "image/png": "[encoded data removed]",
      "text/plain": [
       "<Figure size 640x480 with 1 Axes>"
      ]
     },
     "metadata": {},
     "output_type": "display_data"
    }
   ],
   "source": [
    "# AUC and ROC for the training data\n",
    "\n",
    "# calculate AUC\n",
    "probs = XGBmodel.predict_proba(X_train)\n",
    "\n",
    "auc = roc_auc_score(y_train,probs[:,1])\n",
    "print('AUC for the Training Data: %.3f' % auc)\n",
    "\n",
    "#  calculate roc curve\n",
    "fpr, tpr, thresholds = roc_curve(y_train,probs[:,1])\n",
    "plt.plot([0, 1], [0, 1], linestyle='--')\n",
    "# plot the roc curve for the model\n",
    "plt.plot(fpr, tpr, marker='.',label = 'Training Data')\n",
    "\n",
    "\n",
    "# AUC and ROC for the test data\n",
    "probs = XGBmodel.predict_proba(X_test)\n",
    "\n",
    "# calculate AUC\n",
    "auc = roc_auc_score(y_test,probs[:,1])\n",
    "print('AUC for the Test Data: %.3f' % auc)\n",
    "\n",
    "#  calculate roc curve\n",
    "fpr, tpr, thresholds = roc_curve(y_test,probs[:,1])\n",
    "plt.plot([0, 1], [0, 1], linestyle='--')\n",
    "# plot the roc curve for the model\n",
    "plt.plot(fpr, tpr, marker='.',label='Test Data')\n",
    "# show the plot\n",
    "plt.legend(loc='best')\n",
    "plt.xlabel(\"False Positive\")\n",
    "plt.ylabel(\"True Positive\")\n",
    "plt.show()"
   ]
  },
  {
   "cell_type": "markdown",
   "id": "afab43af",
   "metadata": {},
   "source": [
    "### Storing the coefficient of the Xgboost in a csv file"
   ]
  },
  {
   "cell_type": "code",
   "execution_count": 70,
   "id": "5947432b",
   "metadata": {},
   "outputs": [],
   "source": [
    "xgb_fea_imp=pd.DataFrame([XGBmodel.feature_names_in_,XGBmodel.feature_importances_]).T\n",
    "xgb_fea_imp.columns=['Mutation_Features','Feature_importance']\n",
    "xgb_fea_imp.sort_values(by='Feature_importance',ascending=False,inplace=True)\n",
    "xgb_fea_imp.to_csv(\"Feature_importance_SNP_Model_XGB_model.csv\",index=False)"
   ]
  },
  {
   "cell_type": "markdown",
   "id": "b5f88fd9",
   "metadata": {},
   "source": [
    "## Comparing Model Performance Based on Accuracy"
   ]
  },
  {
   "cell_type": "markdown",
   "id": "d3f70db7",
   "metadata": {},
   "source": [
    "Here we are creating variables which holds accuracy of both train and test dataset for five different models and visualizing the accuracies using a bar plot from matplotlib library"
   ]
  },
  {
   "cell_type": "code",
   "execution_count": 71,
   "id": "f10d300e",
   "metadata": {},
   "outputs": [],
   "source": [
    "# Creating a dataframe which holds the accuracy value of train and test \n",
    "\n",
    "train_LR=logmodel.score(X_train,y_train)\n",
    "test_LR=logmodel.score(X_test,y_test)\n",
    "df1=pd.DataFrame([train_LR,test_LR]).T\n",
    "\n",
    "train_DT=DTmodel.score(X_train,y_train)\n",
    "test_DT=DTmodel.score(X_test,y_test)\n",
    "df2=pd.DataFrame([train_DT,test_DT]).T\n",
    "\n",
    "\n",
    "train_RF=RFmodel.score(X_train,y_train)\n",
    "test_RF=RFmodel.score(X_test,y_test)\n",
    "df3=pd.DataFrame([train_RF,test_RF]).T\n",
    "\n",
    "train_SVC=SVCmodel.score(X_train,y_train)\n",
    "test_SVC=SVCmodel.score(X_test,y_test)\n",
    "df4=pd.DataFrame([train_SVC,test_SVC]).T\n",
    "\n",
    "train_XGB=XGBmodel.score(X_train,y_train)\n",
    "test_XGB=XGBmodel.score(X_test,y_test)\n",
    "df5=pd.DataFrame([train_XGB,test_XGB]).T\n"
   ]
  },
  {
   "cell_type": "code",
   "execution_count": 72,
   "id": "99d10950",
   "metadata": {},
   "outputs": [],
   "source": [
    "# Concatinating all the dataframes\n",
    "\n",
    "combined_df = pd.concat([df1,df2,df3,df4,df5], ignore_index=False)"
   ]
  },
  {
   "cell_type": "code",
   "execution_count": 73,
   "id": "dfa6c556",
   "metadata": {},
   "outputs": [],
   "source": [
    "# Renaming the indexes and columns \n",
    "\n",
    "combined_df.index=['LR','DT','RF','SVM','XGB']\n",
    "combined_df.columns=['Train', 'Test']"
   ]
  },
  {
   "cell_type": "code",
   "execution_count": 74,
   "id": "7b1d1203",
   "metadata": {},
   "outputs": [
    {
     "data": {
      "image/png": "[encoded data removed]",
      "text/plain": [
       "<Figure size 800x500 with 1 Axes>"
      ]
     },
     "metadata": {},
     "output_type": "display_data"
    }
   ],
   "source": [
    "# Plotting the results for analysis \n",
    "\n",
    "ax = combined_df.plot(kind=\"bar\", figsize=(8,5))\n",
    "\n",
    "plt.ylabel(\"Accuracy\")\n",
    "plt.xlabel(\"Model\")\n",
    "plt.title(\"Train vs Test Accuracy\")\n",
    "plt.xticks(rotation=0)\n",
    "plt.legend(title=\"Dataset\", bbox_to_anchor=(1, 1))\n",
    "\n",
    "# Annotate each bar with its value\n",
    "for container in ax.containers:\n",
    "    ax.bar_label(container, fmt=\"%.2f\",  fontsize=9)\n",
    "\n",
    "plt.tight_layout()\n",
    "plt.show()"
   ]
  },
  {
   "cell_type": "markdown",
   "id": "737d9253",
   "metadata": {},
   "source": [
    "### Interpretation "
   ]
  },
  {
   "cell_type": "markdown",
   "id": "79e9cc6a",
   "metadata": {},
   "source": [
    "* Since mutations are spontaneous events that occur randomly in the genome, there is no fixed or consistent number of occurrences across genomes. This limitation can be addressed by increasing the sample size or by using different sampling techniques to artificially generate data, thereby improving the model’s performance.\n",
    "\n",
    "* In our case all the models are attaining overffiting as it could not able to perform well on the test dataset when compared with the training data.\n",
    "\n",
    "* To conclude we are choosing <b>logistic regression</b> model by considering easy interpretability and less complex when compared to other models.\n"
   ]
  },
  {
   "cell_type": "code",
   "execution_count": null,
   "id": "bbc3512d",
   "metadata": {},
   "outputs": [],
   "source": []
  }
 ],
 "metadata": {
  "kernelspec": {
   "display_name": "Python 3 (ipykernel)",
   "language": "python",
   "name": "python3"
  },
  "language_info": {
   "codemirror_mode": {
    "name": "ipython",
    "version": 3
   },
   "file_extension": ".py",
   "mimetype": "text/x-python",
   "name": "python",
   "nbconvert_exporter": "python",
   "pygments_lexer": "ipython3",
   "version": "3.11.4"
  }
 },
 "nbformat": 4,
 "nbformat_minor": 5
}
