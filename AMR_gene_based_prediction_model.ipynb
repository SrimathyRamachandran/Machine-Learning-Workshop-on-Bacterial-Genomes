{
 "cells": [
  {
   "cell_type": "markdown",
   "id": "c1984047",
   "metadata": {
    "id": "c1984047"
   },
   "source": [
    "# <center> Two Day Hands-on Workshop on Machine Learning Approaches in Bacterial Genomics</center>\n",
    "# <center> Conducted by DBT-BIC at SASTRA University\n",
    " <center> This work was supported by DBT grant BT/PR40144/BTIS/137/46/2022. Users are requested to acknowledge this grant when utilizing this resource </center>"
   ]
  },
  {
   "cell_type": "markdown",
   "id": "95f9400b",
   "metadata": {
    "id": "95f9400b"
   },
   "source": [
    "## <u><center> Gene Based AMR Phenotype Prediction for Tigecycline Resistance </center></u>"
   ]
  },
  {
   "cell_type": "markdown",
   "id": "ed726653",
   "metadata": {
    "id": "ed726653"
   },
   "source": [
    "###  This notebook predicts the tigecycline resistant and susceptible phenotype for <i> acinetobacter baumannii</i> isolates collected from public databases using AMR genes. It uses five different machine learning models such as Logistic Regression, Decision Tree, Random Forest, Support Vector Machine and eXtreme Gradiant Boosting. The hyper parameters of the models are tunied using Grid Search and evaluated using confusion matrix and classification report"
   ]
  },
  {
   "cell_type": "code",
   "execution_count": 1,
   "id": "62b380f1",
   "metadata": {
    "id": "62b380f1"
   },
   "outputs": [],
   "source": [
    "# Load the necessary libraries\n",
    "\n",
    "import numpy as np\n",
    "import pandas as pd\n",
    "import matplotlib.pyplot as plt\n",
    "import seaborn as sns\n",
    "from sklearn.model_selection import train_test_split,GridSearchCV\n",
    "from sklearn.linear_model import LogisticRegression\n",
    "from sklearn.metrics import roc_auc_score,roc_curve,classification_report,confusion_matrix\n",
    "from sklearn.tree import DecisionTreeClassifier\n",
    "from sklearn.ensemble import RandomForestClassifier\n",
    "from sklearn import svm\n",
    "import xgboost as xgb\n",
    "from scipy.stats import chi2_contingency\n",
    "from sklearn.feature_selection import mutual_info_classif\n",
    "\n",
    "import warnings\n",
    "warnings.filterwarnings(\"ignore\")"
   ]
  },
  {
   "cell_type": "code",
   "execution_count": 2,
   "id": "f78cc0b4",
   "metadata": {
    "id": "f78cc0b4"
   },
   "outputs": [],
   "source": [
    "# Setting random seed for reproducibility\n",
    "\n",
    "np.random.seed(42)"
   ]
  },
  {
   "cell_type": "markdown",
   "id": "15113ded",
   "metadata": {
    "id": "15113ded"
   },
   "source": [
    "# AMR Gene Data Preprocessing"
   ]
  },
  {
   "cell_type": "code",
   "execution_count": 3,
   "id": "0370589d",
   "metadata": {
    "id": "0370589d"
   },
   "outputs": [],
   "source": [
    "#Read the abricate output and the label data file in a variable\n",
    "\n",
    "genes=pd.read_csv(\"AB_Abricate_summary.tab\",delimiter=\"\\t\")\n",
    "Label=pd.read_csv(\"Label_AB1.csv\")"
   ]
  },
  {
   "cell_type": "code",
   "execution_count": 4,
   "id": "45df314b",
   "metadata": {
    "colab": {
     "base_uri": "https://localhost:8080/",
     "height": 273
    },
    "id": "45df314b",
    "outputId": "ab12b626-0ced-44e1-db41-7c0dbcd788ed",
    "scrolled": true
   },
   "outputs": [
    {
     "data": {
      "text/html": [
       "<div>\n",
       "<style scoped>\n",
       "    .dataframe tbody tr th:only-of-type {\n",
       "        vertical-align: middle;\n",
       "    }\n",
       "\n",
       "    .dataframe tbody tr th {\n",
       "        vertical-align: top;\n",
       "    }\n",
       "\n",
       "    .dataframe thead th {\n",
       "        text-align: right;\n",
       "    }\n",
       "</style>\n",
       "<table border=\"1\" class=\"dataframe\">\n",
       "  <thead>\n",
       "    <tr style=\"text-align: right;\">\n",
       "      <th></th>\n",
       "      <th>#FILE</th>\n",
       "      <th>NUM_FOUND</th>\n",
       "      <th>AAC(3)-IId</th>\n",
       "      <th>AAC(3)-IIe</th>\n",
       "      <th>AAC(3)-Ia</th>\n",
       "      <th>AAC(6')-Ian</th>\n",
       "      <th>AAC(6')-Ib7</th>\n",
       "      <th>ADC-10</th>\n",
       "      <th>ADC-25</th>\n",
       "      <th>ADC-30</th>\n",
       "      <th>...</th>\n",
       "      <th>catI</th>\n",
       "      <th>dfrA16</th>\n",
       "      <th>floR</th>\n",
       "      <th>mphE</th>\n",
       "      <th>msrE</th>\n",
       "      <th>sul1</th>\n",
       "      <th>sul2</th>\n",
       "      <th>tet(39)</th>\n",
       "      <th>tet(A)</th>\n",
       "      <th>tet(B)</th>\n",
       "    </tr>\n",
       "  </thead>\n",
       "  <tbody>\n",
       "    <tr>\n",
       "      <th>0</th>\n",
       "      <td>1398943.3.fna.tab</td>\n",
       "      <td>29</td>\n",
       "      <td>.</td>\n",
       "      <td>.</td>\n",
       "      <td>.</td>\n",
       "      <td>.</td>\n",
       "      <td>100.00</td>\n",
       "      <td>.</td>\n",
       "      <td>.</td>\n",
       "      <td>.</td>\n",
       "      <td>...</td>\n",
       "      <td>.</td>\n",
       "      <td>.</td>\n",
       "      <td>.</td>\n",
       "      <td>100.00</td>\n",
       "      <td>100.00</td>\n",
       "      <td>100.00</td>\n",
       "      <td>.</td>\n",
       "      <td>.</td>\n",
       "      <td>.</td>\n",
       "      <td>99.50</td>\n",
       "    </tr>\n",
       "    <tr>\n",
       "      <th>1</th>\n",
       "      <td>1398944.3.fna.tab</td>\n",
       "      <td>29</td>\n",
       "      <td>.</td>\n",
       "      <td>100.00</td>\n",
       "      <td>.</td>\n",
       "      <td>.</td>\n",
       "      <td>.</td>\n",
       "      <td>.</td>\n",
       "      <td>100.00</td>\n",
       "      <td>.</td>\n",
       "      <td>...</td>\n",
       "      <td>.</td>\n",
       "      <td>.</td>\n",
       "      <td>.</td>\n",
       "      <td>100.00</td>\n",
       "      <td>100.00</td>\n",
       "      <td>.</td>\n",
       "      <td>100.00</td>\n",
       "      <td>.</td>\n",
       "      <td>.</td>\n",
       "      <td>99.50</td>\n",
       "    </tr>\n",
       "    <tr>\n",
       "      <th>2</th>\n",
       "      <td>1398948.3.fna.tab</td>\n",
       "      <td>31</td>\n",
       "      <td>.</td>\n",
       "      <td>.</td>\n",
       "      <td>.</td>\n",
       "      <td>.</td>\n",
       "      <td>100.00</td>\n",
       "      <td>.</td>\n",
       "      <td>.</td>\n",
       "      <td>100.00</td>\n",
       "      <td>...</td>\n",
       "      <td>.</td>\n",
       "      <td>.</td>\n",
       "      <td>.</td>\n",
       "      <td>100.00</td>\n",
       "      <td>100.00</td>\n",
       "      <td>100.00</td>\n",
       "      <td>.</td>\n",
       "      <td>.</td>\n",
       "      <td>.</td>\n",
       "      <td>99.50</td>\n",
       "    </tr>\n",
       "    <tr>\n",
       "      <th>3</th>\n",
       "      <td>1398951.3.fna.tab</td>\n",
       "      <td>31</td>\n",
       "      <td>.</td>\n",
       "      <td>100.00</td>\n",
       "      <td>.</td>\n",
       "      <td>100.00</td>\n",
       "      <td>.</td>\n",
       "      <td>.</td>\n",
       "      <td>.</td>\n",
       "      <td>.</td>\n",
       "      <td>...</td>\n",
       "      <td>.</td>\n",
       "      <td>.</td>\n",
       "      <td>.</td>\n",
       "      <td>100.00</td>\n",
       "      <td>100.00</td>\n",
       "      <td>100.00</td>\n",
       "      <td>100.00</td>\n",
       "      <td>.</td>\n",
       "      <td>.</td>\n",
       "      <td>.</td>\n",
       "    </tr>\n",
       "    <tr>\n",
       "      <th>4</th>\n",
       "      <td>1398956.3.fna.tab</td>\n",
       "      <td>32</td>\n",
       "      <td>.</td>\n",
       "      <td>.</td>\n",
       "      <td>.</td>\n",
       "      <td>.</td>\n",
       "      <td>100.00</td>\n",
       "      <td>.</td>\n",
       "      <td>.</td>\n",
       "      <td>100.00</td>\n",
       "      <td>...</td>\n",
       "      <td>.</td>\n",
       "      <td>.</td>\n",
       "      <td>.</td>\n",
       "      <td>100.00</td>\n",
       "      <td>100.00</td>\n",
       "      <td>100.00</td>\n",
       "      <td>.</td>\n",
       "      <td>.</td>\n",
       "      <td>.</td>\n",
       "      <td>99.50</td>\n",
       "    </tr>\n",
       "  </tbody>\n",
       "</table>\n",
       "<p>5 rows × 67 columns</p>\n",
       "</div>"
      ],
      "text/plain": [
       "               #FILE  NUM_FOUND AAC(3)-IId AAC(3)-IIe AAC(3)-Ia AAC(6')-Ian  \\\n",
       "0  1398943.3.fna.tab         29          .          .         .           .   \n",
       "1  1398944.3.fna.tab         29          .     100.00         .           .   \n",
       "2  1398948.3.fna.tab         31          .          .         .           .   \n",
       "3  1398951.3.fna.tab         31          .     100.00         .      100.00   \n",
       "4  1398956.3.fna.tab         32          .          .         .           .   \n",
       "\n",
       "  AAC(6')-Ib7 ADC-10  ADC-25  ADC-30  ... catI dfrA16 floR    mphE    msrE  \\\n",
       "0      100.00      .       .       .  ...    .      .    .  100.00  100.00   \n",
       "1           .      .  100.00       .  ...    .      .    .  100.00  100.00   \n",
       "2      100.00      .       .  100.00  ...    .      .    .  100.00  100.00   \n",
       "3           .      .       .       .  ...    .      .    .  100.00  100.00   \n",
       "4      100.00      .       .  100.00  ...    .      .    .  100.00  100.00   \n",
       "\n",
       "     sul1    sul2 tet(39) tet(A) tet(B)  \n",
       "0  100.00       .       .      .  99.50  \n",
       "1       .  100.00       .      .  99.50  \n",
       "2  100.00       .       .      .  99.50  \n",
       "3  100.00  100.00       .      .      .  \n",
       "4  100.00       .       .      .  99.50  \n",
       "\n",
       "[5 rows x 67 columns]"
      ]
     },
     "execution_count": 4,
     "metadata": {},
     "output_type": "execute_result"
    }
   ],
   "source": [
    "#Visualize the loaded data\n",
    "\n",
    "genes.head()"
   ]
  },
  {
   "cell_type": "code",
   "execution_count": 5,
   "id": "ff615e7c",
   "metadata": {
    "colab": {
     "base_uri": "https://localhost:8080/",
     "height": 206
    },
    "id": "ff615e7c",
    "outputId": "947afad9-10d0-4335-97dc-5996a00ae9bc"
   },
   "outputs": [
    {
     "data": {
      "text/html": [
       "<div>\n",
       "<style scoped>\n",
       "    .dataframe tbody tr th:only-of-type {\n",
       "        vertical-align: middle;\n",
       "    }\n",
       "\n",
       "    .dataframe tbody tr th {\n",
       "        vertical-align: top;\n",
       "    }\n",
       "\n",
       "    .dataframe thead th {\n",
       "        text-align: right;\n",
       "    }\n",
       "</style>\n",
       "<table border=\"1\" class=\"dataframe\">\n",
       "  <thead>\n",
       "    <tr style=\"text-align: right;\">\n",
       "      <th></th>\n",
       "      <th>#FILE</th>\n",
       "      <th>Class</th>\n",
       "    </tr>\n",
       "  </thead>\n",
       "  <tbody>\n",
       "    <tr>\n",
       "      <th>0</th>\n",
       "      <td>1398951.3.fna.tab</td>\n",
       "      <td>0</td>\n",
       "    </tr>\n",
       "    <tr>\n",
       "      <th>1</th>\n",
       "      <td>1398956.3.fna.tab</td>\n",
       "      <td>0</td>\n",
       "    </tr>\n",
       "    <tr>\n",
       "      <th>2</th>\n",
       "      <td>1398984.3.fna.tab</td>\n",
       "      <td>0</td>\n",
       "    </tr>\n",
       "    <tr>\n",
       "      <th>3</th>\n",
       "      <td>470.1320.fna.tab</td>\n",
       "      <td>0</td>\n",
       "    </tr>\n",
       "    <tr>\n",
       "      <th>4</th>\n",
       "      <td>470.1321.fna.tab</td>\n",
       "      <td>0</td>\n",
       "    </tr>\n",
       "  </tbody>\n",
       "</table>\n",
       "</div>"
      ],
      "text/plain": [
       "               #FILE  Class\n",
       "0  1398951.3.fna.tab      0\n",
       "1  1398956.3.fna.tab      0\n",
       "2  1398984.3.fna.tab      0\n",
       "3   470.1320.fna.tab      0\n",
       "4   470.1321.fna.tab      0"
      ]
     },
     "execution_count": 5,
     "metadata": {},
     "output_type": "execute_result"
    }
   ],
   "source": [
    "Label.head()"
   ]
  },
  {
   "cell_type": "code",
   "execution_count": 6,
   "id": "b0fe6298",
   "metadata": {
    "id": "b0fe6298"
   },
   "outputs": [],
   "source": [
    "#Remove the unwanted column\n",
    "\n",
    "num_found=genes.pop(\"NUM_FOUND\")"
   ]
  },
  {
   "cell_type": "code",
   "execution_count": 7,
   "id": "743478cb",
   "metadata": {
    "id": "743478cb"
   },
   "outputs": [],
   "source": [
    "# Converting the loaded data into presence absence matrix\n",
    "\n",
    "genes.iloc[:, 1:] = genes.iloc[:, 1:].replace(\".\", 0)\n",
    "genes.iloc[:, 1:] = (genes.iloc[:, 1:] != 0).astype(int)"
   ]
  },
  {
   "cell_type": "code",
   "execution_count": 8,
   "id": "798ad346",
   "metadata": {
    "colab": {
     "base_uri": "https://localhost:8080/",
     "height": 273
    },
    "id": "798ad346",
    "outputId": "8cf38632-6a63-43ec-92bf-3261d9ce5240"
   },
   "outputs": [
    {
     "data": {
      "text/html": [
       "<div>\n",
       "<style scoped>\n",
       "    .dataframe tbody tr th:only-of-type {\n",
       "        vertical-align: middle;\n",
       "    }\n",
       "\n",
       "    .dataframe tbody tr th {\n",
       "        vertical-align: top;\n",
       "    }\n",
       "\n",
       "    .dataframe thead th {\n",
       "        text-align: right;\n",
       "    }\n",
       "</style>\n",
       "<table border=\"1\" class=\"dataframe\">\n",
       "  <thead>\n",
       "    <tr style=\"text-align: right;\">\n",
       "      <th></th>\n",
       "      <th>#FILE</th>\n",
       "      <th>AAC(3)-IId</th>\n",
       "      <th>AAC(3)-IIe</th>\n",
       "      <th>AAC(3)-Ia</th>\n",
       "      <th>AAC(6')-Ian</th>\n",
       "      <th>AAC(6')-Ib7</th>\n",
       "      <th>ADC-10</th>\n",
       "      <th>ADC-25</th>\n",
       "      <th>ADC-30</th>\n",
       "      <th>ADC-56</th>\n",
       "      <th>...</th>\n",
       "      <th>catI</th>\n",
       "      <th>dfrA16</th>\n",
       "      <th>floR</th>\n",
       "      <th>mphE</th>\n",
       "      <th>msrE</th>\n",
       "      <th>sul1</th>\n",
       "      <th>sul2</th>\n",
       "      <th>tet(39)</th>\n",
       "      <th>tet(A)</th>\n",
       "      <th>tet(B)</th>\n",
       "    </tr>\n",
       "  </thead>\n",
       "  <tbody>\n",
       "    <tr>\n",
       "      <th>0</th>\n",
       "      <td>1398943.3.fna.tab</td>\n",
       "      <td>0</td>\n",
       "      <td>0</td>\n",
       "      <td>0</td>\n",
       "      <td>0</td>\n",
       "      <td>1</td>\n",
       "      <td>0</td>\n",
       "      <td>0</td>\n",
       "      <td>0</td>\n",
       "      <td>1</td>\n",
       "      <td>...</td>\n",
       "      <td>0</td>\n",
       "      <td>0</td>\n",
       "      <td>0</td>\n",
       "      <td>1</td>\n",
       "      <td>1</td>\n",
       "      <td>1</td>\n",
       "      <td>0</td>\n",
       "      <td>0</td>\n",
       "      <td>0</td>\n",
       "      <td>1</td>\n",
       "    </tr>\n",
       "    <tr>\n",
       "      <th>1</th>\n",
       "      <td>1398944.3.fna.tab</td>\n",
       "      <td>0</td>\n",
       "      <td>1</td>\n",
       "      <td>0</td>\n",
       "      <td>0</td>\n",
       "      <td>0</td>\n",
       "      <td>0</td>\n",
       "      <td>1</td>\n",
       "      <td>0</td>\n",
       "      <td>0</td>\n",
       "      <td>...</td>\n",
       "      <td>0</td>\n",
       "      <td>0</td>\n",
       "      <td>0</td>\n",
       "      <td>1</td>\n",
       "      <td>1</td>\n",
       "      <td>0</td>\n",
       "      <td>1</td>\n",
       "      <td>0</td>\n",
       "      <td>0</td>\n",
       "      <td>1</td>\n",
       "    </tr>\n",
       "    <tr>\n",
       "      <th>2</th>\n",
       "      <td>1398948.3.fna.tab</td>\n",
       "      <td>0</td>\n",
       "      <td>0</td>\n",
       "      <td>0</td>\n",
       "      <td>0</td>\n",
       "      <td>1</td>\n",
       "      <td>0</td>\n",
       "      <td>0</td>\n",
       "      <td>1</td>\n",
       "      <td>0</td>\n",
       "      <td>...</td>\n",
       "      <td>0</td>\n",
       "      <td>0</td>\n",
       "      <td>0</td>\n",
       "      <td>1</td>\n",
       "      <td>1</td>\n",
       "      <td>1</td>\n",
       "      <td>0</td>\n",
       "      <td>0</td>\n",
       "      <td>0</td>\n",
       "      <td>1</td>\n",
       "    </tr>\n",
       "    <tr>\n",
       "      <th>3</th>\n",
       "      <td>1398951.3.fna.tab</td>\n",
       "      <td>0</td>\n",
       "      <td>1</td>\n",
       "      <td>0</td>\n",
       "      <td>1</td>\n",
       "      <td>0</td>\n",
       "      <td>0</td>\n",
       "      <td>0</td>\n",
       "      <td>0</td>\n",
       "      <td>0</td>\n",
       "      <td>...</td>\n",
       "      <td>0</td>\n",
       "      <td>0</td>\n",
       "      <td>0</td>\n",
       "      <td>1</td>\n",
       "      <td>1</td>\n",
       "      <td>1</td>\n",
       "      <td>1</td>\n",
       "      <td>0</td>\n",
       "      <td>0</td>\n",
       "      <td>0</td>\n",
       "    </tr>\n",
       "    <tr>\n",
       "      <th>4</th>\n",
       "      <td>1398956.3.fna.tab</td>\n",
       "      <td>0</td>\n",
       "      <td>0</td>\n",
       "      <td>0</td>\n",
       "      <td>0</td>\n",
       "      <td>1</td>\n",
       "      <td>0</td>\n",
       "      <td>0</td>\n",
       "      <td>1</td>\n",
       "      <td>0</td>\n",
       "      <td>...</td>\n",
       "      <td>0</td>\n",
       "      <td>0</td>\n",
       "      <td>0</td>\n",
       "      <td>1</td>\n",
       "      <td>1</td>\n",
       "      <td>1</td>\n",
       "      <td>0</td>\n",
       "      <td>0</td>\n",
       "      <td>0</td>\n",
       "      <td>1</td>\n",
       "    </tr>\n",
       "  </tbody>\n",
       "</table>\n",
       "<p>5 rows × 66 columns</p>\n",
       "</div>"
      ],
      "text/plain": [
       "               #FILE  AAC(3)-IId  AAC(3)-IIe  AAC(3)-Ia  AAC(6')-Ian  \\\n",
       "0  1398943.3.fna.tab           0           0          0            0   \n",
       "1  1398944.3.fna.tab           0           1          0            0   \n",
       "2  1398948.3.fna.tab           0           0          0            0   \n",
       "3  1398951.3.fna.tab           0           1          0            1   \n",
       "4  1398956.3.fna.tab           0           0          0            0   \n",
       "\n",
       "   AAC(6')-Ib7  ADC-10  ADC-25  ADC-30  ADC-56  ...  catI  dfrA16  floR  mphE  \\\n",
       "0            1       0       0       0       1  ...     0       0     0     1   \n",
       "1            0       0       1       0       0  ...     0       0     0     1   \n",
       "2            1       0       0       1       0  ...     0       0     0     1   \n",
       "3            0       0       0       0       0  ...     0       0     0     1   \n",
       "4            1       0       0       1       0  ...     0       0     0     1   \n",
       "\n",
       "   msrE  sul1  sul2  tet(39)  tet(A)  tet(B)  \n",
       "0     1     1     0        0       0       1  \n",
       "1     1     0     1        0       0       1  \n",
       "2     1     1     0        0       0       1  \n",
       "3     1     1     1        0       0       0  \n",
       "4     1     1     0        0       0       1  \n",
       "\n",
       "[5 rows x 66 columns]"
      ]
     },
     "execution_count": 8,
     "metadata": {},
     "output_type": "execute_result"
    }
   ],
   "source": [
    "# verify the converted data by visualizing few records\n",
    "\n",
    "genes.head()"
   ]
  },
  {
   "cell_type": "code",
   "execution_count": 9,
   "id": "6dc4a167",
   "metadata": {
    "id": "6dc4a167"
   },
   "outputs": [],
   "source": [
    "#  Combine the AMR gene file with its Label file using merge funtion in pandas\n",
    "\n",
    "Combined_gene_file_with_phenotype=pd.merge(genes,Label,on=\"#FILE\")"
   ]
  },
  {
   "cell_type": "code",
   "execution_count": 10,
   "id": "b7948076",
   "metadata": {
    "colab": {
     "base_uri": "https://localhost:8080/"
    },
    "id": "b7948076",
    "outputId": "39d69954-e9ca-449e-da54-3f7055448e28"
   },
   "outputs": [
    {
     "data": {
      "text/plain": [
       "(45, 67)"
      ]
     },
     "execution_count": 10,
     "metadata": {},
     "output_type": "execute_result"
    }
   ],
   "source": [
    "# check the shape of the newly created dataframe to keep track of the columns\n",
    "\n",
    "Combined_gene_file_with_phenotype.shape"
   ]
  },
  {
   "cell_type": "code",
   "execution_count": 11,
   "id": "ee8e949b",
   "metadata": {
    "colab": {
     "base_uri": "https://localhost:8080/",
     "height": 273
    },
    "id": "ee8e949b",
    "outputId": "e0954e40-cddb-40c5-f4c5-7b4877e5317f"
   },
   "outputs": [
    {
     "data": {
      "text/html": [
       "<div>\n",
       "<style scoped>\n",
       "    .dataframe tbody tr th:only-of-type {\n",
       "        vertical-align: middle;\n",
       "    }\n",
       "\n",
       "    .dataframe tbody tr th {\n",
       "        vertical-align: top;\n",
       "    }\n",
       "\n",
       "    .dataframe thead th {\n",
       "        text-align: right;\n",
       "    }\n",
       "</style>\n",
       "<table border=\"1\" class=\"dataframe\">\n",
       "  <thead>\n",
       "    <tr style=\"text-align: right;\">\n",
       "      <th></th>\n",
       "      <th>#FILE</th>\n",
       "      <th>AAC(3)-IId</th>\n",
       "      <th>AAC(3)-IIe</th>\n",
       "      <th>AAC(3)-Ia</th>\n",
       "      <th>AAC(6')-Ian</th>\n",
       "      <th>AAC(6')-Ib7</th>\n",
       "      <th>ADC-10</th>\n",
       "      <th>ADC-25</th>\n",
       "      <th>ADC-30</th>\n",
       "      <th>ADC-56</th>\n",
       "      <th>...</th>\n",
       "      <th>dfrA16</th>\n",
       "      <th>floR</th>\n",
       "      <th>mphE</th>\n",
       "      <th>msrE</th>\n",
       "      <th>sul1</th>\n",
       "      <th>sul2</th>\n",
       "      <th>tet(39)</th>\n",
       "      <th>tet(A)</th>\n",
       "      <th>tet(B)</th>\n",
       "      <th>Class</th>\n",
       "    </tr>\n",
       "  </thead>\n",
       "  <tbody>\n",
       "    <tr>\n",
       "      <th>0</th>\n",
       "      <td>1398943.3.fna.tab</td>\n",
       "      <td>0</td>\n",
       "      <td>0</td>\n",
       "      <td>0</td>\n",
       "      <td>0</td>\n",
       "      <td>1</td>\n",
       "      <td>0</td>\n",
       "      <td>0</td>\n",
       "      <td>0</td>\n",
       "      <td>1</td>\n",
       "      <td>...</td>\n",
       "      <td>0</td>\n",
       "      <td>0</td>\n",
       "      <td>1</td>\n",
       "      <td>1</td>\n",
       "      <td>1</td>\n",
       "      <td>0</td>\n",
       "      <td>0</td>\n",
       "      <td>0</td>\n",
       "      <td>1</td>\n",
       "      <td>1</td>\n",
       "    </tr>\n",
       "    <tr>\n",
       "      <th>1</th>\n",
       "      <td>1398944.3.fna.tab</td>\n",
       "      <td>0</td>\n",
       "      <td>1</td>\n",
       "      <td>0</td>\n",
       "      <td>0</td>\n",
       "      <td>0</td>\n",
       "      <td>0</td>\n",
       "      <td>1</td>\n",
       "      <td>0</td>\n",
       "      <td>0</td>\n",
       "      <td>...</td>\n",
       "      <td>0</td>\n",
       "      <td>0</td>\n",
       "      <td>1</td>\n",
       "      <td>1</td>\n",
       "      <td>0</td>\n",
       "      <td>1</td>\n",
       "      <td>0</td>\n",
       "      <td>0</td>\n",
       "      <td>1</td>\n",
       "      <td>1</td>\n",
       "    </tr>\n",
       "    <tr>\n",
       "      <th>2</th>\n",
       "      <td>1398948.3.fna.tab</td>\n",
       "      <td>0</td>\n",
       "      <td>0</td>\n",
       "      <td>0</td>\n",
       "      <td>0</td>\n",
       "      <td>1</td>\n",
       "      <td>0</td>\n",
       "      <td>0</td>\n",
       "      <td>1</td>\n",
       "      <td>0</td>\n",
       "      <td>...</td>\n",
       "      <td>0</td>\n",
       "      <td>0</td>\n",
       "      <td>1</td>\n",
       "      <td>1</td>\n",
       "      <td>1</td>\n",
       "      <td>0</td>\n",
       "      <td>0</td>\n",
       "      <td>0</td>\n",
       "      <td>1</td>\n",
       "      <td>1</td>\n",
       "    </tr>\n",
       "    <tr>\n",
       "      <th>3</th>\n",
       "      <td>1398951.3.fna.tab</td>\n",
       "      <td>0</td>\n",
       "      <td>1</td>\n",
       "      <td>0</td>\n",
       "      <td>1</td>\n",
       "      <td>0</td>\n",
       "      <td>0</td>\n",
       "      <td>0</td>\n",
       "      <td>0</td>\n",
       "      <td>0</td>\n",
       "      <td>...</td>\n",
       "      <td>0</td>\n",
       "      <td>0</td>\n",
       "      <td>1</td>\n",
       "      <td>1</td>\n",
       "      <td>1</td>\n",
       "      <td>1</td>\n",
       "      <td>0</td>\n",
       "      <td>0</td>\n",
       "      <td>0</td>\n",
       "      <td>0</td>\n",
       "    </tr>\n",
       "    <tr>\n",
       "      <th>4</th>\n",
       "      <td>1398956.3.fna.tab</td>\n",
       "      <td>0</td>\n",
       "      <td>0</td>\n",
       "      <td>0</td>\n",
       "      <td>0</td>\n",
       "      <td>1</td>\n",
       "      <td>0</td>\n",
       "      <td>0</td>\n",
       "      <td>1</td>\n",
       "      <td>0</td>\n",
       "      <td>...</td>\n",
       "      <td>0</td>\n",
       "      <td>0</td>\n",
       "      <td>1</td>\n",
       "      <td>1</td>\n",
       "      <td>1</td>\n",
       "      <td>0</td>\n",
       "      <td>0</td>\n",
       "      <td>0</td>\n",
       "      <td>1</td>\n",
       "      <td>0</td>\n",
       "    </tr>\n",
       "  </tbody>\n",
       "</table>\n",
       "<p>5 rows × 67 columns</p>\n",
       "</div>"
      ],
      "text/plain": [
       "               #FILE  AAC(3)-IId  AAC(3)-IIe  AAC(3)-Ia  AAC(6')-Ian  \\\n",
       "0  1398943.3.fna.tab           0           0          0            0   \n",
       "1  1398944.3.fna.tab           0           1          0            0   \n",
       "2  1398948.3.fna.tab           0           0          0            0   \n",
       "3  1398951.3.fna.tab           0           1          0            1   \n",
       "4  1398956.3.fna.tab           0           0          0            0   \n",
       "\n",
       "   AAC(6')-Ib7  ADC-10  ADC-25  ADC-30  ADC-56  ...  dfrA16  floR  mphE  msrE  \\\n",
       "0            1       0       0       0       1  ...       0     0     1     1   \n",
       "1            0       0       1       0       0  ...       0     0     1     1   \n",
       "2            1       0       0       1       0  ...       0     0     1     1   \n",
       "3            0       0       0       0       0  ...       0     0     1     1   \n",
       "4            1       0       0       1       0  ...       0     0     1     1   \n",
       "\n",
       "   sul1  sul2  tet(39)  tet(A)  tet(B)  Class  \n",
       "0     1     0        0       0       1      1  \n",
       "1     0     1        0       0       1      1  \n",
       "2     1     0        0       0       1      1  \n",
       "3     1     1        0       0       0      0  \n",
       "4     1     0        0       0       1      0  \n",
       "\n",
       "[5 rows x 67 columns]"
      ]
     },
     "execution_count": 11,
     "metadata": {},
     "output_type": "execute_result"
    }
   ],
   "source": [
    "# Visualize the head records of the newly created file\n",
    "\n",
    "Combined_gene_file_with_phenotype.head()"
   ]
  },
  {
   "cell_type": "code",
   "execution_count": 12,
   "id": "578cd6ae",
   "metadata": {
    "colab": {
     "base_uri": "https://localhost:8080/",
     "height": 178
    },
    "id": "578cd6ae",
    "outputId": "94d79592-8b31-4e14-b812-8dddb2a2f7dd"
   },
   "outputs": [
    {
     "data": {
      "text/plain": [
       "0    25\n",
       "1    20\n",
       "Name: Class, dtype: int64"
      ]
     },
     "execution_count": 12,
     "metadata": {},
     "output_type": "execute_result"
    }
   ],
   "source": [
    "# Using value_counts to check the number of isolates that are present in the resistant and susceptible category\n",
    "\n",
    "Combined_gene_file_with_phenotype.Class.value_counts()"
   ]
  },
  {
   "cell_type": "markdown",
   "id": "5457846b",
   "metadata": {
    "id": "5457846b"
   },
   "source": [
    "### Final AMR gene data after preprocessing"
   ]
  },
  {
   "cell_type": "code",
   "execution_count": 13,
   "id": "1cb21de7",
   "metadata": {
    "id": "1cb21de7"
   },
   "outputs": [],
   "source": [
    "# Copy the final combined file in a variable to you it further\n",
    "\n",
    "amr_gene_data=Combined_gene_file_with_phenotype.copy()"
   ]
  },
  {
   "cell_type": "markdown",
   "id": "ab599f88",
   "metadata": {
    "id": "ab599f88"
   },
   "source": [
    "# Feature Selection\n",
    "Feature selection is choosing relevant inputs to improve model performance, reduce complexity, and prevent overfitting by focusing on the most informative variables."
   ]
  },
  {
   "cell_type": "code",
   "execution_count": 14,
   "id": "0f2b5d74",
   "metadata": {
    "id": "0f2b5d74"
   },
   "outputs": [],
   "source": [
    "#This will be used further for feature selection and model building\n",
    "\n",
    "model_data=amr_gene_data.copy() # gene data"
   ]
  },
  {
   "cell_type": "code",
   "execution_count": 15,
   "id": "e4dd649e",
   "metadata": {
    "id": "e4dd649e"
   },
   "outputs": [],
   "source": [
    "#Removing the first naming column and stored in a variable called \"data_df\"\n",
    "\n",
    "data_df=model_data.iloc[:,1:]"
   ]
  },
  {
   "cell_type": "code",
   "execution_count": 16,
   "id": "0f90d87e",
   "metadata": {
    "colab": {
     "base_uri": "https://localhost:8080/",
     "height": 273
    },
    "id": "0f90d87e",
    "outputId": "380c55ad-36ae-4327-8ddb-b6d31caaae18"
   },
   "outputs": [
    {
     "data": {
      "text/html": [
       "<div>\n",
       "<style scoped>\n",
       "    .dataframe tbody tr th:only-of-type {\n",
       "        vertical-align: middle;\n",
       "    }\n",
       "\n",
       "    .dataframe tbody tr th {\n",
       "        vertical-align: top;\n",
       "    }\n",
       "\n",
       "    .dataframe thead th {\n",
       "        text-align: right;\n",
       "    }\n",
       "</style>\n",
       "<table border=\"1\" class=\"dataframe\">\n",
       "  <thead>\n",
       "    <tr style=\"text-align: right;\">\n",
       "      <th></th>\n",
       "      <th>AAC(3)-IId</th>\n",
       "      <th>AAC(3)-IIe</th>\n",
       "      <th>AAC(3)-Ia</th>\n",
       "      <th>AAC(6')-Ian</th>\n",
       "      <th>AAC(6')-Ib7</th>\n",
       "      <th>ADC-10</th>\n",
       "      <th>ADC-25</th>\n",
       "      <th>ADC-30</th>\n",
       "      <th>ADC-56</th>\n",
       "      <th>ADC-6</th>\n",
       "      <th>...</th>\n",
       "      <th>dfrA16</th>\n",
       "      <th>floR</th>\n",
       "      <th>mphE</th>\n",
       "      <th>msrE</th>\n",
       "      <th>sul1</th>\n",
       "      <th>sul2</th>\n",
       "      <th>tet(39)</th>\n",
       "      <th>tet(A)</th>\n",
       "      <th>tet(B)</th>\n",
       "      <th>Class</th>\n",
       "    </tr>\n",
       "  </thead>\n",
       "  <tbody>\n",
       "    <tr>\n",
       "      <th>0</th>\n",
       "      <td>0</td>\n",
       "      <td>0</td>\n",
       "      <td>0</td>\n",
       "      <td>0</td>\n",
       "      <td>1</td>\n",
       "      <td>0</td>\n",
       "      <td>0</td>\n",
       "      <td>0</td>\n",
       "      <td>1</td>\n",
       "      <td>0</td>\n",
       "      <td>...</td>\n",
       "      <td>0</td>\n",
       "      <td>0</td>\n",
       "      <td>1</td>\n",
       "      <td>1</td>\n",
       "      <td>1</td>\n",
       "      <td>0</td>\n",
       "      <td>0</td>\n",
       "      <td>0</td>\n",
       "      <td>1</td>\n",
       "      <td>1</td>\n",
       "    </tr>\n",
       "    <tr>\n",
       "      <th>1</th>\n",
       "      <td>0</td>\n",
       "      <td>1</td>\n",
       "      <td>0</td>\n",
       "      <td>0</td>\n",
       "      <td>0</td>\n",
       "      <td>0</td>\n",
       "      <td>1</td>\n",
       "      <td>0</td>\n",
       "      <td>0</td>\n",
       "      <td>0</td>\n",
       "      <td>...</td>\n",
       "      <td>0</td>\n",
       "      <td>0</td>\n",
       "      <td>1</td>\n",
       "      <td>1</td>\n",
       "      <td>0</td>\n",
       "      <td>1</td>\n",
       "      <td>0</td>\n",
       "      <td>0</td>\n",
       "      <td>1</td>\n",
       "      <td>1</td>\n",
       "    </tr>\n",
       "    <tr>\n",
       "      <th>2</th>\n",
       "      <td>0</td>\n",
       "      <td>0</td>\n",
       "      <td>0</td>\n",
       "      <td>0</td>\n",
       "      <td>1</td>\n",
       "      <td>0</td>\n",
       "      <td>0</td>\n",
       "      <td>1</td>\n",
       "      <td>0</td>\n",
       "      <td>0</td>\n",
       "      <td>...</td>\n",
       "      <td>0</td>\n",
       "      <td>0</td>\n",
       "      <td>1</td>\n",
       "      <td>1</td>\n",
       "      <td>1</td>\n",
       "      <td>0</td>\n",
       "      <td>0</td>\n",
       "      <td>0</td>\n",
       "      <td>1</td>\n",
       "      <td>1</td>\n",
       "    </tr>\n",
       "    <tr>\n",
       "      <th>3</th>\n",
       "      <td>0</td>\n",
       "      <td>1</td>\n",
       "      <td>0</td>\n",
       "      <td>1</td>\n",
       "      <td>0</td>\n",
       "      <td>0</td>\n",
       "      <td>0</td>\n",
       "      <td>0</td>\n",
       "      <td>0</td>\n",
       "      <td>1</td>\n",
       "      <td>...</td>\n",
       "      <td>0</td>\n",
       "      <td>0</td>\n",
       "      <td>1</td>\n",
       "      <td>1</td>\n",
       "      <td>1</td>\n",
       "      <td>1</td>\n",
       "      <td>0</td>\n",
       "      <td>0</td>\n",
       "      <td>0</td>\n",
       "      <td>0</td>\n",
       "    </tr>\n",
       "    <tr>\n",
       "      <th>4</th>\n",
       "      <td>0</td>\n",
       "      <td>0</td>\n",
       "      <td>0</td>\n",
       "      <td>0</td>\n",
       "      <td>1</td>\n",
       "      <td>0</td>\n",
       "      <td>0</td>\n",
       "      <td>1</td>\n",
       "      <td>0</td>\n",
       "      <td>0</td>\n",
       "      <td>...</td>\n",
       "      <td>0</td>\n",
       "      <td>0</td>\n",
       "      <td>1</td>\n",
       "      <td>1</td>\n",
       "      <td>1</td>\n",
       "      <td>0</td>\n",
       "      <td>0</td>\n",
       "      <td>0</td>\n",
       "      <td>1</td>\n",
       "      <td>0</td>\n",
       "    </tr>\n",
       "  </tbody>\n",
       "</table>\n",
       "<p>5 rows × 66 columns</p>\n",
       "</div>"
      ],
      "text/plain": [
       "   AAC(3)-IId  AAC(3)-IIe  AAC(3)-Ia  AAC(6')-Ian  AAC(6')-Ib7  ADC-10  \\\n",
       "0           0           0          0            0            1       0   \n",
       "1           0           1          0            0            0       0   \n",
       "2           0           0          0            0            1       0   \n",
       "3           0           1          0            1            0       0   \n",
       "4           0           0          0            0            1       0   \n",
       "\n",
       "   ADC-25  ADC-30  ADC-56  ADC-6  ...  dfrA16  floR  mphE  msrE  sul1  sul2  \\\n",
       "0       0       0       1      0  ...       0     0     1     1     1     0   \n",
       "1       1       0       0      0  ...       0     0     1     1     0     1   \n",
       "2       0       1       0      0  ...       0     0     1     1     1     0   \n",
       "3       0       0       0      1  ...       0     0     1     1     1     1   \n",
       "4       0       1       0      0  ...       0     0     1     1     1     0   \n",
       "\n",
       "   tet(39)  tet(A)  tet(B)  Class  \n",
       "0        0       0       1      1  \n",
       "1        0       0       1      1  \n",
       "2        0       0       1      1  \n",
       "3        0       0       0      0  \n",
       "4        0       0       1      0  \n",
       "\n",
       "[5 rows x 66 columns]"
      ]
     },
     "execution_count": 16,
     "metadata": {},
     "output_type": "execute_result"
    }
   ],
   "source": [
    "# View the head of the data_df\n",
    "\n",
    "data_df.head()"
   ]
  },
  {
   "cell_type": "markdown",
   "id": "c33bd9cb",
   "metadata": {
    "id": "c33bd9cb"
   },
   "source": [
    "<h3>Now we are using two different types of Filter based methods Chi-square and Mutual information to identify the important or significant features from the loaded dataset.\n",
    "Innitially start with single feature selection algorithm and later combine two or more methods depending on the problem statement and model performance</h3>"
   ]
  },
  {
   "cell_type": "markdown",
   "id": "d8b88e44",
   "metadata": {
    "id": "d8b88e44"
   },
   "source": [
    "# Chi-square\n"
   ]
  },
  {
   "cell_type": "markdown",
   "id": "7ca3e92e",
   "metadata": {
    "id": "7ca3e92e"
   },
   "source": [
    "The Chi-Square test is a statistical method used to determine if there is a significant association between two categorical variables. It works by comparing the observed frequencies (the actual counts from your data) with the expected frequencies (the counts you would expect if there was no relationship between the variables)."
   ]
  },
  {
   "cell_type": "code",
   "execution_count": 17,
   "id": "d801867e",
   "metadata": {
    "id": "d801867e"
   },
   "outputs": [],
   "source": [
    "# To keep a note on the values that are getting generated we are creating four different list variables\n",
    "\n",
    "columns,chi2,pval,expected=[],[],[],[]"
   ]
  },
  {
   "cell_type": "code",
   "execution_count": 18,
   "id": "dad5b40c",
   "metadata": {
    "id": "dad5b40c"
   },
   "outputs": [],
   "source": [
    "\"\"\"\n",
    "The below code will iterate on reach column in the dataframe excluding the target class and calculate the\n",
    "chisquare contingency matrix which gives\n",
    "-> chisquare statistic value\n",
    "-> pvalue - significance\n",
    "-> dof - degree of freedom\n",
    "-> expected frequence - Based on the marginal sums of the table\n",
    "\"\"\"\n",
    "\n",
    "for i in data_df.columns[:-1]:\n",
    "    contigency_tab=pd.crosstab(data_df[i],data_df['Class'])\n",
    "    _chi2,_pval,_dof,_expected=chi2_contingency(contigency_tab)\n",
    "    columns.append(i)\n",
    "    chi2.append(_chi2)\n",
    "    pval.append(_pval)\n",
    "    expected.append(_expected)"
   ]
  },
  {
   "cell_type": "code",
   "execution_count": 19,
   "id": "e96d96ea",
   "metadata": {
    "id": "e96d96ea"
   },
   "outputs": [],
   "source": [
    "# Converting the stored list values into a dataframe in a variable\n",
    "\n",
    "\n",
    "Chisquare_test_df=pd.DataFrame([columns,chi2,pval,expected]).T"
   ]
  },
  {
   "cell_type": "code",
   "execution_count": 20,
   "id": "38ce867e",
   "metadata": {
    "id": "38ce867e"
   },
   "outputs": [],
   "source": [
    "# Assigning column names to the newly created dataframe\n",
    "\n",
    "Chisquare_test_df.columns=['AMR_Gene_Features','chi2','pval','expected']"
   ]
  },
  {
   "cell_type": "code",
   "execution_count": 21,
   "id": "980903cf",
   "metadata": {
    "id": "980903cf"
   },
   "outputs": [],
   "source": [
    "# Extracting the items that satisfy the condition as p value < 0.05\n",
    "\n",
    "Chisquare_df_le_05_features=Chisquare_test_df[Chisquare_test_df['pval']<=0.05]"
   ]
  },
  {
   "cell_type": "code",
   "execution_count": 22,
   "id": "4113c7f2",
   "metadata": {
    "colab": {
     "base_uri": "https://localhost:8080/"
    },
    "id": "4113c7f2",
    "outputId": "9d6ecfaf-cfaf-47ad-8341-d89080a5202b"
   },
   "outputs": [
    {
     "name": "stdout",
     "output_type": "stream",
     "text": [
      "The are 26 features that are significant in the collected feature list\n"
     ]
    }
   ],
   "source": [
    "print(f\"The are {Chisquare_df_le_05_features.shape[0]} features that are significant in the collected feature list\")"
   ]
  },
  {
   "cell_type": "code",
   "execution_count": 23,
   "id": "e611f1dd",
   "metadata": {
    "id": "e611f1dd"
   },
   "outputs": [],
   "source": [
    "# Converting the feature names to list\n",
    "\n",
    "signi_chisquare_selected_features=Chisquare_df_le_05_features.AMR_Gene_Features.tolist()"
   ]
  },
  {
   "cell_type": "code",
   "execution_count": 24,
   "id": "c40b9a56",
   "metadata": {
    "id": "c40b9a56"
   },
   "outputs": [],
   "source": [
    "# Appending the class feature to the significant feature list\n",
    "\n",
    "signi_chisquare_selected_features.append('Class')"
   ]
  },
  {
   "cell_type": "code",
   "execution_count": 25,
   "id": "a7050d67",
   "metadata": {
    "id": "a7050d67"
   },
   "outputs": [],
   "source": [
    "# Extracting the significat columns from the final data\n",
    "\n",
    "df_Chisquare_based_feature_selection=data_df[signi_chisquare_selected_features]"
   ]
  },
  {
   "cell_type": "code",
   "execution_count": 26,
   "id": "e51f4d54",
   "metadata": {
    "colab": {
     "base_uri": "https://localhost:8080/"
    },
    "id": "e51f4d54",
    "outputId": "b94df911-9de9-4857-e0c0-62443e923396"
   },
   "outputs": [
    {
     "data": {
      "text/plain": [
       "(45, 27)"
      ]
     },
     "execution_count": 26,
     "metadata": {},
     "output_type": "execute_result"
    }
   ],
   "source": [
    "# Explore the finally created dataset after feature selection\n",
    "# Use this dataset for model building\n",
    "\n",
    "df_Chisquare_based_feature_selection.shape"
   ]
  },
  {
   "cell_type": "markdown",
   "id": "d910e03f",
   "metadata": {
    "id": "d910e03f"
   },
   "source": [
    "## Mutual Information\n",
    " * It measures how much information a feature gives about the target class.\n",
    " * It’s non-parametric: it doesn’t assume any distribution"
   ]
  },
  {
   "cell_type": "markdown",
   "id": "c6bd4b7d",
   "metadata": {
    "id": "c6bd4b7d"
   },
   "source": [
    "To calculate mutual info value we need to first split the idependent and indepoendent variables and need to pass to the function"
   ]
  },
  {
   "cell_type": "code",
   "execution_count": 27,
   "id": "3c7791bd",
   "metadata": {
    "id": "3c7791bd"
   },
   "outputs": [],
   "source": [
    "\"\"\"\n",
    "Spliting the data_df as X and y\n",
    "X holds the independent variables\n",
    "y hold the dependent variable (target class)\n",
    "\"\"\"\n",
    "\n",
    "X=data_df.drop(['Class'],axis=1)\n",
    "y=data_df['Class']"
   ]
  },
  {
   "cell_type": "code",
   "execution_count": 28,
   "id": "86627167",
   "metadata": {
    "id": "86627167"
   },
   "outputs": [],
   "source": [
    "# Calling the mutual_info_classif function to perform the classification task\n",
    "\n",
    "mi_scores = mutual_info_classif(X, y)"
   ]
  },
  {
   "cell_type": "code",
   "execution_count": 29,
   "id": "43a68ba3",
   "metadata": {
    "id": "43a68ba3"
   },
   "outputs": [],
   "source": [
    "mi_df = pd.DataFrame([X.columns,mi_scores]).T # Storing in dataframe\n",
    "\n",
    "mi_df.columns=['AMR_Gene_Features','MI_scores'] # Renaming the columns\n",
    "\n",
    "MI_feature=mi_df[mi_df['MI_scores']>0] # Filtering the features based on a threshold value of info\n",
    "\n",
    "MI_feature_list=MI_feature.AMR_Gene_Features.tolist() # Converting the features to a list\n",
    "\n",
    "MI_feature_list.append('Class') # Appending the Class feature to the list\n",
    "\n",
    "df_MI_based_feature_selection=data_df[MI_feature_list] # Extracting the selected columns"
   ]
  },
  {
   "cell_type": "code",
   "execution_count": 30,
   "id": "46e9cfc1",
   "metadata": {
    "colab": {
     "base_uri": "https://localhost:8080/"
    },
    "id": "46e9cfc1",
    "outputId": "821a12c9-d7c3-428b-8b1c-8d5d7b9aff9b"
   },
   "outputs": [
    {
     "data": {
      "text/plain": [
       "(45, 41)"
      ]
     },
     "execution_count": 30,
     "metadata": {},
     "output_type": "execute_result"
    }
   ],
   "source": [
    "# Explore the finally created dataset using MI\n",
    "# Use this dataset for model building\n",
    "\n",
    "df_MI_based_feature_selection.shape"
   ]
  },
  {
   "cell_type": "markdown",
   "id": "c3cf0c57",
   "metadata": {
    "id": "c3cf0c57"
   },
   "source": [
    "<br>"
   ]
  },
  {
   "cell_type": "markdown",
   "id": "090921dd",
   "metadata": {
    "id": "090921dd"
   },
   "source": [
    "# Data Train & Test split  "
   ]
  },
  {
   "cell_type": "code",
   "execution_count": 31,
   "id": "af6e00c5",
   "metadata": {
    "id": "af6e00c5"
   },
   "outputs": [],
   "source": [
    "# Replace the desiered data for modelbuilding\n",
    "\n",
    "data = df_Chisquare_based_feature_selection # df_MI_based_feature_selection.copy()"
   ]
  },
  {
   "cell_type": "code",
   "execution_count": 32,
   "id": "b852805c",
   "metadata": {
    "id": "b852805c"
   },
   "outputs": [],
   "source": [
    "# Splitting the data as X and y\n",
    "\n",
    "X=data.drop([\"Class\"],axis=1).astype(int)\n",
    "y=data[\"Class\"].astype(int)"
   ]
  },
  {
   "cell_type": "code",
   "execution_count": 33,
   "id": "d3859caa",
   "metadata": {
    "id": "d3859caa"
   },
   "outputs": [],
   "source": [
    "\"\"\"\n",
    "-> Here we are splitting the dataset for training and testing\n",
    "-> random_state is assigned for reproducibility\n",
    "-> statify variable is to split the Class variables to equal ratio in the train and test dataset\n",
    "\"\"\"\n",
    "\n",
    "X_train, X_test, y_train, y_test = train_test_split(X, y, test_size=0.20,random_state=42,stratify=y)"
   ]
  },
  {
   "cell_type": "code",
   "execution_count": 34,
   "id": "75788a49",
   "metadata": {
    "colab": {
     "base_uri": "https://localhost:8080/"
    },
    "id": "75788a49",
    "outputId": "36cb4956-c15a-42c2-abbe-d4b9ea540095"
   },
   "outputs": [
    {
     "name": "stdout",
     "output_type": "stream",
     "text": [
      "Number of rows and columns of the training set for the independent variables: (36, 26)\n",
      "Number of rows and columns of the training set for the dependent variable: (36,)\n",
      "Number of rows and columns of the test set for the independent variables: (9, 26)\n",
      "Number of rows and columns of the test set for the dependent variable: (9,)\n"
     ]
    }
   ],
   "source": [
    "print('Number of rows and columns of the training set for the independent variables:',X_train.shape)\n",
    "print('Number of rows and columns of the training set for the dependent variable:',y_train.shape)\n",
    "print('Number of rows and columns of the test set for the independent variables:',X_test.shape)\n",
    "print('Number of rows and columns of the test set for the dependent variable:',y_test.shape)"
   ]
  },
  {
   "cell_type": "markdown",
   "id": "74fa4883",
   "metadata": {
    "id": "74fa4883"
   },
   "source": [
    "# Model building, Hyper parameter tuning and Model evaluation"
   ]
  },
  {
   "cell_type": "markdown",
   "id": "cab023c6",
   "metadata": {
    "id": "cab023c6"
   },
   "source": [
    "## Logistic Regression\n",
    "\n",
    "Logistic Regression is a supervised classification algorithm that models the probability of a categorical outcome (often binary) using a logistic (sigmoid) function applied to a linear combination of input features\n"
   ]
  },
  {
   "cell_type": "markdown",
   "id": "4f0fc8d2",
   "metadata": {
    "id": "4f0fc8d2"
   },
   "source": [
    "## Hyper parameter tuning for Logistic Regression"
   ]
  },
  {
   "cell_type": "code",
   "execution_count": 35,
   "id": "7349eecb",
   "metadata": {
    "colab": {
     "base_uri": "https://localhost:8080/"
    },
    "id": "7349eecb",
    "outputId": "3bf478a7-610a-4bca-d472-fe7bd846a11a"
   },
   "outputs": [
    {
     "name": "stdout",
     "output_type": "stream",
     "text": [
      "{'C': 0.81, 'max_iter': 7, 'solver': 'sag'} \n",
      "\n",
      "LogisticRegression(C=0.81, max_iter=7, random_state=42, solver='sag')\n"
     ]
    }
   ],
   "source": [
    "# In order to tune the hyper parameters we are using this grid search and finding the best estimator\n",
    "grid={\"solver\":[\"newton-cg\",\"lbfgs\",\"sag\",\"saga\"],\n",
    "    \"C\":np.arange(0.01,1,0.1),\n",
    "    \"max_iter\":np.arange(1,10,2)\n",
    "     }\n",
    "\n",
    "model = LogisticRegression(random_state=42)\n",
    "\n",
    "grid_search = GridSearchCV(estimator = model, param_grid = grid, cv = 5)\n",
    "\n",
    "grid_search.fit(X_train, y_train)\n",
    "\n",
    "print(grid_search.best_params_,'\\n')\n",
    "print(grid_search.best_estimator_)"
   ]
  },
  {
   "cell_type": "markdown",
   "id": "ded85a65",
   "metadata": {
    "id": "ded85a65"
   },
   "source": [
    "## Comparison between model with and without tuning"
   ]
  },
  {
   "cell_type": "code",
   "execution_count": 36,
   "id": "ebae1f88",
   "metadata": {
    "colab": {
     "base_uri": "https://localhost:8080/"
    },
    "id": "ebae1f88",
    "outputId": "47e2cc5f-041f-4006-bfb7-3a45166ec80a"
   },
   "outputs": [
    {
     "name": "stdout",
     "output_type": "stream",
     "text": [
      "               Train Accuracy  Test accuracy\n",
      "without_hyper        0.944444            1.0\n",
      "with_hyper           0.944444            1.0\n"
     ]
    }
   ],
   "source": [
    "lr_without = LogisticRegression(random_state=42)\n",
    "lr_with = LogisticRegression(C=0.81, max_iter=7, solver=\"sag\",random_state=42)\n",
    "\n",
    "models=[lr_without,lr_with]\n",
    "\n",
    "scores_train=[]\n",
    "scores_test=[]\n",
    "\n",
    "for i in models:\n",
    "    i.fit(X_train,y_train)\n",
    "    scores_train.append(i.score(X_train,y_train))\n",
    "    scores_test.append(i.score(X_test,y_test))\n",
    "\n",
    "print(pd.DataFrame({'Train Accuracy':scores_train,'Test accuracy':scores_test},index=['without_hyper','with_hyper']))"
   ]
  },
  {
   "cell_type": "markdown",
   "id": "faf106d4",
   "metadata": {
    "id": "faf106d4"
   },
   "source": [
    "## Prediction using final tuned model"
   ]
  },
  {
   "cell_type": "code",
   "execution_count": 37,
   "id": "cc922fd2",
   "metadata": {
    "id": "cc922fd2"
   },
   "outputs": [],
   "source": [
    "logmodel = LogisticRegression(C=0.81, max_iter=7, solver=\"sag\",random_state=42)\n",
    "logmodel.fit(X_train, y_train)\n",
    "\n",
    "log_ytrain_predict = logmodel.predict(X_train)\n",
    "log_ytest_predict = logmodel.predict(X_test)"
   ]
  },
  {
   "cell_type": "markdown",
   "id": "221c185e",
   "metadata": {
    "id": "221c185e"
   },
   "source": [
    "# <center> Model evaluation </center>"
   ]
  },
  {
   "cell_type": "markdown",
   "id": "b006105c",
   "metadata": {
    "id": "b006105c"
   },
   "source": [
    "# Confusion Matrix\n",
    "A confusion matrix is a 2D table that shows how well a classification model performs by comparing the actual labels with the predicted labels.\n",
    "\n",
    "Rows usually = Actual values\n",
    "\n",
    "Columns usually = Predicted values\n",
    "\n",
    "<table>\n",
    "  <tr>\n",
    "    <th></th>\n",
    "    <th>Predicted Positive</th>\n",
    "    <th>Predicted Negative</th>\n",
    "  </tr>\n",
    "  <tr>\n",
    "    <th>Actual Positive</th>\n",
    "    <td>True Positive (TP)</td>\n",
    "    <td>False Negative (FN)</td>\n",
    "  </tr>\n",
    "  <tr>\n",
    "    <th>Actual Negative</th>\n",
    "    <td>False Positive (FP)</td>\n",
    "    <td>True Negative (TN)</td>\n",
    "  </tr>\n",
    "</table>\n",
    "\n",
    "\n",
    "True Positive (TP) → Model correctly predicted positive.\n",
    "\n",
    "True Negative (TN) → Model correctly predicted negative.\n",
    "\n",
    "False Positive (FP) → Model predicted positive but it was actually negative (Type I error).\n",
    "\n",
    "False Negative (FN) → Model predicted negative but it was actually positive (Type II error).\n",
    "\n",
    "<b> Confusion Matrix is the base tool to judge a classifier — it shows the counts of correct and incorrect predictions, from which all other classification metrics are derived.</b>"
   ]
  },
  {
   "cell_type": "code",
   "execution_count": 38,
   "id": "0e022957",
   "metadata": {
    "colab": {
     "base_uri": "https://localhost:8080/",
     "height": 452
    },
    "id": "0e022957",
    "outputId": "bd8b0095-4b05-4c8d-8871-bf47b1102057"
   },
   "outputs": [
    {
     "data": {
      "image/png": "[encoded data removed]",
      "text/plain": [
       "<Figure size 640x480 with 4 Axes>"
      ]
     },
     "metadata": {},
     "output_type": "display_data"
    }
   ],
   "source": [
    "f,a =  plt.subplots(1,2,sharex=True,sharey=True,squeeze=False)\n",
    "\n",
    "plot_0 = sns.heatmap((confusion_matrix(y_train,log_ytrain_predict)),annot=True,fmt='.5g',cmap='Blues',ax=a[0][0]);\n",
    "a[0][0].set_title('Training Data')\n",
    "\n",
    "plot_1 = sns.heatmap((confusion_matrix(y_test,log_ytest_predict)),annot=True,fmt='.5g',cmap='Blues',ax=a[0][1]);\n",
    "a[0][1].set_title('Test Data');\n"
   ]
  },
  {
   "cell_type": "markdown",
   "id": "a8f6b70c",
   "metadata": {
    "id": "a8f6b70c"
   },
   "source": [
    "## <center> Classification metrics </center>\n",
    "\n",
    "Classification metrics are quantitative measures we use to evaluate how well a classification model is performing. They go beyond just accuracy and give us detailed insights into the types of errors the model makes.\n",
    "These metrics are usually derived from the confusion matrix.\n",
    "\n",
    "<b>Accuracy</b> - Good when classes are balanced, but misleading when classes are imbalanced.\n",
    "<b>(TP + TN) / (TP + TN + FP + FN)</b>\n",
    "\n",
    "<b>Precision (Positive Predictive Value) </b>- Important when false positives are costly for the predicted positive group.  <b>TP / (TP + FP)</b>\n",
    "\n",
    "<b>Recall (Sensitivity / True Positive Rate) </b>- Important when the cost of a false negative is high. <b>TP / (TP + FN)</b>\n",
    "\n",
    "<b>F1-Score</b> - Useful when you need a balance between precision and recall. <b>2 &times; (Precision &times; Recall) / (Precision + Recall)</b>\n",
    "\n",
    "<b>Specificity (True Negative Rate) </b>- Important when false positives are costly for the actual negative group. <b>TN / (TN + FP)</b>\n",
    "\n",
    "\n",
    "<b> Classification metrics give us a complete picture of how well a model performs, where it succeeds, and where it fails. </b>"
   ]
  },
  {
   "cell_type": "code",
   "execution_count": 39,
   "id": "a8037b0e",
   "metadata": {
    "colab": {
     "base_uri": "https://localhost:8080/"
    },
    "id": "a8037b0e",
    "outputId": "f9d54873-3a2c-4e15-df7b-7c77817efa0d"
   },
   "outputs": [
    {
     "name": "stdout",
     "output_type": "stream",
     "text": [
      "Classification Report of the training data:\n",
      "\n",
      "               precision    recall  f1-score   support\n",
      "\n",
      "           0       1.00      0.90      0.95        20\n",
      "           1       0.89      1.00      0.94        16\n",
      "\n",
      "    accuracy                           0.94        36\n",
      "   macro avg       0.94      0.95      0.94        36\n",
      "weighted avg       0.95      0.94      0.94        36\n",
      " \n",
      "\n",
      "Classification Report of the test data:\n",
      "\n",
      "               precision    recall  f1-score   support\n",
      "\n",
      "           0       1.00      1.00      1.00         5\n",
      "           1       1.00      1.00      1.00         4\n",
      "\n",
      "    accuracy                           1.00         9\n",
      "   macro avg       1.00      1.00      1.00         9\n",
      "weighted avg       1.00      1.00      1.00         9\n",
      " \n",
      "\n"
     ]
    }
   ],
   "source": [
    "print('Classification Report of the training data:\\n\\n',classification_report(y_train,log_ytrain_predict),'\\n')\n",
    "print('Classification Report of the test data:\\n\\n',classification_report(y_test,log_ytest_predict),'\\n')"
   ]
  },
  {
   "cell_type": "code",
   "execution_count": 40,
   "id": "626a5652",
   "metadata": {
    "colab": {
     "base_uri": "https://localhost:8080/",
     "height": 484
    },
    "id": "626a5652",
    "outputId": "684c33ae-98b2-448d-a82f-9ca3345cb87b"
   },
   "outputs": [
    {
     "name": "stdout",
     "output_type": "stream",
     "text": [
      "AUC for the Training Data: 0.981\n",
      "AUC for the Test Data: 1.000\n"
     ]
    },
    {
     "data": {
      "image/png": "[encoded data removed]",
      "text/plain": [
       "<Figure size 640x480 with 1 Axes>"
      ]
     },
     "metadata": {},
     "output_type": "display_data"
    }
   ],
   "source": [
    "# AUC and ROC for the training data\n",
    "\n",
    "# calculate AUC\n",
    "probs = logmodel.predict_proba(X_train)\n",
    "\n",
    "auc = roc_auc_score(y_train,probs[:,1])\n",
    "print('AUC for the Training Data: %.3f' % auc)\n",
    "\n",
    "#  calculate roc curve\n",
    "fpr, tpr, thresholds = roc_curve(y_train,probs[:,1])\n",
    "plt.plot([0, 1], [0, 1], linestyle='--')\n",
    "# plot the roc curve for the model\n",
    "plt.plot(fpr, tpr, marker='.',label = 'Training Data')\n",
    "\n",
    "\n",
    "# AUC and ROC for the test data\n",
    "probs = logmodel.predict_proba(X_test)\n",
    "\n",
    "# calculate AUC\n",
    "auc = roc_auc_score(y_test,probs[:,1])\n",
    "print('AUC for the Test Data: %.3f' % auc)\n",
    "\n",
    "#  calculate roc curve\n",
    "fpr, tpr, thresholds = roc_curve(y_test,probs[:,1])\n",
    "plt.plot([0, 1], [0, 1], linestyle='--')\n",
    "\n",
    "# plot the roc curve for the model\n",
    "plt.plot(fpr, tpr, marker='.',label='Test Data')\n",
    "# show the plot\n",
    "plt.legend(loc='best')\n",
    "plt.xlabel(\"False Positive\")\n",
    "plt.ylabel(\"True Positive\")\n",
    "plt.show()"
   ]
  },
  {
   "cell_type": "markdown",
   "id": "fb2e81b8",
   "metadata": {
    "id": "fb2e81b8"
   },
   "source": [
    "### Storing the coefficient of the model to a csv file"
   ]
  },
  {
   "cell_type": "code",
   "execution_count": 41,
   "id": "a0946e9a",
   "metadata": {
    "id": "a0946e9a"
   },
   "outputs": [],
   "source": [
    "log_fea_imp=pd.DataFrame([logmodel.feature_names_in_,logmodel.coef_]).T\n",
    "log_fea_imp.columns=['AMR_Gene_Features','Coef']\n",
    "log_fea_imp.sort_values(by='Coef',ascending=False,inplace=True)\n",
    "log_fea_imp.to_csv(\"Feature_importance_AMR_Gene_Model_LR.csv\",index=False)"
   ]
  },
  {
   "cell_type": "markdown",
   "id": "4c6070ce",
   "metadata": {
    "id": "4c6070ce"
   },
   "source": [
    "# Decision Tree"
   ]
  },
  {
   "cell_type": "markdown",
   "id": "ed3c13e5",
   "metadata": {
    "id": "ed3c13e5"
   },
   "source": [
    "A Decision Tree is a supervised machine learning algorithm used for both classification and regression tasks. It models decisions based on a series of simple, conditional rules, much like a flowchart"
   ]
  },
  {
   "cell_type": "markdown",
   "id": "6fa53d04",
   "metadata": {
    "id": "6fa53d04"
   },
   "source": [
    "## Hyper parameter tuning for Decision Tree"
   ]
  },
  {
   "cell_type": "code",
   "execution_count": 42,
   "id": "b713b30d",
   "metadata": {
    "colab": {
     "base_uri": "https://localhost:8080/"
    },
    "id": "b713b30d",
    "outputId": "01e18a0b-c547-46a2-aa29-f21246eafc56"
   },
   "outputs": [
    {
     "name": "stdout",
     "output_type": "stream",
     "text": [
      "{'criterion': 'gini', 'max_depth': 2, 'min_samples_leaf': 2, 'min_samples_split': 3} \n",
      "\n",
      "DecisionTreeClassifier(max_depth=2, min_samples_leaf=2, min_samples_split=3,\n",
      "                       random_state=42)\n"
     ]
    }
   ],
   "source": [
    "grid={\n",
    "    'max_depth': np.arange(1, 5), # depth of the tree\n",
    "    'min_samples_split': np.arange(3, 5), # minimum samples required to split an internal node\n",
    "    'min_samples_leaf': np.arange(2, 6), # minimum samples required to be at a leaf node\n",
    "    'criterion':['gini', 'entropy', 'log_loss']\n",
    "     }\n",
    "\n",
    "model = DecisionTreeClassifier(random_state=42)\n",
    "\n",
    "grid_search = GridSearchCV(estimator = model, param_grid = grid, cv = 5)\n",
    "\n",
    "grid_search.fit(X_train, y_train)\n",
    "\n",
    "print(grid_search.best_params_,'\\n')\n",
    "print(grid_search.best_estimator_)"
   ]
  },
  {
   "cell_type": "code",
   "execution_count": 43,
   "id": "e0dc8b2e",
   "metadata": {
    "colab": {
     "base_uri": "https://localhost:8080/"
    },
    "id": "e0dc8b2e",
    "outputId": "d865cd0e-2752-4887-d6ce-70f11f9f9cfb"
   },
   "outputs": [
    {
     "name": "stdout",
     "output_type": "stream",
     "text": [
      "               Train Accuracy  Test accuracy\n",
      "without_hyper        0.944444       0.777778\n",
      "with_hyper           0.916667       0.777778\n"
     ]
    }
   ],
   "source": [
    "DT_without = DecisionTreeClassifier(random_state=42)\n",
    "DT_with = DecisionTreeClassifier(random_state=42, criterion='gini',max_depth=2, \n",
    "                                 min_samples_leaf=2,min_samples_split=3)\n",
    "\n",
    "\n",
    "models=[DT_without,DT_with]\n",
    "\n",
    "scores_train=[]\n",
    "scores_test=[]\n",
    "\n",
    "for i in models:\n",
    "    i.fit(X_train,y_train)\n",
    "    scores_train.append(i.score(X_train,y_train))\n",
    "    scores_test.append(i.score(X_test,y_test))\n",
    "\n",
    "print(pd.DataFrame({'Train Accuracy':scores_train,'Test accuracy':scores_test},index=['without_hyper','with_hyper']))"
   ]
  },
  {
   "cell_type": "code",
   "execution_count": 44,
   "id": "09fb8ffc",
   "metadata": {
    "id": "09fb8ffc"
   },
   "outputs": [],
   "source": [
    "DTmodel = DecisionTreeClassifier(random_state=42, criterion='gini',max_depth=2, \n",
    "                                 min_samples_leaf=2,min_samples_split=3)\n",
    "DTmodel.fit(X_train, y_train)\n",
    "\n",
    "DT_ytrain_predict = DTmodel.predict(X_train)\n",
    "DT_ytest_predict = DTmodel.predict(X_test)"
   ]
  },
  {
   "cell_type": "markdown",
   "id": "cbde03be",
   "metadata": {
    "id": "cbde03be"
   },
   "source": [
    "## To visualize the tree we are creating a dot file using the generated decision tree model\n",
    "\n",
    "Pasting the contents of the generated dot file at  http://webgraphviz.com/"
   ]
  },
  {
   "cell_type": "code",
   "execution_count": 45,
   "id": "ffb93001",
   "metadata": {
    "colab": {
     "base_uri": "https://localhost:8080/"
    },
    "id": "ffb93001",
    "outputId": "7818f6f8-37c9-472f-b845-60dff51b181c"
   },
   "outputs": [
    {
     "data": {
      "text/plain": [
       "array([0, 1])"
      ]
     },
     "execution_count": 45,
     "metadata": {},
     "output_type": "execute_result"
    }
   ],
   "source": [
    "# Visualize the class variables\n",
    "\n",
    "DTmodel.classes_"
   ]
  },
  {
   "cell_type": "code",
   "execution_count": 46,
   "id": "8fa42804",
   "metadata": {
    "id": "8fa42804"
   },
   "outputs": [],
   "source": [
    "from sklearn import tree\n",
    "train_char_label = ['Sus', 'Res']\n",
    "Tree_File = open('visualize_tree.dot','w')\n",
    "dot_data = tree.export_graphviz(DTmodel, out_file=Tree_File, feature_names = list(X_train), class_names = list(train_char_label))\n",
    "Tree_File.close()"
   ]
  },
  {
   "cell_type": "markdown",
   "id": "b01114a3",
   "metadata": {
    "id": "b01114a3"
   },
   "source": [
    "## Confusion Matrix"
   ]
  },
  {
   "cell_type": "code",
   "execution_count": 47,
   "id": "cc120e53",
   "metadata": {
    "colab": {
     "base_uri": "https://localhost:8080/",
     "height": 452
    },
    "id": "cc120e53",
    "outputId": "0ce8414a-a39b-4d52-fec6-ea670554c90a"
   },
   "outputs": [
    {
     "data": {
      "image/png": "[encoded data removed]",
      "text/plain": [
       "<Figure size 640x480 with 4 Axes>"
      ]
     },
     "metadata": {},
     "output_type": "display_data"
    }
   ],
   "source": [
    "f,a =  plt.subplots(1,2,sharex=True,sharey=True,squeeze=False)\n",
    "\n",
    "plot_0 = sns.heatmap((confusion_matrix(y_train,DT_ytrain_predict)),annot=True,fmt='.5g',cmap='Blues',ax=a[0][0]);\n",
    "a[0][0].set_title('Training Data')\n",
    "\n",
    "plot_1 = sns.heatmap((confusion_matrix(y_test,DT_ytest_predict)),annot=True,fmt='.5g',cmap='Blues',ax=a[0][1]);\n",
    "a[0][1].set_title('Test Data');\n"
   ]
  },
  {
   "cell_type": "markdown",
   "id": "6b966dbc",
   "metadata": {
    "id": "6b966dbc"
   },
   "source": [
    "## Classification report"
   ]
  },
  {
   "cell_type": "code",
   "execution_count": 48,
   "id": "dd8df9c8",
   "metadata": {
    "colab": {
     "base_uri": "https://localhost:8080/"
    },
    "id": "dd8df9c8",
    "outputId": "9698bf27-072c-4f13-bc31-ccc5390da885"
   },
   "outputs": [
    {
     "name": "stdout",
     "output_type": "stream",
     "text": [
      "Classification Report of the training data:\n",
      "\n",
      "               precision    recall  f1-score   support\n",
      "\n",
      "           0       0.90      0.95      0.93        20\n",
      "           1       0.93      0.88      0.90        16\n",
      "\n",
      "    accuracy                           0.92        36\n",
      "   macro avg       0.92      0.91      0.92        36\n",
      "weighted avg       0.92      0.92      0.92        36\n",
      " \n",
      "\n",
      "Classification Report of the test data:\n",
      "\n",
      "               precision    recall  f1-score   support\n",
      "\n",
      "           0       0.71      1.00      0.83         5\n",
      "           1       1.00      0.50      0.67         4\n",
      "\n",
      "    accuracy                           0.78         9\n",
      "   macro avg       0.86      0.75      0.75         9\n",
      "weighted avg       0.84      0.78      0.76         9\n",
      " \n",
      "\n"
     ]
    }
   ],
   "source": [
    "print('Classification Report of the training data:\\n\\n',classification_report(y_train,DT_ytrain_predict),'\\n')\n",
    "print('Classification Report of the test data:\\n\\n',classification_report(y_test,DT_ytest_predict),'\\n')"
   ]
  },
  {
   "cell_type": "code",
   "execution_count": 49,
   "id": "71f3537f",
   "metadata": {
    "colab": {
     "base_uri": "https://localhost:8080/",
     "height": 484
    },
    "id": "71f3537f",
    "outputId": "2f37f537-7159-4389-dd32-ebe922c581f4"
   },
   "outputs": [
    {
     "name": "stdout",
     "output_type": "stream",
     "text": [
      "AUC for the Training Data: 0.956\n",
      "AUC for the Test Data: 1.000\n"
     ]
    },
    {
     "data": {
      "image/png": "[encoded data removed]",
      "text/plain": [
       "<Figure size 640x480 with 1 Axes>"
      ]
     },
     "metadata": {},
     "output_type": "display_data"
    }
   ],
   "source": [
    "# AUC and ROC for the training data\n",
    "\n",
    "# calculate AUC\n",
    "probs = DTmodel.predict_proba(X_train)\n",
    "\n",
    "auc = roc_auc_score(y_train,probs[:,1])\n",
    "print('AUC for the Training Data: %.3f' % auc)\n",
    "\n",
    "#  calculate roc curve\n",
    "fpr, tpr, thresholds = roc_curve(y_train,probs[:,1])\n",
    "plt.plot([0, 1], [0, 1], linestyle='--')\n",
    "# plot the roc curve for the model\n",
    "plt.plot(fpr, tpr, marker='.',label = 'Training Data')\n",
    "\n",
    "\n",
    "# AUC and ROC for the test data\n",
    "probs = DTmodel.predict_proba(X_test)\n",
    "\n",
    "# calculate AUC\n",
    "auc = roc_auc_score(y_test,probs[:,1])\n",
    "print('AUC for the Test Data: %.3f' % auc)\n",
    "\n",
    "#  calculate roc curve\n",
    "fpr, tpr, thresholds = roc_curve(y_test,probs[:,1])\n",
    "plt.plot([0, 1], [0, 1], linestyle='--')\n",
    "# plot the roc curve for the model\n",
    "plt.plot(fpr, tpr, marker='.',label='Test Data')\n",
    "# show the plot\n",
    "plt.legend(loc='best')\n",
    "plt.xlabel(\"False Positive\")\n",
    "plt.ylabel(\"True Positive\")\n",
    "plt.show()"
   ]
  },
  {
   "cell_type": "markdown",
   "id": "6bf32bde",
   "metadata": {
    "id": "6bf32bde"
   },
   "source": [
    "### Storing the featue importance of decision tree in csv file"
   ]
  },
  {
   "cell_type": "code",
   "execution_count": 50,
   "id": "fc979fa4",
   "metadata": {
    "id": "fc979fa4"
   },
   "outputs": [],
   "source": [
    "DT_fea_imp=pd.DataFrame([DTmodel.feature_names_in_,DTmodel.feature_importances_]).T\n",
    "DT_fea_imp.columns=['AMR_Gene_Features','Feature_importance']\n",
    "DT_fea_imp.sort_values(by='Feature_importance',ascending=False,inplace=True)\n",
    "DT_fea_imp.to_csv(\"Feature_importance_AMR_Gene_Model_DT.csv\",index=False)"
   ]
  },
  {
   "cell_type": "markdown",
   "id": "c10a44d5",
   "metadata": {
    "id": "c10a44d5"
   },
   "source": [
    "# Random Forest\n",
    "\n",
    "Random Forest is an ensemble learning algorithm that builds multiple decision trees on random subsets of data and features, then combines their outputs (by majority vote or averaging) to improve accuracy and reduce overfitting"
   ]
  },
  {
   "cell_type": "markdown",
   "id": "5590d275",
   "metadata": {
    "id": "5590d275"
   },
   "source": [
    "## Hyper parameter tuning for Random forest"
   ]
  },
  {
   "cell_type": "code",
   "execution_count": 51,
   "id": "b5fdae29",
   "metadata": {
    "colab": {
     "base_uri": "https://localhost:8080/"
    },
    "id": "b5fdae29",
    "outputId": "07a0ce27-a778-48ab-d735-818e3370fe73"
   },
   "outputs": [
    {
     "name": "stdout",
     "output_type": "stream",
     "text": [
      "{'criterion': 'gini', 'max_depth': 6, 'n_estimators': 5} \n",
      "\n",
      "RandomForestClassifier(max_depth=6, n_estimators=5, random_state=42)\n"
     ]
    }
   ],
   "source": [
    "grid={\n",
    "     'criterion':['gini', 'entropy', 'log_loss'],\n",
    "     'n_estimators':np.arange(5,10),\n",
    "     'max_depth':np.arange(5,10)\n",
    "     }\n",
    "\n",
    "model = RandomForestClassifier(random_state=42)\n",
    "\n",
    "grid_search = GridSearchCV(estimator = model, param_grid = grid, cv = 5)\n",
    "\n",
    "grid_search.fit(X_train, y_train)\n",
    "\n",
    "print(grid_search.best_params_,'\\n')\n",
    "print(grid_search.best_estimator_)"
   ]
  },
  {
   "cell_type": "code",
   "execution_count": 52,
   "id": "3ecf6968",
   "metadata": {
    "colab": {
     "base_uri": "https://localhost:8080/"
    },
    "id": "3ecf6968",
    "outputId": "6d5ea9d3-9bad-48b7-d756-8883fe1b6b9a"
   },
   "outputs": [
    {
     "name": "stdout",
     "output_type": "stream",
     "text": [
      "               Train Accuracy  Test accuracy\n",
      "without_hyper        0.944444       1.000000\n",
      "with_hyper           0.944444       0.777778\n"
     ]
    }
   ],
   "source": [
    "RF_without = RandomForestClassifier(random_state=42)\n",
    "RF_with = RandomForestClassifier(random_state=42, criterion='gini',max_depth=6, n_estimators=5)\n",
    "\n",
    "\n",
    "models=[RF_without,RF_with]\n",
    "\n",
    "scores_train=[]\n",
    "scores_test=[]\n",
    "\n",
    "for i in models:\n",
    "    i.fit(X_train,y_train)\n",
    "    scores_train.append(i.score(X_train,y_train))\n",
    "    scores_test.append(i.score(X_test,y_test))\n",
    "\n",
    "print(pd.DataFrame({'Train Accuracy':scores_train,'Test accuracy':scores_test},index=['without_hyper','with_hyper']))"
   ]
  },
  {
   "cell_type": "code",
   "execution_count": 53,
   "id": "b87cf2ba",
   "metadata": {
    "id": "b87cf2ba"
   },
   "outputs": [],
   "source": [
    "RFmodel = RandomForestClassifier(random_state=42, criterion='gini',max_depth=6, n_estimators=5)\n",
    "RFmodel.fit(X_train, y_train)\n",
    "\n",
    "RF_ytrain_predict = RFmodel.predict(X_train)\n",
    "RF_ytest_predict = RFmodel.predict(X_test)"
   ]
  },
  {
   "cell_type": "markdown",
   "id": "d4cf6463",
   "metadata": {
    "id": "d4cf6463"
   },
   "source": [
    "## Confusion Matrix"
   ]
  },
  {
   "cell_type": "code",
   "execution_count": 54,
   "id": "9aee01a8",
   "metadata": {
    "colab": {
     "base_uri": "https://localhost:8080/",
     "height": 452
    },
    "id": "9aee01a8",
    "outputId": "7472cde7-cbce-49c7-ac1b-f9336b366cc4"
   },
   "outputs": [
    {
     "data": {
      "image/png": "[encoded data removed]",
      "text/plain": [
       "<Figure size 640x480 with 4 Axes>"
      ]
     },
     "metadata": {},
     "output_type": "display_data"
    }
   ],
   "source": [
    "f,a =  plt.subplots(1,2,sharex=True,sharey=True,squeeze=False)\n",
    "\n",
    "plot_0 = sns.heatmap((confusion_matrix(y_train,RF_ytrain_predict)),annot=True,fmt='.5g',cmap='Blues',ax=a[0][0]);\n",
    "a[0][0].set_title('Training Data')\n",
    "\n",
    "plot_1 = sns.heatmap((confusion_matrix(y_test,RF_ytest_predict)),annot=True,fmt='.5g',cmap='Blues',ax=a[0][1]);\n",
    "a[0][1].set_title('Test Data');\n"
   ]
  },
  {
   "cell_type": "markdown",
   "id": "2452de08",
   "metadata": {
    "id": "2452de08"
   },
   "source": [
    "## Classification Report"
   ]
  },
  {
   "cell_type": "code",
   "execution_count": 55,
   "id": "dd0765c6",
   "metadata": {
    "colab": {
     "base_uri": "https://localhost:8080/"
    },
    "id": "dd0765c6",
    "outputId": "b9eeda24-f0f4-4ad3-e867-eee179b11b40"
   },
   "outputs": [
    {
     "name": "stdout",
     "output_type": "stream",
     "text": [
      "Classification Report of the training data:\n",
      "\n",
      "               precision    recall  f1-score   support\n",
      "\n",
      "           0       0.95      0.95      0.95        20\n",
      "           1       0.94      0.94      0.94        16\n",
      "\n",
      "    accuracy                           0.94        36\n",
      "   macro avg       0.94      0.94      0.94        36\n",
      "weighted avg       0.94      0.94      0.94        36\n",
      " \n",
      "\n",
      "Classification Report of the test data:\n",
      "\n",
      "               precision    recall  f1-score   support\n",
      "\n",
      "           0       0.71      1.00      0.83         5\n",
      "           1       1.00      0.50      0.67         4\n",
      "\n",
      "    accuracy                           0.78         9\n",
      "   macro avg       0.86      0.75      0.75         9\n",
      "weighted avg       0.84      0.78      0.76         9\n",
      " \n",
      "\n"
     ]
    }
   ],
   "source": [
    "print('Classification Report of the training data:\\n\\n',classification_report(y_train,RF_ytrain_predict),'\\n')\n",
    "print('Classification Report of the test data:\\n\\n',classification_report(y_test,RF_ytest_predict),'\\n')"
   ]
  },
  {
   "cell_type": "code",
   "execution_count": 56,
   "id": "540d2328",
   "metadata": {
    "colab": {
     "base_uri": "https://localhost:8080/",
     "height": 484
    },
    "id": "540d2328",
    "outputId": "fa7b0927-e52d-4627-8952-3dc4bcd89352"
   },
   "outputs": [
    {
     "name": "stdout",
     "output_type": "stream",
     "text": [
      "AUC for the Training Data: 0.994\n",
      "AUC for the Test Data: 1.000\n"
     ]
    },
    {
     "data": {
      "image/png": "[encoded data removed]",
      "text/plain": [
       "<Figure size 640x480 with 1 Axes>"
      ]
     },
     "metadata": {},
     "output_type": "display_data"
    }
   ],
   "source": [
    "# AUC and ROC for the training data\n",
    "\n",
    "# calculate AUC\n",
    "probs = RFmodel.predict_proba(X_train)\n",
    "\n",
    "auc = roc_auc_score(y_train,probs[:,1])\n",
    "print('AUC for the Training Data: %.3f' % auc)\n",
    "\n",
    "#  calculate roc curve\n",
    "fpr, tpr, thresholds = roc_curve(y_train,probs[:,1])\n",
    "plt.plot([0, 1], [0, 1], linestyle='--')\n",
    "# plot the roc curve for the model\n",
    "plt.plot(fpr, tpr, marker='.',label = 'Training Data')\n",
    "\n",
    "\n",
    "# AUC and ROC for the test data\n",
    "probs = RFmodel.predict_proba(X_test)\n",
    "\n",
    "# calculate AUC\n",
    "auc = roc_auc_score(y_test,probs[:,1])\n",
    "print('AUC for the Test Data: %.3f' % auc)\n",
    "\n",
    "#  calculate roc curve\n",
    "fpr, tpr, thresholds = roc_curve(y_test,probs[:,1])\n",
    "plt.plot([0, 1], [0, 1], linestyle='--')\n",
    "# plot the roc curve for the model\n",
    "plt.plot(fpr, tpr, marker='.',label='Test Data')\n",
    "# show the plot\n",
    "plt.legend(loc='best')\n",
    "plt.xlabel(\"False Positive\")\n",
    "plt.ylabel(\"True Positive\")\n",
    "plt.show()"
   ]
  },
  {
   "cell_type": "markdown",
   "id": "bbfc63c8",
   "metadata": {
    "id": "bbfc63c8"
   },
   "source": [
    "### Storing the feature importance of the random forest in csv file"
   ]
  },
  {
   "cell_type": "code",
   "execution_count": 57,
   "id": "248378bb",
   "metadata": {
    "id": "248378bb"
   },
   "outputs": [],
   "source": [
    "RF_fea_imp=pd.DataFrame([RFmodel.feature_names_in_,RFmodel.feature_importances_]).T\n",
    "RF_fea_imp.columns=['AMR_Gene_Features','Feature_importance']\n",
    "RF_fea_imp.sort_values(by='Feature_importance',ascending=False,inplace=True)\n",
    "RF_fea_imp.to_csv(\"Feature_importance_AMR_Gene_Model_RF.csv\",index=False)"
   ]
  },
  {
   "cell_type": "markdown",
   "id": "046660ce",
   "metadata": {
    "id": "046660ce"
   },
   "source": [
    "# SVC"
   ]
  },
  {
   "cell_type": "markdown",
   "id": "510a98c0",
   "metadata": {
    "id": "510a98c0"
   },
   "source": [
    "## Hyper parameter tuning for SVC"
   ]
  },
  {
   "cell_type": "code",
   "execution_count": 58,
   "id": "b1d3fe23",
   "metadata": {
    "colab": {
     "base_uri": "https://localhost:8080/"
    },
    "id": "b1d3fe23",
    "outputId": "b58554dc-c083-4c11-e4d5-c714204c7289"
   },
   "outputs": [
    {
     "name": "stdout",
     "output_type": "stream",
     "text": [
      "{'C': 0.31000000000000005, 'kernel': 'linear'} \n",
      "\n",
      "SVC(C=0.31000000000000005, kernel='linear', random_state=42)\n"
     ]
    }
   ],
   "source": [
    "grid={'C':  np.arange(0.01,1,0.1),\n",
    "    'kernel': ['linear', 'poly', 'rbf', 'sigmoid']\n",
    "     }\n",
    "\n",
    "model = svm.SVC(random_state=42)\n",
    "\n",
    "grid_search = GridSearchCV(estimator = model, param_grid = grid, cv = 5)\n",
    "\n",
    "grid_search.fit(X_train, y_train)\n",
    "\n",
    "print(grid_search.best_params_,'\\n')\n",
    "print(grid_search.best_estimator_)"
   ]
  },
  {
   "cell_type": "code",
   "execution_count": 59,
   "id": "ba4c3af1",
   "metadata": {
    "colab": {
     "base_uri": "https://localhost:8080/"
    },
    "id": "ba4c3af1",
    "outputId": "33fbad1a-44f3-4e40-c2b4-4f1fa6079161"
   },
   "outputs": [
    {
     "name": "stdout",
     "output_type": "stream",
     "text": [
      "               Train Accuracy  Test accuracy\n",
      "without_hyper        0.944444       1.000000\n",
      "with_hyper           0.944444       0.888889\n"
     ]
    }
   ],
   "source": [
    "SVC_without = svm.SVC(random_state=42)\n",
    "SVC_with = svm.SVC(C=0.3,kernel='linear',random_state=42)\n",
    "\n",
    "\n",
    "models=[SVC_without,SVC_with]\n",
    "\n",
    "scores_train=[]\n",
    "scores_test=[]\n",
    "\n",
    "for i in models:\n",
    "    i.fit(X_train,y_train)\n",
    "    scores_train.append(i.score(X_train,y_train))\n",
    "    scores_test.append(i.score(X_test,y_test))\n",
    "\n",
    "print(pd.DataFrame({'Train Accuracy':scores_train,'Test accuracy':scores_test},index=['without_hyper','with_hyper']))"
   ]
  },
  {
   "cell_type": "code",
   "execution_count": 60,
   "id": "1050e94c",
   "metadata": {
    "id": "1050e94c"
   },
   "outputs": [],
   "source": [
    "SVCmodel = svm.SVC(C=0.3,kernel='linear',random_state=42,probability=True)\n",
    "SVCmodel.fit(X_train, y_train)\n",
    "\n",
    "SVC_ytrain_predict = SVCmodel.predict(X_train)\n",
    "SVC_ytest_predict = SVCmodel.predict(X_test)"
   ]
  },
  {
   "cell_type": "markdown",
   "id": "b00534cb",
   "metadata": {
    "id": "b00534cb"
   },
   "source": [
    "## Confusion Matrix"
   ]
  },
  {
   "cell_type": "code",
   "execution_count": 61,
   "id": "f707ddb0",
   "metadata": {
    "colab": {
     "base_uri": "https://localhost:8080/",
     "height": 452
    },
    "id": "f707ddb0",
    "outputId": "1cec45f9-1e93-4711-db3a-f3351e90153b"
   },
   "outputs": [
    {
     "data": {
      "image/png": "[encoded data removed]",
      "text/plain": [
       "<Figure size 640x480 with 4 Axes>"
      ]
     },
     "metadata": {},
     "output_type": "display_data"
    }
   ],
   "source": [
    "f,a =  plt.subplots(1,2,sharex=True,sharey=True,squeeze=False)\n",
    "\n",
    "plot_0 = sns.heatmap((confusion_matrix(y_train,SVC_ytrain_predict)),annot=True,fmt='.5g',cmap='Blues',ax=a[0][0]);\n",
    "a[0][0].set_title('Training Data')\n",
    "\n",
    "plot_1 = sns.heatmap((confusion_matrix(y_test,SVC_ytest_predict)),annot=True,fmt='.5g',cmap='Blues',ax=a[0][1]);\n",
    "a[0][1].set_title('Test Data');\n"
   ]
  },
  {
   "cell_type": "markdown",
   "id": "d096d75f",
   "metadata": {
    "id": "d096d75f"
   },
   "source": [
    "## Classification Report"
   ]
  },
  {
   "cell_type": "code",
   "execution_count": 62,
   "id": "c8431b85",
   "metadata": {
    "colab": {
     "base_uri": "https://localhost:8080/"
    },
    "id": "c8431b85",
    "outputId": "5f855efc-8dba-4b07-804c-4df72a0866dd"
   },
   "outputs": [
    {
     "name": "stdout",
     "output_type": "stream",
     "text": [
      "Classification Report of the training data:\n",
      "\n",
      "               precision    recall  f1-score   support\n",
      "\n",
      "           0       1.00      0.90      0.95        20\n",
      "           1       0.89      1.00      0.94        16\n",
      "\n",
      "    accuracy                           0.94        36\n",
      "   macro avg       0.94      0.95      0.94        36\n",
      "weighted avg       0.95      0.94      0.94        36\n",
      " \n",
      "\n",
      "Classification Report of the test data:\n",
      "\n",
      "               precision    recall  f1-score   support\n",
      "\n",
      "           0       0.83      1.00      0.91         5\n",
      "           1       1.00      0.75      0.86         4\n",
      "\n",
      "    accuracy                           0.89         9\n",
      "   macro avg       0.92      0.88      0.88         9\n",
      "weighted avg       0.91      0.89      0.89         9\n",
      " \n",
      "\n"
     ]
    }
   ],
   "source": [
    "print('Classification Report of the training data:\\n\\n',classification_report(y_train,SVC_ytrain_predict),'\\n')\n",
    "print('Classification Report of the test data:\\n\\n',classification_report(y_test,SVC_ytest_predict),'\\n')"
   ]
  },
  {
   "cell_type": "code",
   "execution_count": 63,
   "id": "c3727a9c",
   "metadata": {
    "colab": {
     "base_uri": "https://localhost:8080/",
     "height": 484
    },
    "id": "c3727a9c",
    "outputId": "22b6ecfe-760a-498b-dcc8-7a2f18122f83"
   },
   "outputs": [
    {
     "name": "stdout",
     "output_type": "stream",
     "text": [
      "AUC for the Training Data: 0.987\n",
      "AUC for the Test Data: 1.000\n"
     ]
    },
    {
     "data": {
      "image/png": "[encoded data removed]",
      "text/plain": [
       "<Figure size 640x480 with 1 Axes>"
      ]
     },
     "metadata": {},
     "output_type": "display_data"
    }
   ],
   "source": [
    "# AUC and ROC for the training data\n",
    "\n",
    "# calculate AUC\n",
    "probs = SVCmodel.predict_proba(X_train)\n",
    "\n",
    "auc = roc_auc_score(y_train,probs[:,1])\n",
    "print('AUC for the Training Data: %.3f' % auc)\n",
    "\n",
    "#  calculate roc curve\n",
    "fpr, tpr, thresholds = roc_curve(y_train,probs[:,1])\n",
    "plt.plot([0, 1], [0, 1], linestyle='--')\n",
    "# plot the roc curve for the model\n",
    "plt.plot(fpr, tpr, marker='.',label = 'Training Data')\n",
    "\n",
    "\n",
    "# AUC and ROC for the test data\n",
    "probs = SVCmodel.predict_proba(X_test)\n",
    "\n",
    "# calculate AUC\n",
    "auc = roc_auc_score(y_test,probs[:,1])\n",
    "print('AUC for the Test Data: %.3f' % auc)\n",
    "\n",
    "#  calculate roc curve\n",
    "fpr, tpr, thresholds = roc_curve(y_test,probs[:,1])\n",
    "plt.plot([0, 1], [0, 1], linestyle='--')\n",
    "# plot the roc curve for the model\n",
    "plt.plot(fpr, tpr, marker='.',label='Test Data')\n",
    "# show the plot\n",
    "plt.legend(loc='best')\n",
    "plt.xlabel(\"False Positive\")\n",
    "plt.ylabel(\"True Positive\")\n",
    "plt.show()"
   ]
  },
  {
   "cell_type": "markdown",
   "id": "f64cdc03",
   "metadata": {
    "id": "f64cdc03"
   },
   "source": [
    "### Storing the coefficient of the SVC in a csv file"
   ]
  },
  {
   "cell_type": "code",
   "execution_count": 64,
   "id": "badcfd27",
   "metadata": {
    "id": "badcfd27"
   },
   "outputs": [],
   "source": [
    "svm_coef=pd.DataFrame([SVCmodel.feature_names_in_,SVCmodel.coef_.flatten()]).T\n",
    "svm_coef.head()\n",
    "svm_coef.columns=['GENE','Coef']\n",
    "svm_coef.sort_values(by='Coef',ascending=False,inplace=True)\n",
    "svm_coef.head()\n",
    "svm_coef.to_csv(\"Feature_importance_AMR_Gene_Model_SVM.csv\",index=False)"
   ]
  },
  {
   "cell_type": "code",
   "execution_count": null,
   "id": "1Tl--NXu8CGE",
   "metadata": {
    "id": "1Tl--NXu8CGE"
   },
   "outputs": [],
   "source": []
  },
  {
   "cell_type": "markdown",
   "id": "5f5bc049",
   "metadata": {
    "id": "5f5bc049"
   },
   "source": [
    "# XGboost"
   ]
  },
  {
   "cell_type": "markdown",
   "id": "97362cad",
   "metadata": {
    "id": "97362cad"
   },
   "source": [
    "## Hyper parameter tuning for Xgboost"
   ]
  },
  {
   "cell_type": "code",
   "execution_count": 65,
   "id": "beb03002",
   "metadata": {
    "colab": {
     "base_uri": "https://localhost:8080/"
    },
    "id": "beb03002",
    "outputId": "096313b0-aa69-4007-d0da-efc6162fe06b"
   },
   "outputs": [
    {
     "name": "stdout",
     "output_type": "stream",
     "text": [
      "{'learning_rate': 0.060000000000000005, 'max_depth': 3, 'n_estimators': 4} \n",
      "\n",
      "XGBClassifier(base_score=None, booster=None, callbacks=None,\n",
      "              colsample_bylevel=None, colsample_bynode=None,\n",
      "              colsample_bytree=None, device=None, early_stopping_rounds=None,\n",
      "              enable_categorical=False, eval_metric=None, feature_types=None,\n",
      "              gamma=None, grow_policy=None, importance_type=None,\n",
      "              interaction_constraints=None, learning_rate=0.060000000000000005,\n",
      "              max_bin=None, max_cat_threshold=None, max_cat_to_onehot=None,\n",
      "              max_delta_step=None, max_depth=3, max_leaves=None,\n",
      "              min_child_weight=None, missing=nan, monotone_constraints=None,\n",
      "              multi_strategy=None, n_estimators=4, n_jobs=None,\n",
      "              num_parallel_tree=None, random_state=42, ...)\n"
     ]
    }
   ],
   "source": [
    "grid={\"learning_rate\": np.arange(0.01,0.1,0.01),\n",
    "    \"max_depth\": np.arange(3,5),\n",
    "    \"n_estimators\":np.arange(3,5)\n",
    "     }\n",
    "\n",
    "model = xgb.XGBClassifier(random_state=42)\n",
    "\n",
    "grid_search = GridSearchCV(estimator = model, param_grid = grid, cv = 5)\n",
    "\n",
    "grid_search.fit(X_train, y_train)\n",
    "\n",
    "print(grid_search.best_params_,'\\n')\n",
    "print(grid_search.best_estimator_)"
   ]
  },
  {
   "cell_type": "code",
   "execution_count": 66,
   "id": "7bb924a9",
   "metadata": {
    "colab": {
     "base_uri": "https://localhost:8080/"
    },
    "id": "7bb924a9",
    "outputId": "3cfef026-f37d-4038-ca01-fb9d2d139bd5"
   },
   "outputs": [
    {
     "name": "stdout",
     "output_type": "stream",
     "text": [
      "               Train Accuracy  Test accuracy\n",
      "without_hyper        0.944444       0.888889\n",
      "with_hyper           0.916667       0.777778\n"
     ]
    }
   ],
   "source": [
    "XGB_without = xgb.XGBClassifier(random_state=42)\n",
    "XGB_with = xgb.XGBClassifier(learning_rate=0.06,max_depth=3,n_estimators= 4,random_state=42)\n",
    "\n",
    "\n",
    "models=[XGB_without,XGB_with]\n",
    "\n",
    "scores_train=[]\n",
    "scores_test=[]\n",
    "\n",
    "for i in models:\n",
    "    i.fit(X_train,y_train)\n",
    "    scores_train.append(i.score(X_train,y_train))\n",
    "    scores_test.append(i.score(X_test,y_test))\n",
    "\n",
    "print(pd.DataFrame({'Train Accuracy':scores_train,'Test accuracy':scores_test},index=['without_hyper','with_hyper']))"
   ]
  },
  {
   "cell_type": "code",
   "execution_count": 67,
   "id": "c3536481",
   "metadata": {
    "id": "c3536481"
   },
   "outputs": [],
   "source": [
    "XGBmodel = xgb.XGBClassifier(learning_rate=0.06,max_depth=3,n_estimators= 4,random_state=42)\n",
    "XGBmodel.fit(X_train, y_train)\n",
    "\n",
    "XGB_ytrain_predict = XGBmodel.predict(X_train)\n",
    "XGB_ytest_predict = XGBmodel.predict(X_test)"
   ]
  },
  {
   "cell_type": "markdown",
   "id": "5a5be3f7",
   "metadata": {
    "id": "5a5be3f7"
   },
   "source": [
    "## Confusion Matrix"
   ]
  },
  {
   "cell_type": "code",
   "execution_count": 68,
   "id": "644f0979",
   "metadata": {
    "colab": {
     "base_uri": "https://localhost:8080/",
     "height": 452
    },
    "id": "644f0979",
    "outputId": "91d8e0db-264b-4c6c-cc44-6c30fbf3fff2"
   },
   "outputs": [
    {
     "data": {
      "image/png": "[encoded data removed]",
      "text/plain": [
       "<Figure size 640x480 with 4 Axes>"
      ]
     },
     "metadata": {},
     "output_type": "display_data"
    }
   ],
   "source": [
    "f,a =  plt.subplots(1,2,sharex=True,sharey=True,squeeze=False)\n",
    "\n",
    "plot_0 = sns.heatmap((confusion_matrix(y_train,XGB_ytrain_predict)),annot=True,fmt='.5g',cmap='Blues',ax=a[0][0]);\n",
    "a[0][0].set_title('Training Data')\n",
    "\n",
    "plot_1 = sns.heatmap((confusion_matrix(y_test,XGB_ytest_predict)),annot=True,fmt='.5g',cmap='Blues',ax=a[0][1]);\n",
    "a[0][1].set_title('Test Data');\n"
   ]
  },
  {
   "cell_type": "markdown",
   "id": "0548adad",
   "metadata": {
    "id": "0548adad"
   },
   "source": [
    "## Classification Report"
   ]
  },
  {
   "cell_type": "code",
   "execution_count": 69,
   "id": "6956fbf9",
   "metadata": {
    "colab": {
     "base_uri": "https://localhost:8080/"
    },
    "id": "6956fbf9",
    "outputId": "149c02a8-b575-4152-f44e-337c253ccbbd"
   },
   "outputs": [
    {
     "name": "stdout",
     "output_type": "stream",
     "text": [
      "Classification Report of the training data:\n",
      "\n",
      "               precision    recall  f1-score   support\n",
      "\n",
      "           0       0.90      0.95      0.93        20\n",
      "           1       0.93      0.88      0.90        16\n",
      "\n",
      "    accuracy                           0.92        36\n",
      "   macro avg       0.92      0.91      0.92        36\n",
      "weighted avg       0.92      0.92      0.92        36\n",
      " \n",
      "\n",
      "Classification Report of the test data:\n",
      "\n",
      "               precision    recall  f1-score   support\n",
      "\n",
      "           0       0.71      1.00      0.83         5\n",
      "           1       1.00      0.50      0.67         4\n",
      "\n",
      "    accuracy                           0.78         9\n",
      "   macro avg       0.86      0.75      0.75         9\n",
      "weighted avg       0.84      0.78      0.76         9\n",
      " \n",
      "\n"
     ]
    }
   ],
   "source": [
    "print('Classification Report of the training data:\\n\\n',classification_report(y_train,XGB_ytrain_predict),'\\n')\n",
    "print('Classification Report of the test data:\\n\\n',classification_report(y_test,XGB_ytest_predict),'\\n')"
   ]
  },
  {
   "cell_type": "code",
   "execution_count": 70,
   "id": "57c692ae",
   "metadata": {
    "colab": {
     "base_uri": "https://localhost:8080/",
     "height": 484
    },
    "id": "57c692ae",
    "outputId": "4a60884a-7703-4387-fa98-f4c1ef5815e7"
   },
   "outputs": [
    {
     "name": "stdout",
     "output_type": "stream",
     "text": [
      "AUC for the Training Data: 0.956\n",
      "AUC for the Test Data: 1.000\n"
     ]
    },
    {
     "data": {
      "image/png": "[encoded data removed]",
      "text/plain": [
       "<Figure size 640x480 with 1 Axes>"
      ]
     },
     "metadata": {},
     "output_type": "display_data"
    }
   ],
   "source": [
    "# AUC and ROC for the training data\n",
    "\n",
    "# calculate AUC\n",
    "probs = XGBmodel.predict_proba(X_train)\n",
    "\n",
    "auc = roc_auc_score(y_train,probs[:,1])\n",
    "print('AUC for the Training Data: %.3f' % auc)\n",
    "\n",
    "#  calculate roc curve\n",
    "fpr, tpr, thresholds = roc_curve(y_train,probs[:,1])\n",
    "plt.plot([0, 1], [0, 1], linestyle='--')\n",
    "# plot the roc curve for the model\n",
    "plt.plot(fpr, tpr, marker='.',label = 'Training Data')\n",
    "\n",
    "\n",
    "# AUC and ROC for the test data\n",
    "probs = XGBmodel.predict_proba(X_test)\n",
    "\n",
    "# calculate AUC\n",
    "auc = roc_auc_score(y_test,probs[:,1])\n",
    "print('AUC for the Test Data: %.3f' % auc)\n",
    "\n",
    "#  calculate roc curve\n",
    "fpr, tpr, thresholds = roc_curve(y_test,probs[:,1])\n",
    "plt.plot([0, 1], [0, 1], linestyle='--')\n",
    "# plot the roc curve for the model\n",
    "plt.plot(fpr, tpr, marker='.',label='Test Data')\n",
    "# show the plot\n",
    "plt.legend(loc='best')\n",
    "plt.xlabel(\"False Positive\")\n",
    "plt.ylabel(\"True Positive\")\n",
    "plt.show()"
   ]
  },
  {
   "cell_type": "markdown",
   "id": "ec76bc3f",
   "metadata": {
    "id": "ec76bc3f"
   },
   "source": [
    "### Storing the coefficient of the Xgboost in a csv file"
   ]
  },
  {
   "cell_type": "code",
   "execution_count": 71,
   "id": "5947432b",
   "metadata": {
    "id": "5947432b"
   },
   "outputs": [],
   "source": [
    "xgb_fea_imp=pd.DataFrame([XGBmodel.feature_names_in_,XGBmodel.feature_importances_]).T\n",
    "xgb_fea_imp.columns=['AMR_Gene_Features','Feature_importance']\n",
    "xgb_fea_imp.sort_values(by='Feature_importance',ascending=False,inplace=True)\n",
    "xgb_fea_imp.to_csv(\"Feature_importance_AMR_Gene_Model_XGB.csv\",index=False)"
   ]
  },
  {
   "cell_type": "markdown",
   "id": "177939c8",
   "metadata": {
    "id": "177939c8"
   },
   "source": [
    "## Comparing Model Performance Based on Accuracy"
   ]
  },
  {
   "cell_type": "markdown",
   "id": "1937b204",
   "metadata": {
    "id": "1937b204"
   },
   "source": [
    "Here we are creating variables which holds accuracy of both train and test dataset for five different models and visualizing the accuracies using a bar plot from matplotlib library"
   ]
  },
  {
   "cell_type": "code",
   "execution_count": 72,
   "id": "f10d300e",
   "metadata": {
    "id": "f10d300e"
   },
   "outputs": [],
   "source": [
    "# Creating a dataframe which holds the accuracy value of train and test\n",
    "\n",
    "train_LR=logmodel.score(X_train,y_train)\n",
    "test_LR=logmodel.score(X_test,y_test)\n",
    "df1=pd.DataFrame([train_LR,test_LR]).T\n",
    "\n",
    "train_DT=DTmodel.score(X_train,y_train)\n",
    "test_DT=DTmodel.score(X_test,y_test)\n",
    "df2=pd.DataFrame([train_DT,test_DT]).T\n",
    "\n",
    "\n",
    "train_RF=RFmodel.score(X_train,y_train)\n",
    "test_RF=RFmodel.score(X_test,y_test)\n",
    "df3=pd.DataFrame([train_RF,test_RF]).T\n",
    "\n",
    "train_SVC=SVCmodel.score(X_train,y_train)\n",
    "test_SVC=SVCmodel.score(X_test,y_test)\n",
    "df4=pd.DataFrame([train_SVC,test_SVC]).T\n",
    "\n",
    "train_XGB=XGBmodel.score(X_train,y_train)\n",
    "test_XGB=XGBmodel.score(X_test,y_test)\n",
    "df5=pd.DataFrame([train_XGB,test_XGB]).T\n"
   ]
  },
  {
   "cell_type": "code",
   "execution_count": 73,
   "id": "99d10950",
   "metadata": {
    "id": "99d10950"
   },
   "outputs": [],
   "source": [
    "# Concatinating all the dataframes\n",
    "\n",
    "combined_df = pd.concat([df1,df2,df3,df4,df5], ignore_index=False)"
   ]
  },
  {
   "cell_type": "code",
   "execution_count": 74,
   "id": "dfa6c556",
   "metadata": {
    "id": "dfa6c556"
   },
   "outputs": [],
   "source": [
    "# Renaming the indexes and columns\n",
    "\n",
    "combined_df.index=['LR','DT','RF','SVM','XGB']\n",
    "combined_df.columns=['Train', 'Test']"
   ]
  },
  {
   "cell_type": "code",
   "execution_count": 75,
   "id": "7922a735",
   "metadata": {
    "colab": {
     "base_uri": "https://localhost:8080/",
     "height": 507
    },
    "id": "7922a735",
    "outputId": "30369b1c-84b8-4b1f-b0b5-d9b79f17bfb7"
   },
   "outputs": [
    {
     "data": {
      "image/png": "[encoded data removed]",
      "text/plain": [
       "<Figure size 800x500 with 1 Axes>"
      ]
     },
     "metadata": {},
     "output_type": "display_data"
    }
   ],
   "source": [
    "# Plotting the results for analysis\n",
    "\n",
    "ax = combined_df.plot(kind=\"bar\", figsize=(8,5))\n",
    "\n",
    "plt.ylabel(\"Accuracy\")\n",
    "plt.xlabel(\"Model\")\n",
    "plt.title(\"Train vs Test Accuracy\")\n",
    "plt.xticks(rotation=0)\n",
    "plt.legend(title=\"Dataset\", bbox_to_anchor=(1, 1))\n",
    "\n",
    "# Annotate each bar with its value\n",
    "for container in ax.containers:\n",
    "    ax.bar_label(container, fmt=\"%.2f\",  fontsize=9)\n",
    "\n",
    "plt.tight_layout()\n",
    "plt.show()"
   ]
  },
  {
   "cell_type": "markdown",
   "id": "c1f0f25e",
   "metadata": {
    "id": "c1f0f25e"
   },
   "source": [
    "On analyzing based on accuracy <b>SVM</b> model is considered to be a better performing with lower differnce in the accuracy between the training and testing data. Inconsideration with this we are obtaining the top 5 features of SVM model for biological annotation"
   ]
  },
  {
   "cell_type": "code",
   "execution_count": null,
   "id": "8d500b0a",
   "metadata": {
    "id": "8d500b0a"
   },
   "outputs": [],
   "source": []
  }
 ],
 "metadata": {
  "colab": {
   "provenance": []
  },
  "kernelspec": {
   "display_name": "Python 3 (ipykernel)",
   "language": "python",
   "name": "python3"
  },
  "language_info": {
   "codemirror_mode": {
    "name": "ipython",
    "version": 3
   },
   "file_extension": ".py",
   "mimetype": "text/x-python",
   "name": "python",
   "nbconvert_exporter": "python",
   "pygments_lexer": "ipython3",
   "version": "3.11.4"
  }
 },
 "nbformat": 4,
 "nbformat_minor": 5
}
