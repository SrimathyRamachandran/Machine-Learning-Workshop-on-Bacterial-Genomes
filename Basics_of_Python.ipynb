{
  "nbformat": 4,
  "nbformat_minor": 0,
  "metadata": {
    "colab": {
      "provenance": []
    },
    "kernelspec": {
      "name": "python3",
      "display_name": "Python 3"
    },
    "language_info": {
      "name": "python"
    }
  },
  "cells": [
    {
      "cell_type": "code",
      "execution_count": null,
      "metadata": {
        "colab": {
          "base_uri": "https://localhost:8080/"
        },
        "id": "UFB3UONyGY7Q",
        "outputId": "c5ef0b7c-519f-489f-f643-a2d7ec4b713b"
      },
      "outputs": [
        {
          "output_type": "stream",
          "name": "stdout",
          "text": [
            "<class 'str'>\n",
            "<class 'int'>\n",
            "<class 'float'>\n",
            "<class 'tuple'>\n"
          ]
        }
      ],
      "source": [
        "# Assignment and datatype check\n",
        "x = \"Hello World\"\n",
        "y = 10\n",
        "z = 3.5\n",
        "fruits = (\"apple\", \"banana\", \"cherry\")\n",
        "\n",
        "print(type(x))\n",
        "print(type(y))\n",
        "print(type(z))\n",
        "print(type(fruits))"
      ]
    },
    {
      "cell_type": "code",
      "source": [
        "# Create a list of 5 numbers\n",
        "numbers = [10, 20, 30, 40, 50]\n",
        "\n",
        "# 1. Print the first and last element\n",
        "print(\"First:\", numbers[0])\n",
        "print(\"Last:\", numbers[-1])\n",
        "\n",
        "# 2. Add a new number 60\n",
        "numbers.append(60)\n",
        "print(\"After append:\", numbers)\n",
        "\n",
        "# 3. Remove 30 from the list\n",
        "numbers.remove(30)\n",
        "print(\"After removing 30:\", numbers)\n",
        "\n",
        "# 4. Find the sum of all numbers\n",
        "print(\"Sum:\", sum(numbers))\n"
      ],
      "metadata": {
        "colab": {
          "base_uri": "https://localhost:8080/"
        },
        "id": "M_CHYM-rG9ac",
        "outputId": "3b5e27f8-36be-4c5c-fc4f-8e0805255650"
      },
      "execution_count": null,
      "outputs": [
        {
          "output_type": "stream",
          "name": "stdout",
          "text": [
            "First: 10\n",
            "Last: 50\n",
            "After append: [10, 20, 30, 40, 50, 60]\n",
            "After removing 30: [10, 20, 40, 50, 60]\n",
            "Sum: 180\n"
          ]
        }
      ]
    },
    {
      "cell_type": "code",
      "source": [
        "# Create a dictionary of student info\n",
        "student = {\n",
        "    \"name\": \"Alice\",\n",
        "    \"age\": 21,\n",
        "    \"city\": \"New York\"\n",
        "}\n",
        "\n",
        "# 1. Print name\n",
        "print(\"Name:\", student[\"name\"])\n",
        "\n",
        "# 2. Change age to 22\n",
        "student[\"age\"] = 22\n",
        "print(\"Updated student:\", student)\n",
        "\n",
        "# 3. Add a new key: grade = \"A\"\n",
        "student[\"grade\"] = \"A\"\n",
        "print(\"After adding grade:\", student)\n",
        "\n",
        "# 4. Get all keys\n",
        "print(\"Keys:\", student.keys())\n"
      ],
      "metadata": {
        "colab": {
          "base_uri": "https://localhost:8080/"
        },
        "id": "zsUWaF-zH6zq",
        "outputId": "23224d3c-6f3e-4251-d085-d8a9a700724e"
      },
      "execution_count": null,
      "outputs": [
        {
          "output_type": "stream",
          "name": "stdout",
          "text": [
            "Name: Alice\n",
            "Updated student: {'name': 'Alice', 'age': 22, 'city': 'New York'}\n",
            "After adding grade: {'name': 'Alice', 'age': 22, 'city': 'New York', 'grade': 'A'}\n",
            "Keys: dict_keys(['name', 'age', 'city', 'grade'])\n"
          ]
        }
      ]
    },
    {
      "cell_type": "code",
      "source": [
        "import numpy as np\n",
        "\n",
        "# Create an array\n",
        "arr = np.array([1, 2, 3, 4, 5])\n",
        "print(\"Array:\", arr)\n",
        "\n",
        "# Basic operations\n",
        "print(\"Sum:\", np.sum(arr))\n",
        "print(\"Mean:\", np.mean(arr))\n",
        "print(\"Max:\", np.max(arr))\n",
        "print(\"Min:\", np.min(arr))\n",
        "\n",
        "# 2D array (matrix)\n",
        "matrix = np.array([[1, 2], [3, 4]])\n",
        "print(\"Matrix:\\n\", matrix)\n",
        "print(\"Transpose:\\n\", matrix.T)\n"
      ],
      "metadata": {
        "colab": {
          "base_uri": "https://localhost:8080/"
        },
        "id": "lgq306tMH62L",
        "outputId": "fd3fd309-7118-448c-d197-135502334831"
      },
      "execution_count": null,
      "outputs": [
        {
          "output_type": "stream",
          "name": "stdout",
          "text": [
            "Array: [1 2 3 4 5]\n",
            "Sum: 15\n",
            "Mean: 3.0\n",
            "Max: 5\n",
            "Min: 1\n",
            "Matrix:\n",
            " [[1 2]\n",
            " [3 4]]\n",
            "Transpose:\n",
            " [[1 3]\n",
            " [2 4]]\n"
          ]
        }
      ]
    },
    {
      "cell_type": "code",
      "source": [
        "import numpy as np\n",
        "\n",
        "# Power function (x^y)\n",
        "print(\"2^3 =\", np.power(2, 3))\n",
        "\n",
        "# Square root\n",
        "print(\"Square root of 16 =\", np.sqrt(16))\n",
        "\n",
        "# Exponential (e^x)\n",
        "print(\"e^2 =\", np.exp(2))\n",
        "\n",
        "# Logarithm (natural log, base e)\n",
        "print(\"ln(10) =\", np.log(10))\n",
        "\n",
        "# Trigonometric functions\n",
        "print(\"sin(90) =\", np.sin(np.pi/2))\n",
        "print(\"cos(0) =\", np.cos(0))\n",
        "print(\"tan(45) =\", np.tan(np.pi/4))\n",
        "\n",
        "# Absolute value\n",
        "print(\"Absolute of -5 =\", np.abs(-5))\n"
      ],
      "metadata": {
        "colab": {
          "base_uri": "https://localhost:8080/"
        },
        "id": "jnsXOHmtH64n",
        "outputId": "f99beb2a-3207-4373-f4ab-e25914328206"
      },
      "execution_count": null,
      "outputs": [
        {
          "output_type": "stream",
          "name": "stdout",
          "text": [
            "2^3 = 8\n",
            "Square root of 16 = 4.0\n",
            "e^2 = 7.38905609893065\n",
            "ln(10) = 2.302585092994046\n",
            "sin(90) = 1.0\n",
            "cos(0) = 1.0\n",
            "tan(45) = 0.9999999999999999\n",
            "Absolute of -5 = 5\n"
          ]
        }
      ]
    },
    {
      "cell_type": "code",
      "source": [],
      "metadata": {
        "id": "3GWxD9ADH67V"
      },
      "execution_count": null,
      "outputs": []
    },
    {
      "cell_type": "code",
      "source": [
        "import pandas as pd\n",
        "\n",
        "# Create a DataFrame (like a table)\n",
        "data = {\n",
        "    \"Name\": [\"Alice\", \"Bob\", \"Charlie\"],\n",
        "    \"Age\": [21, 25, 30],\n",
        "    \"City\": [\"New York\", \"London\", \"Paris\"]\n",
        "}\n",
        "\n",
        "df = pd.DataFrame(data)\n",
        "\n",
        "print(\"Aveage age is \",round(df[\"Age\"].mean(),3))\n",
        "\n",
        "# Save to CSV\n",
        "df.to_csv(\"people.csv\", index=False)\n",
        "print(\"CSV file written!\")\n",
        "\n",
        "# Read back from CSV\n",
        "df2 = pd.read_csv(\"people.csv\")\n",
        "print(df2)"
      ],
      "metadata": {
        "colab": {
          "base_uri": "https://localhost:8080/"
        },
        "id": "soEOcqFHH69y",
        "outputId": "b81b7970-fe11-40be-9447-51cdfa892f8b"
      },
      "execution_count": null,
      "outputs": [
        {
          "output_type": "stream",
          "name": "stdout",
          "text": [
            "Aveage age is  25.333\n",
            "CSV file written!\n",
            "      Name  Age      City\n",
            "0    Alice   21  New York\n",
            "1      Bob   25    London\n",
            "2  Charlie   30     Paris\n"
          ]
        }
      ]
    },
    {
      "cell_type": "code",
      "source": [
        "import matplotlib.pyplot as plt\n",
        "\n",
        "# Simple bar plot of Age vs Name\n",
        "plt.bar(df[\"Name\"], df[\"Age\"], color=\"skyblue\")\n",
        "\n",
        "plt.title(\"Age of People\")   # Title\n",
        "plt.xlabel(\"Name\")           # X-axis label\n",
        "plt.ylabel(\"Age\")            # Y-axis label\n",
        "plt.show()\n"
      ],
      "metadata": {
        "colab": {
          "base_uri": "https://localhost:8080/",
          "height": 472
        },
        "id": "IWE3aCRHH7Bb",
        "outputId": "af4d7dad-b6e7-4ab7-f714-7737a74a833f"
      },
      "execution_count": null,
      "outputs": [
        {
          "output_type": "display_data",
          "data": {
            "text/plain": [
              "<Figure size 640x480 with 1 Axes>"
            ],
            "image/png": "[encoded data removed]"
          },
          "metadata": {}
        }
      ]
    },
    {
      "cell_type": "code",
      "source": [],
      "metadata": {
        "id": "PNbQcrQRQyKZ"
      },
      "execution_count": null,
      "outputs": []
    }
  ]
}